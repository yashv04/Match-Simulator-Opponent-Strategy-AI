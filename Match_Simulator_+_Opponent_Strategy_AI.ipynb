{
  "nbformat": 4,
  "nbformat_minor": 0,
  "metadata": {
    "colab": {
      "provenance": [],
      "authorship_tag": "ABX9TyO7RWlen5jI94tmIA6fo8Yi",
      "include_colab_link": true
    },
    "kernelspec": {
      "name": "python3",
      "display_name": "Python 3"
    },
    "language_info": {
      "name": "python"
    },
    "widgets": {
      "application/vnd.jupyter.widget-state+json": {
        "4259c413a3894d7e99781ee6ac16f482": {
          "model_module": "@jupyter-widgets/controls",
          "model_name": "DropdownModel",
          "model_module_version": "1.5.0",
          "state": {
            "_dom_classes": [],
            "_model_module": "@jupyter-widgets/controls",
            "_model_module_version": "1.5.0",
            "_model_name": "DropdownModel",
            "_options_labels": [
              "Wankhede",
              "Chepauk",
              "Chinnaswamy"
            ],
            "_view_count": null,
            "_view_module": "@jupyter-widgets/controls",
            "_view_module_version": "1.5.0",
            "_view_name": "DropdownView",
            "description": "Venue:",
            "description_tooltip": null,
            "disabled": false,
            "index": 2,
            "layout": "IPY_MODEL_f2c6b7b6c3a343d3a3553ef681174ab8",
            "style": "IPY_MODEL_46d73ecc54644fd182eb3166ca4e3ee2"
          }
        },
        "f2c6b7b6c3a343d3a3553ef681174ab8": {
          "model_module": "@jupyter-widgets/base",
          "model_name": "LayoutModel",
          "model_module_version": "1.2.0",
          "state": {
            "_model_module": "@jupyter-widgets/base",
            "_model_module_version": "1.2.0",
            "_model_name": "LayoutModel",
            "_view_count": null,
            "_view_module": "@jupyter-widgets/base",
            "_view_module_version": "1.2.0",
            "_view_name": "LayoutView",
            "align_content": null,
            "align_items": null,
            "align_self": null,
            "border": null,
            "bottom": null,
            "display": null,
            "flex": null,
            "flex_flow": null,
            "grid_area": null,
            "grid_auto_columns": null,
            "grid_auto_flow": null,
            "grid_auto_rows": null,
            "grid_column": null,
            "grid_gap": null,
            "grid_row": null,
            "grid_template_areas": null,
            "grid_template_columns": null,
            "grid_template_rows": null,
            "height": null,
            "justify_content": null,
            "justify_items": null,
            "left": null,
            "margin": null,
            "max_height": null,
            "max_width": null,
            "min_height": null,
            "min_width": null,
            "object_fit": null,
            "object_position": null,
            "order": null,
            "overflow": null,
            "overflow_x": null,
            "overflow_y": null,
            "padding": null,
            "right": null,
            "top": null,
            "visibility": null,
            "width": null
          }
        },
        "46d73ecc54644fd182eb3166ca4e3ee2": {
          "model_module": "@jupyter-widgets/controls",
          "model_name": "DescriptionStyleModel",
          "model_module_version": "1.5.0",
          "state": {
            "_model_module": "@jupyter-widgets/controls",
            "_model_module_version": "1.5.0",
            "_model_name": "DescriptionStyleModel",
            "_view_count": null,
            "_view_module": "@jupyter-widgets/base",
            "_view_module_version": "1.2.0",
            "_view_name": "StyleView",
            "description_width": ""
          }
        },
        "d8e81f4e26924e1ea3a1f5ae2f2f5f78": {
          "model_module": "@jupyter-widgets/controls",
          "model_name": "DropdownModel",
          "model_module_version": "1.5.0",
          "state": {
            "_dom_classes": [],
            "_model_module": "@jupyter-widgets/controls",
            "_model_module_version": "1.5.0",
            "_model_name": "DropdownModel",
            "_options_labels": [
              "bat",
              "field"
            ],
            "_view_count": null,
            "_view_module": "@jupyter-widgets/controls",
            "_view_module_version": "1.5.0",
            "_view_name": "DropdownView",
            "description": "Toss Decision:",
            "description_tooltip": null,
            "disabled": false,
            "index": 0,
            "layout": "IPY_MODEL_1e089c0ca0634b2d83953a8956721db2",
            "style": "IPY_MODEL_85e2c17a00744ad2bf0fefb7c4957d6f"
          }
        },
        "1e089c0ca0634b2d83953a8956721db2": {
          "model_module": "@jupyter-widgets/base",
          "model_name": "LayoutModel",
          "model_module_version": "1.2.0",
          "state": {
            "_model_module": "@jupyter-widgets/base",
            "_model_module_version": "1.2.0",
            "_model_name": "LayoutModel",
            "_view_count": null,
            "_view_module": "@jupyter-widgets/base",
            "_view_module_version": "1.2.0",
            "_view_name": "LayoutView",
            "align_content": null,
            "align_items": null,
            "align_self": null,
            "border": null,
            "bottom": null,
            "display": null,
            "flex": null,
            "flex_flow": null,
            "grid_area": null,
            "grid_auto_columns": null,
            "grid_auto_flow": null,
            "grid_auto_rows": null,
            "grid_column": null,
            "grid_gap": null,
            "grid_row": null,
            "grid_template_areas": null,
            "grid_template_columns": null,
            "grid_template_rows": null,
            "height": null,
            "justify_content": null,
            "justify_items": null,
            "left": null,
            "margin": null,
            "max_height": null,
            "max_width": null,
            "min_height": null,
            "min_width": null,
            "object_fit": null,
            "object_position": null,
            "order": null,
            "overflow": null,
            "overflow_x": null,
            "overflow_y": null,
            "padding": null,
            "right": null,
            "top": null,
            "visibility": null,
            "width": null
          }
        },
        "85e2c17a00744ad2bf0fefb7c4957d6f": {
          "model_module": "@jupyter-widgets/controls",
          "model_name": "DescriptionStyleModel",
          "model_module_version": "1.5.0",
          "state": {
            "_model_module": "@jupyter-widgets/controls",
            "_model_module_version": "1.5.0",
            "_model_name": "DescriptionStyleModel",
            "_view_count": null,
            "_view_module": "@jupyter-widgets/base",
            "_view_module_version": "1.2.0",
            "_view_name": "StyleView",
            "description_width": ""
          }
        },
        "42619196cad640f8844af0a0bd35484d": {
          "model_module": "@jupyter-widgets/controls",
          "model_name": "SelectMultipleModel",
          "model_module_version": "1.5.0",
          "state": {
            "_dom_classes": [],
            "_model_module": "@jupyter-widgets/controls",
            "_model_module_version": "1.5.0",
            "_model_name": "SelectMultipleModel",
            "_options_labels": [
              "CH Gayle",
              "AB de Villiers",
              "GJ Maxwell"
            ],
            "_view_count": null,
            "_view_module": "@jupyter-widgets/controls",
            "_view_module_version": "1.5.0",
            "_view_name": "SelectMultipleView",
            "description": "Team 1 Lineup:",
            "description_tooltip": null,
            "disabled": false,
            "index": [],
            "layout": "IPY_MODEL_e267098f12ad4fba9ea9d7d9a753bf59",
            "rows": 5,
            "style": "IPY_MODEL_b864e2b77c1c4325b8a7bcc1070c3b6b"
          }
        },
        "e267098f12ad4fba9ea9d7d9a753bf59": {
          "model_module": "@jupyter-widgets/base",
          "model_name": "LayoutModel",
          "model_module_version": "1.2.0",
          "state": {
            "_model_module": "@jupyter-widgets/base",
            "_model_module_version": "1.2.0",
            "_model_name": "LayoutModel",
            "_view_count": null,
            "_view_module": "@jupyter-widgets/base",
            "_view_module_version": "1.2.0",
            "_view_name": "LayoutView",
            "align_content": null,
            "align_items": null,
            "align_self": null,
            "border": null,
            "bottom": null,
            "display": null,
            "flex": null,
            "flex_flow": null,
            "grid_area": null,
            "grid_auto_columns": null,
            "grid_auto_flow": null,
            "grid_auto_rows": null,
            "grid_column": null,
            "grid_gap": null,
            "grid_row": null,
            "grid_template_areas": null,
            "grid_template_columns": null,
            "grid_template_rows": null,
            "height": null,
            "justify_content": null,
            "justify_items": null,
            "left": null,
            "margin": null,
            "max_height": null,
            "max_width": null,
            "min_height": null,
            "min_width": null,
            "object_fit": null,
            "object_position": null,
            "order": null,
            "overflow": null,
            "overflow_x": null,
            "overflow_y": null,
            "padding": null,
            "right": null,
            "top": null,
            "visibility": null,
            "width": null
          }
        },
        "b864e2b77c1c4325b8a7bcc1070c3b6b": {
          "model_module": "@jupyter-widgets/controls",
          "model_name": "DescriptionStyleModel",
          "model_module_version": "1.5.0",
          "state": {
            "_model_module": "@jupyter-widgets/controls",
            "_model_module_version": "1.5.0",
            "_model_name": "DescriptionStyleModel",
            "_view_count": null,
            "_view_module": "@jupyter-widgets/base",
            "_view_module_version": "1.2.0",
            "_view_name": "StyleView",
            "description_width": ""
          }
        },
        "8865391e39d347e3a58e720ff6b79922": {
          "model_module": "@jupyter-widgets/controls",
          "model_name": "SelectMultipleModel",
          "model_module_version": "1.5.0",
          "state": {
            "_dom_classes": [],
            "_model_module": "@jupyter-widgets/controls",
            "_model_module_version": "1.5.0",
            "_model_name": "SelectMultipleModel",
            "_options_labels": [
              "DJ Bravo",
              "JR Hazlewood",
              "MJ Santner"
            ],
            "_view_count": null,
            "_view_module": "@jupyter-widgets/controls",
            "_view_module_version": "1.5.0",
            "_view_name": "SelectMultipleView",
            "description": "Team 2 Lineup:",
            "description_tooltip": null,
            "disabled": false,
            "index": [],
            "layout": "IPY_MODEL_f65175d2c5b945f68953f8a61f45fd0d",
            "rows": 5,
            "style": "IPY_MODEL_be30bfcd00f143c681aeaa9553d7817c"
          }
        },
        "f65175d2c5b945f68953f8a61f45fd0d": {
          "model_module": "@jupyter-widgets/base",
          "model_name": "LayoutModel",
          "model_module_version": "1.2.0",
          "state": {
            "_model_module": "@jupyter-widgets/base",
            "_model_module_version": "1.2.0",
            "_model_name": "LayoutModel",
            "_view_count": null,
            "_view_module": "@jupyter-widgets/base",
            "_view_module_version": "1.2.0",
            "_view_name": "LayoutView",
            "align_content": null,
            "align_items": null,
            "align_self": null,
            "border": null,
            "bottom": null,
            "display": null,
            "flex": null,
            "flex_flow": null,
            "grid_area": null,
            "grid_auto_columns": null,
            "grid_auto_flow": null,
            "grid_auto_rows": null,
            "grid_column": null,
            "grid_gap": null,
            "grid_row": null,
            "grid_template_areas": null,
            "grid_template_columns": null,
            "grid_template_rows": null,
            "height": null,
            "justify_content": null,
            "justify_items": null,
            "left": null,
            "margin": null,
            "max_height": null,
            "max_width": null,
            "min_height": null,
            "min_width": null,
            "object_fit": null,
            "object_position": null,
            "order": null,
            "overflow": null,
            "overflow_x": null,
            "overflow_y": null,
            "padding": null,
            "right": null,
            "top": null,
            "visibility": null,
            "width": null
          }
        },
        "be30bfcd00f143c681aeaa9553d7817c": {
          "model_module": "@jupyter-widgets/controls",
          "model_name": "DescriptionStyleModel",
          "model_module_version": "1.5.0",
          "state": {
            "_model_module": "@jupyter-widgets/controls",
            "_model_module_version": "1.5.0",
            "_model_name": "DescriptionStyleModel",
            "_view_count": null,
            "_view_module": "@jupyter-widgets/base",
            "_view_module_version": "1.2.0",
            "_view_name": "StyleView",
            "description_width": ""
          }
        },
        "6796d06aa6e448a885c903f1fc998a7e": {
          "model_module": "@jupyter-widgets/controls",
          "model_name": "ButtonModel",
          "model_module_version": "1.5.0",
          "state": {
            "_dom_classes": [],
            "_model_module": "@jupyter-widgets/controls",
            "_model_module_version": "1.5.0",
            "_model_name": "ButtonModel",
            "_view_count": null,
            "_view_module": "@jupyter-widgets/controls",
            "_view_module_version": "1.5.0",
            "_view_name": "ButtonView",
            "button_style": "",
            "description": "Simulate Match",
            "disabled": false,
            "icon": "",
            "layout": "IPY_MODEL_660e59304cde48358a387c0b04c80a4b",
            "style": "IPY_MODEL_049998975d4d41b090af10368fa85d47",
            "tooltip": ""
          }
        },
        "660e59304cde48358a387c0b04c80a4b": {
          "model_module": "@jupyter-widgets/base",
          "model_name": "LayoutModel",
          "model_module_version": "1.2.0",
          "state": {
            "_model_module": "@jupyter-widgets/base",
            "_model_module_version": "1.2.0",
            "_model_name": "LayoutModel",
            "_view_count": null,
            "_view_module": "@jupyter-widgets/base",
            "_view_module_version": "1.2.0",
            "_view_name": "LayoutView",
            "align_content": null,
            "align_items": null,
            "align_self": null,
            "border": null,
            "bottom": null,
            "display": null,
            "flex": null,
            "flex_flow": null,
            "grid_area": null,
            "grid_auto_columns": null,
            "grid_auto_flow": null,
            "grid_auto_rows": null,
            "grid_column": null,
            "grid_gap": null,
            "grid_row": null,
            "grid_template_areas": null,
            "grid_template_columns": null,
            "grid_template_rows": null,
            "height": null,
            "justify_content": null,
            "justify_items": null,
            "left": null,
            "margin": null,
            "max_height": null,
            "max_width": null,
            "min_height": null,
            "min_width": null,
            "object_fit": null,
            "object_position": null,
            "order": null,
            "overflow": null,
            "overflow_x": null,
            "overflow_y": null,
            "padding": null,
            "right": null,
            "top": null,
            "visibility": null,
            "width": null
          }
        },
        "049998975d4d41b090af10368fa85d47": {
          "model_module": "@jupyter-widgets/controls",
          "model_name": "ButtonStyleModel",
          "model_module_version": "1.5.0",
          "state": {
            "_model_module": "@jupyter-widgets/controls",
            "_model_module_version": "1.5.0",
            "_model_name": "ButtonStyleModel",
            "_view_count": null,
            "_view_module": "@jupyter-widgets/base",
            "_view_module_version": "1.2.0",
            "_view_name": "StyleView",
            "button_color": null,
            "font_weight": ""
          }
        },
        "c61c2912fa764e1db95ccb659bf67b36": {
          "model_module": "@jupyter-widgets/output",
          "model_name": "OutputModel",
          "model_module_version": "1.0.0",
          "state": {
            "_dom_classes": [],
            "_model_module": "@jupyter-widgets/output",
            "_model_module_version": "1.0.0",
            "_model_name": "OutputModel",
            "_view_count": null,
            "_view_module": "@jupyter-widgets/output",
            "_view_module_version": "1.0.0",
            "_view_name": "OutputView",
            "layout": "IPY_MODEL_e7cdf8e728b648f2a67d9785e67f6ff2",
            "msg_id": "",
            "outputs": []
          }
        },
        "e7cdf8e728b648f2a67d9785e67f6ff2": {
          "model_module": "@jupyter-widgets/base",
          "model_name": "LayoutModel",
          "model_module_version": "1.2.0",
          "state": {
            "_model_module": "@jupyter-widgets/base",
            "_model_module_version": "1.2.0",
            "_model_name": "LayoutModel",
            "_view_count": null,
            "_view_module": "@jupyter-widgets/base",
            "_view_module_version": "1.2.0",
            "_view_name": "LayoutView",
            "align_content": null,
            "align_items": null,
            "align_self": null,
            "border": null,
            "bottom": null,
            "display": null,
            "flex": null,
            "flex_flow": null,
            "grid_area": null,
            "grid_auto_columns": null,
            "grid_auto_flow": null,
            "grid_auto_rows": null,
            "grid_column": null,
            "grid_gap": null,
            "grid_row": null,
            "grid_template_areas": null,
            "grid_template_columns": null,
            "grid_template_rows": null,
            "height": null,
            "justify_content": null,
            "justify_items": null,
            "left": null,
            "margin": null,
            "max_height": null,
            "max_width": null,
            "min_height": null,
            "min_width": null,
            "object_fit": null,
            "object_position": null,
            "order": null,
            "overflow": null,
            "overflow_x": null,
            "overflow_y": null,
            "padding": null,
            "right": null,
            "top": null,
            "visibility": null,
            "width": null
          }
        }
      }
    }
  },
  "cells": [
    {
      "cell_type": "markdown",
      "metadata": {
        "id": "view-in-github",
        "colab_type": "text"
      },
      "source": [
        "<a href=\"https://colab.research.google.com/github/yashv04/Match-Simulator-Opponent-Strategy-AI/blob/main/Match_Simulator_%2B_Opponent_Strategy_AI.ipynb\" target=\"_parent\"><img src=\"https://colab.research.google.com/assets/colab-badge.svg\" alt=\"Open In Colab\"/></a>"
      ]
    },
    {
      "cell_type": "markdown",
      "source": [
        "#Implement ball-by-ball match simulator (Markov Chains)."
      ],
      "metadata": {
        "id": "vN0F4C5SVGFw"
      }
    },
    {
      "cell_type": "code",
      "source": [
        "import pandas as pd\n",
        "import numpy as np\n",
        "import matplotlib.pyplot as plt\n",
        "import math\n",
        "import random\n",
        "import warnings\n",
        "warnings.filterwarnings('ignore')"
      ],
      "metadata": {
        "id": "T7DNyq8eplx1"
      },
      "execution_count": 1,
      "outputs": []
    },
    {
      "cell_type": "code",
      "source": [
        "deliveries = pd.read_csv('deliveries_updated_mens_ipl.csv')\n",
        "matches = pd.read_csv('matches_updated_mens_ipl.csv')"
      ],
      "metadata": {
        "id": "VZYChclMVUVy"
      },
      "execution_count": 2,
      "outputs": []
    },
    {
      "cell_type": "code",
      "source": [
        "df = deliveries.copy()\n",
        "df = df.rename(columns = {'matchId' : 'match_id', 'batsman_runs' : 'runs_off_bat', 'dismissal_kind': 'wicket_type'})"
      ],
      "metadata": {
        "collapsed": true,
        "id": "vo6pf-S3Oc7c"
      },
      "execution_count": 3,
      "outputs": []
    },
    {
      "cell_type": "code",
      "source": [
        "# Step 1: Feature Engineering\n",
        "df['ball_number'] = df['over'] * 6 + df['ball'] - 1\n",
        "df['is_wicket'] = df['wicket_type'].notnull().astype(int)\n",
        "df['runs_cumsum'] = df.groupby('match_id')['runs_off_bat'].cumsum()\n",
        "df['wickets_cumsum'] = df.groupby('match_id')['is_wicket'].cumsum()"
      ],
      "metadata": {
        "id": "LTiEE_jQTG0b"
      },
      "execution_count": 4,
      "outputs": []
    },
    {
      "cell_type": "code",
      "source": [
        "# Step 2: Create next state columns\n",
        "df['next_runs'] = df['runs_cumsum'].shift(-1)\n",
        "df['next_wickets'] = df['wickets_cumsum'].shift(-1)\n",
        "df['next_ball'] = df['ball_number'].shift(-1)\n",
        "df['next_match_id'] = df['match_id'].shift(-1)\n",
        "df = df[df['match_id'] == df['next_match_id']]\n",
        "df.dropna(subset=['next_runs', 'next_wickets', 'next_ball'], inplace=True)"
      ],
      "metadata": {
        "id": "rGoWY8Q0TG6v"
      },
      "execution_count": 5,
      "outputs": []
    },
    {
      "cell_type": "code",
      "source": [
        "# Step 3: Build Markov Chain transitions\n",
        "state_transitions = {}\n",
        "for _, row in df.iterrows():\n",
        "    current_state = (int(row['runs_cumsum']), int(row['wickets_cumsum']), int(row['ball_number']))\n",
        "    next_state = (int(row['next_runs']), int(row['next_wickets']), int(row['next_ball']))\n",
        "    if current_state not in state_transitions:\n",
        "        state_transitions[current_state] = []\n",
        "    state_transitions[current_state].append(next_state)\n",
        "\n",
        "# Step 4: Convert transitions to probabilities\n",
        "for state, transitions in state_transitions.items():\n",
        "    unique_transitions = list(set(transitions))\n",
        "    probabilities = [transitions.count(t) / len(transitions) for t in unique_transitions]\n",
        "    state_transitions[state] = (unique_transitions, probabilities)"
      ],
      "metadata": {
        "id": "bcRtNXTCTHAt"
      },
      "execution_count": 6,
      "outputs": []
    },
    {
      "cell_type": "code",
      "source": [
        "# Step 5: Simulation function\n",
        "def simulate_match(start_state=(0, 0, 0), max_balls=120):\n",
        "    current_state = start_state\n",
        "    match_states = [current_state]\n",
        "    while current_state[2] < max_balls and current_state[1] < 10:\n",
        "        if current_state in state_transitions:\n",
        "            next_states, probabilities = state_transitions[current_state]\n",
        "            current_state = random.choices(next_states, probabilities)[0]\n",
        "            match_states.append(current_state)\n",
        "        else:\n",
        "            break\n",
        "    return match_states"
      ],
      "metadata": {
        "id": "v1PruBqLTHHD"
      },
      "execution_count": 7,
      "outputs": []
    },
    {
      "cell_type": "code",
      "source": [
        "simulated_match = simulate_match(start_state=(0, 0, 0))\n",
        "simulated_df = pd.DataFrame(simulated_match, columns=['Runs', 'Wickets', 'Balls'])\n",
        "\n",
        "# Output: Last 10 states\n",
        "print(simulated_df.tail(10))"
      ],
      "metadata": {
        "colab": {
          "base_uri": "https://localhost:8080/"
        },
        "id": "ybtnjkLrTHN_",
        "outputId": "9ed4e28f-f2ca-494f-b21c-df60f4b5e278"
      },
      "execution_count": 119,
      "outputs": [
        {
          "output_type": "stream",
          "name": "stdout",
          "text": [
            "     Runs  Wickets  Balls\n",
            "115   154        5    111\n",
            "116   155        5    112\n",
            "117   156        5    113\n",
            "118   160        5    114\n",
            "119   166        5    115\n",
            "120   167        5    116\n",
            "121   173        5    117\n",
            "122   179        5    118\n",
            "123   180        5    119\n",
            "124   180        6    120\n"
          ]
        }
      ]
    },
    {
      "cell_type": "markdown",
      "source": [
        "#Enhancing the Cricket Match Simulator"
      ],
      "metadata": {
        "id": "tibTCfnWVVId"
      }
    },
    {
      "cell_type": "code",
      "source": [
        "# Modify state transitions to include venue & opponent factors\n",
        "venue_factors = {'Wankhede': 1.1, 'Chepauk': 0.9, 'Chinnaswamy': 1.2}  # Adjust run probabilities\n",
        "bowler_types = {'Pace': 1.0, 'Spin': 0.8}  # Reduce runs against spin"
      ],
      "metadata": {
        "id": "BXWsCWFxVVLV"
      },
      "execution_count": 9,
      "outputs": []
    },
    {
      "cell_type": "code",
      "source": [
        "def adjust_probabilities(state, next_states, probabilities, venue, bowler_type):\n",
        "    # Modify run probabilities based on venue\n",
        "    venue_factor = venue_factors.get(venue, 1.0)\n",
        "    bowler_factor = bowler_types.get(bowler_type, 1.0)\n",
        "\n",
        "    adjusted_probabilities = [\n",
        "        prob * venue_factor * bowler_factor for prob in probabilities\n",
        "    ]\n",
        "    # Normalize to ensure sum = 1\n",
        "    adjusted_probabilities = np.array(adjusted_probabilities) / sum(adjusted_probabilities)\n",
        "    return adjusted_probabilities"
      ],
      "metadata": {
        "id": "v362yz63VVOM"
      },
      "execution_count": 10,
      "outputs": []
    },
    {
      "source": [
        "def simulate_match_with_factors(start_state=(0, 0, 0), venue='Wankhede', bowler_type='Pace'):\n",
        "    current_state = start_state\n",
        "    match_states = [current_state]\n",
        "\n",
        "\n",
        "    while current_state[2] < 120 and current_state[1] < 10:\n",
        "        if current_state in state_transitions:\n",
        "            next_states, probabilities = state_transitions[current_state]\n",
        "            probabilities = adjust_probabilities(current_state, next_states, probabilities, venue, bowler_type)\n",
        "\n",
        "            # Ensure next state's ball number doesn't exceed 120 and is unique\n",
        "            valid_next_states = [state for state in next_states\n",
        "                                 if state[2] <= 120 and state[2] > current_state[2]]\n",
        "            if valid_next_states:\n",
        "                # Adjust probabilities for valid states\n",
        "                valid_probabilities = [probabilities[next_states.index(state)] for state in valid_next_states]\n",
        "                # Normalize probabilities\n",
        "                valid_probabilities = np.array(valid_probabilities) / sum(valid_probabilities)\n",
        "\n",
        "                current_state = random.choices(valid_next_states, valid_probabilities)[0]\n",
        "                match_states.append(current_state)\n",
        "            else:\n",
        "                break  # No valid next states, end simulation\n",
        "        else:\n",
        "            break  # Current state not found in transitions, end simulation\n",
        "\n",
        "    return match_states"
      ],
      "cell_type": "code",
      "metadata": {
        "id": "fRWtqrsX-i0f"
      },
      "execution_count": 130,
      "outputs": []
    },
    {
      "cell_type": "code",
      "source": [
        "# Run enhanced simulation\n",
        "simulated_match = simulate_match_with_factors(venue='Wankhede', bowler_type='Pace')\n",
        "\n",
        "# Convert to DataFrame for visualization\n",
        "simulated_df = pd.DataFrame(simulated_match, columns=['Runs', 'Wickets', 'Balls'])"
      ],
      "metadata": {
        "id": "psBt1lRxVVUb"
      },
      "execution_count": 131,
      "outputs": []
    },
    {
      "cell_type": "markdown",
      "source": [
        "#Visualizing the Simulation Progress"
      ],
      "metadata": {
        "id": "yehumYANVVXa"
      }
    },
    {
      "cell_type": "code",
      "source": [
        "import matplotlib.pyplot as plt\n",
        "\n",
        "# Plot Runs Progression\n",
        "plt.figure(figsize=(10, 5))\n",
        "plt.plot(simulated_df['Balls'], simulated_df['Runs'], label='Runs Scored', color='blue')\n",
        "plt.xlabel('Balls')\n",
        "plt.ylabel('Runs')\n",
        "plt.title('Match Progression - Runs vs Balls')\n",
        "plt.legend()\n",
        "plt.show()\n",
        "\n",
        "# Plot Wickets Progression\n",
        "plt.figure(figsize=(10, 5))\n",
        "plt.plot(simulated_df['Balls'], simulated_df['Wickets'], label='Wickets Lost', color='red')\n",
        "plt.xlabel('Balls')\n",
        "plt.ylabel('Wickets')\n",
        "plt.title('Match Progression - Wickets vs Balls')\n",
        "plt.legend()\n",
        "plt.show()"
      ],
      "metadata": {
        "colab": {
          "base_uri": "https://localhost:8080/",
          "height": 957
        },
        "id": "D5aFaAt6VVcf",
        "outputId": "81959d7f-2174-47cf-cf73-11c23a4aa89e"
      },
      "execution_count": 120,
      "outputs": [
        {
          "output_type": "display_data",
          "data": {
            "text/plain": [
              "<Figure size 1000x500 with 1 Axes>"
            ],
            "image/png": "[encoded data removed]"
          },
          "metadata": {}
        },
        {
          "output_type": "display_data",
          "data": {
            "text/plain": [
              "<Figure size 1000x500 with 1 Axes>"
            ],
            "image/png": "[encoded data removed]"
          },
          "metadata": {}
        }
      ]
    },
    {
      "cell_type": "markdown",
      "source": [
        "#Add Match Phases: Powerplay, Middle, Death Overs"
      ],
      "metadata": {
        "id": "1CRMYFs1VVtA"
      }
    },
    {
      "cell_type": "code",
      "source": [
        "def get_phase(ball_number):\n",
        "    over = ball_number // 6\n",
        "    if over < 6:\n",
        "        return 'Powerplay'\n",
        "    elif over < 16:\n",
        "        return 'Middle'\n",
        "    else:\n",
        "        return 'Death'\n",
        "\n",
        "phase_factors = {\n",
        "    'Powerplay': 1.1,\n",
        "    'Middle': 1.0,\n",
        "    'Death': 1.3\n",
        "}\n",
        "\n",
        "def adjust_probabilities_with_phase(state, next_states, probabilities, venue, bowler_type):\n",
        "    venue_factor = venue_factors.get(venue, 1.0)\n",
        "    bowler_factor = bowler_types.get(bowler_type, 1.0)\n",
        "    phase = get_phase(state[2])\n",
        "    phase_factor = phase_factors.get(phase, 1.0)\n",
        "\n",
        "    adjusted_probabilities = [\n",
        "        prob * venue_factor * bowler_factor * phase_factor for prob in probabilities\n",
        "    ]\n",
        "    adjusted_probabilities = np.array(adjusted_probabilities) / sum(adjusted_probabilities)\n",
        "    return adjusted_probabilities"
      ],
      "metadata": {
        "id": "cjjRFYPyVVvJ"
      },
      "execution_count": 123,
      "outputs": []
    },
    {
      "cell_type": "code",
      "source": [
        "#Dynamic Bowling Changes + Strategy AI\n",
        "\n",
        "def get_bowler_type(over):\n",
        "    if over < 6 or over > 16:\n",
        "        return 'Pace'\n",
        "    else:\n",
        "        return 'Spin'"
      ],
      "metadata": {
        "id": "SWNKtNzHVVxi"
      },
      "execution_count": 124,
      "outputs": []
    },
    {
      "cell_type": "code",
      "source": [
        "# Display Match Summary\n",
        "final_state = simulated_df.iloc[-1]\n",
        "total_runs = final_state['Runs']\n",
        "total_wickets = final_state['Wickets']\n",
        "total_overs = final_state['Balls'] // 6 + (final_state['Balls'] % 6) / 10\n",
        "\n",
        "print(f\"Match Summary:\")\n",
        "print(f\"Total: {total_runs}/{total_wickets} in {total_overs:.1f} overs\")\n",
        "print(f\"Run Rate: {total_runs / (final_state['Balls'] / 6):.2f}\")"
      ],
      "metadata": {
        "colab": {
          "base_uri": "https://localhost:8080/"
        },
        "id": "KnoVm2OqVV0j",
        "outputId": "8b9b5d6c-1968-4be7-d4da-aade5d56a18e"
      },
      "execution_count": 125,
      "outputs": [
        {
          "output_type": "stream",
          "name": "stdout",
          "text": [
            "Match Summary:\n",
            "Total: 180/6 in 20.0 overs\n",
            "Run Rate: 9.00\n"
          ]
        }
      ]
    },
    {
      "cell_type": "code",
      "source": [
        "#Save Results & Visualize\n",
        "simulated_df.to_csv('simulated_match_output.csv', index=False)"
      ],
      "metadata": {
        "id": "1fS0_ZFtVV3K"
      },
      "execution_count": 126,
      "outputs": []
    },
    {
      "cell_type": "code",
      "source": [
        "pip install seaborn plotly"
      ],
      "metadata": {
        "colab": {
          "base_uri": "https://localhost:8080/"
        },
        "collapsed": true,
        "id": "8cuD1ywHVWAF",
        "outputId": "1a3043b7-e6e1-4681-db4d-07232d5345f2"
      },
      "execution_count": 20,
      "outputs": [
        {
          "output_type": "stream",
          "name": "stdout",
          "text": [
            "Requirement already satisfied: seaborn in /usr/local/lib/python3.11/dist-packages (0.13.2)\n",
            "Requirement already satisfied: plotly in /usr/local/lib/python3.11/dist-packages (5.24.1)\n",
            "Requirement already satisfied: numpy!=1.24.0,>=1.20 in /usr/local/lib/python3.11/dist-packages (from seaborn) (2.0.2)\n",
            "Requirement already satisfied: pandas>=1.2 in /usr/local/lib/python3.11/dist-packages (from seaborn) (2.2.2)\n",
            "Requirement already satisfied: matplotlib!=3.6.1,>=3.4 in /usr/local/lib/python3.11/dist-packages (from seaborn) (3.10.0)\n",
            "Requirement already satisfied: tenacity>=6.2.0 in /usr/local/lib/python3.11/dist-packages (from plotly) (9.1.2)\n",
            "Requirement already satisfied: packaging in /usr/local/lib/python3.11/dist-packages (from plotly) (24.2)\n",
            "Requirement already satisfied: contourpy>=1.0.1 in /usr/local/lib/python3.11/dist-packages (from matplotlib!=3.6.1,>=3.4->seaborn) (1.3.1)\n",
            "Requirement already satisfied: cycler>=0.10 in /usr/local/lib/python3.11/dist-packages (from matplotlib!=3.6.1,>=3.4->seaborn) (0.12.1)\n",
            "Requirement already satisfied: fonttools>=4.22.0 in /usr/local/lib/python3.11/dist-packages (from matplotlib!=3.6.1,>=3.4->seaborn) (4.57.0)\n",
            "Requirement already satisfied: kiwisolver>=1.3.1 in /usr/local/lib/python3.11/dist-packages (from matplotlib!=3.6.1,>=3.4->seaborn) (1.4.8)\n",
            "Requirement already satisfied: pillow>=8 in /usr/local/lib/python3.11/dist-packages (from matplotlib!=3.6.1,>=3.4->seaborn) (11.1.0)\n",
            "Requirement already satisfied: pyparsing>=2.3.1 in /usr/local/lib/python3.11/dist-packages (from matplotlib!=3.6.1,>=3.4->seaborn) (3.2.3)\n",
            "Requirement already satisfied: python-dateutil>=2.7 in /usr/local/lib/python3.11/dist-packages (from matplotlib!=3.6.1,>=3.4->seaborn) (2.8.2)\n",
            "Requirement already satisfied: pytz>=2020.1 in /usr/local/lib/python3.11/dist-packages (from pandas>=1.2->seaborn) (2025.2)\n",
            "Requirement already satisfied: tzdata>=2022.7 in /usr/local/lib/python3.11/dist-packages (from pandas>=1.2->seaborn) (2025.2)\n",
            "Requirement already satisfied: six>=1.5 in /usr/local/lib/python3.11/dist-packages (from python-dateutil>=2.7->matplotlib!=3.6.1,>=3.4->seaborn) (1.17.0)\n"
          ]
        }
      ]
    },
    {
      "cell_type": "code",
      "source": [
        "import plotly.express as px\n",
        "\n",
        "# Runs Progression\n",
        "fig_runs = px.line(simulated_df, x='Balls', y='Runs',\n",
        "                   title='Interactive Runs Progression',\n",
        "                   labels={'Balls': 'Ball Number', 'Runs': 'Total Runs'},\n",
        "                   template='plotly_dark')\n",
        "fig_runs.show()\n",
        "\n",
        "# Wickets Progression\n",
        "fig_wickets = px.line(simulated_df, x='Balls', y='Wickets',\n",
        "                      title='Interactive Wickets Progression',\n",
        "                      labels={'Balls': 'Ball Number', 'Wickets': 'Total Wickets'},\n",
        "                      template='plotly_dark')\n",
        "fig_wickets.show()"
      ],
      "metadata": {
        "colab": {
          "base_uri": "https://localhost:8080/",
          "height": 1000
        },
        "id": "t61Fk2u79K0Q",
        "outputId": "d3ebb112-6167-4d41-da5d-b023c6fa960c"
      },
      "execution_count": 127,
      "outputs": [
        {
          "output_type": "display_data",
          "data": {
            "text/html": [
              "<html>\n",
              "<head><meta charset=\"utf-8\" /></head>\n",
              "<body>\n",
              "    <div>            <script src=\"https://cdnjs.cloudflare.com/ajax/libs/mathjax/2.7.5/MathJax.js?config=TeX-AMS-MML_SVG\"></script><script type=\"text/javascript\">if (window.MathJax && window.MathJax.Hub && window.MathJax.Hub.Config) {window.MathJax.Hub.Config({SVG: {font: \"STIX-Web\"}});}</script>                <script type=\"text/javascript\">window.PlotlyConfig = {MathJaxConfig: 'local'};</script>\n",
              "        <script charset=\"utf-8\" src=\"https://cdn.plot.ly/plotly-2.35.2.min.js\"></script>                <div id=\"ccc35597-51f5-4d67-9c4f-66007d501302\" class=\"plotly-graph-div\" style=\"height:525px; width:100%;\"></div>            <script type=\"text/javascript\">                                    window.PLOTLYENV=window.PLOTLYENV || {};                                    if (document.getElementById(\"ccc35597-51f5-4d67-9c4f-66007d501302\")) {                    Plotly.newPlot(                        \"ccc35597-51f5-4d67-9c4f-66007d501302\",                        [{\"hovertemplate\":\"Ball Number=%{x}\\u003cbr\\u003eTotal Runs=%{y}\\u003cextra\\u003e\\u003c\\u002fextra\\u003e\",\"legendgroup\":\"\",\"line\":{\"color\":\"#636efa\",\"dash\":\"solid\"},\"marker\":{\"symbol\":\"circle\"},\"mode\":\"lines\",\"name\":\"\",\"orientation\":\"v\",\"showlegend\":false,\"x\":[0,1,2,3,4,5,6,7,8,9,10,11,12,12,13,14,15,16,17,18,19,20,21,22,23,24,25,26,27,28,29,30,31,32,33,34,35,36,37,38,39,40,41,42,42,43,44,45,46,47,48,48,49,50,51,52,53,54,55,56,57,58,59,60,61,62,63,64,65,66,67,68,69,70,71,72,72,73,74,75,76,77,78,79,80,81,82,83,84,85,86,87,88,89,90,91,92,93,94,95,96,97,98,99,100,101,102,103,104,105,106,107,108,109,110,111,112,113,114,115,116,117,118,119,120],\"xaxis\":\"x\",\"y\":[0,1,5,6,10,16,20,21,21,27,31,31,32,32,32,35,35,35,36,36,36,40,44,45,45,49,51,52,56,56,57,58,59,63,63,63,67,68,72,73,77,78,82,82,83,84,84,84,85,85,86,87,87,87,87,87,88,88,88,88,90,91,92,92,93,94,94,100,104,110,110,110,110,111,111,112,113,114,115,115,117,117,119,119,125,125,126,126,126,126,126,126,126,127,127,127,129,133,133,133,133,137,138,138,142,146,146,146,146,150,151,152,152,153,153,154,155,156,160,166,167,173,179,180,180],\"yaxis\":\"y\",\"type\":\"scatter\"}],                        {\"template\":{\"data\":{\"barpolar\":[{\"marker\":{\"line\":{\"color\":\"rgb(17,17,17)\",\"width\":0.5},\"pattern\":{\"fillmode\":\"overlay\",\"size\":10,\"solidity\":0.2}},\"type\":\"barpolar\"}],\"bar\":[{\"error_x\":{\"color\":\"#f2f5fa\"},\"error_y\":{\"color\":\"#f2f5fa\"},\"marker\":{\"line\":{\"color\":\"rgb(17,17,17)\",\"width\":0.5},\"pattern\":{\"fillmode\":\"overlay\",\"size\":10,\"solidity\":0.2}},\"type\":\"bar\"}],\"carpet\":[{\"aaxis\":{\"endlinecolor\":\"#A2B1C6\",\"gridcolor\":\"#506784\",\"linecolor\":\"#506784\",\"minorgridcolor\":\"#506784\",\"startlinecolor\":\"#A2B1C6\"},\"baxis\":{\"endlinecolor\":\"#A2B1C6\",\"gridcolor\":\"#506784\",\"linecolor\":\"#506784\",\"minorgridcolor\":\"#506784\",\"startlinecolor\":\"#A2B1C6\"},\"type\":\"carpet\"}],\"choropleth\":[{\"colorbar\":{\"outlinewidth\":0,\"ticks\":\"\"},\"type\":\"choropleth\"}],\"contourcarpet\":[{\"colorbar\":{\"outlinewidth\":0,\"ticks\":\"\"},\"type\":\"contourcarpet\"}],\"contour\":[{\"colorbar\":{\"outlinewidth\":0,\"ticks\":\"\"},\"colorscale\":[[0.0,\"#0d0887\"],[0.1111111111111111,\"#46039f\"],[0.2222222222222222,\"#7201a8\"],[0.3333333333333333,\"#9c179e\"],[0.4444444444444444,\"#bd3786\"],[0.5555555555555556,\"#d8576b\"],[0.6666666666666666,\"#ed7953\"],[0.7777777777777778,\"#fb9f3a\"],[0.8888888888888888,\"#fdca26\"],[1.0,\"#f0f921\"]],\"type\":\"contour\"}],\"heatmapgl\":[{\"colorbar\":{\"outlinewidth\":0,\"ticks\":\"\"},\"colorscale\":[[0.0,\"#0d0887\"],[0.1111111111111111,\"#46039f\"],[0.2222222222222222,\"#7201a8\"],[0.3333333333333333,\"#9c179e\"],[0.4444444444444444,\"#bd3786\"],[0.5555555555555556,\"#d8576b\"],[0.6666666666666666,\"#ed7953\"],[0.7777777777777778,\"#fb9f3a\"],[0.8888888888888888,\"#fdca26\"],[1.0,\"#f0f921\"]],\"type\":\"heatmapgl\"}],\"heatmap\":[{\"colorbar\":{\"outlinewidth\":0,\"ticks\":\"\"},\"colorscale\":[[0.0,\"#0d0887\"],[0.1111111111111111,\"#46039f\"],[0.2222222222222222,\"#7201a8\"],[0.3333333333333333,\"#9c179e\"],[0.4444444444444444,\"#bd3786\"],[0.5555555555555556,\"#d8576b\"],[0.6666666666666666,\"#ed7953\"],[0.7777777777777778,\"#fb9f3a\"],[0.8888888888888888,\"#fdca26\"],[1.0,\"#f0f921\"]],\"type\":\"heatmap\"}],\"histogram2dcontour\":[{\"colorbar\":{\"outlinewidth\":0,\"ticks\":\"\"},\"colorscale\":[[0.0,\"#0d0887\"],[0.1111111111111111,\"#46039f\"],[0.2222222222222222,\"#7201a8\"],[0.3333333333333333,\"#9c179e\"],[0.4444444444444444,\"#bd3786\"],[0.5555555555555556,\"#d8576b\"],[0.6666666666666666,\"#ed7953\"],[0.7777777777777778,\"#fb9f3a\"],[0.8888888888888888,\"#fdca26\"],[1.0,\"#f0f921\"]],\"type\":\"histogram2dcontour\"}],\"histogram2d\":[{\"colorbar\":{\"outlinewidth\":0,\"ticks\":\"\"},\"colorscale\":[[0.0,\"#0d0887\"],[0.1111111111111111,\"#46039f\"],[0.2222222222222222,\"#7201a8\"],[0.3333333333333333,\"#9c179e\"],[0.4444444444444444,\"#bd3786\"],[0.5555555555555556,\"#d8576b\"],[0.6666666666666666,\"#ed7953\"],[0.7777777777777778,\"#fb9f3a\"],[0.8888888888888888,\"#fdca26\"],[1.0,\"#f0f921\"]],\"type\":\"histogram2d\"}],\"histogram\":[{\"marker\":{\"pattern\":{\"fillmode\":\"overlay\",\"size\":10,\"solidity\":0.2}},\"type\":\"histogram\"}],\"mesh3d\":[{\"colorbar\":{\"outlinewidth\":0,\"ticks\":\"\"},\"type\":\"mesh3d\"}],\"parcoords\":[{\"line\":{\"colorbar\":{\"outlinewidth\":0,\"ticks\":\"\"}},\"type\":\"parcoords\"}],\"pie\":[{\"automargin\":true,\"type\":\"pie\"}],\"scatter3d\":[{\"line\":{\"colorbar\":{\"outlinewidth\":0,\"ticks\":\"\"}},\"marker\":{\"colorbar\":{\"outlinewidth\":0,\"ticks\":\"\"}},\"type\":\"scatter3d\"}],\"scattercarpet\":[{\"marker\":{\"colorbar\":{\"outlinewidth\":0,\"ticks\":\"\"}},\"type\":\"scattercarpet\"}],\"scattergeo\":[{\"marker\":{\"colorbar\":{\"outlinewidth\":0,\"ticks\":\"\"}},\"type\":\"scattergeo\"}],\"scattergl\":[{\"marker\":{\"line\":{\"color\":\"#283442\"}},\"type\":\"scattergl\"}],\"scattermapbox\":[{\"marker\":{\"colorbar\":{\"outlinewidth\":0,\"ticks\":\"\"}},\"type\":\"scattermapbox\"}],\"scatterpolargl\":[{\"marker\":{\"colorbar\":{\"outlinewidth\":0,\"ticks\":\"\"}},\"type\":\"scatterpolargl\"}],\"scatterpolar\":[{\"marker\":{\"colorbar\":{\"outlinewidth\":0,\"ticks\":\"\"}},\"type\":\"scatterpolar\"}],\"scatter\":[{\"marker\":{\"line\":{\"color\":\"#283442\"}},\"type\":\"scatter\"}],\"scatterternary\":[{\"marker\":{\"colorbar\":{\"outlinewidth\":0,\"ticks\":\"\"}},\"type\":\"scatterternary\"}],\"surface\":[{\"colorbar\":{\"outlinewidth\":0,\"ticks\":\"\"},\"colorscale\":[[0.0,\"#0d0887\"],[0.1111111111111111,\"#46039f\"],[0.2222222222222222,\"#7201a8\"],[0.3333333333333333,\"#9c179e\"],[0.4444444444444444,\"#bd3786\"],[0.5555555555555556,\"#d8576b\"],[0.6666666666666666,\"#ed7953\"],[0.7777777777777778,\"#fb9f3a\"],[0.8888888888888888,\"#fdca26\"],[1.0,\"#f0f921\"]],\"type\":\"surface\"}],\"table\":[{\"cells\":{\"fill\":{\"color\":\"#506784\"},\"line\":{\"color\":\"rgb(17,17,17)\"}},\"header\":{\"fill\":{\"color\":\"#2a3f5f\"},\"line\":{\"color\":\"rgb(17,17,17)\"}},\"type\":\"table\"}]},\"layout\":{\"annotationdefaults\":{\"arrowcolor\":\"#f2f5fa\",\"arrowhead\":0,\"arrowwidth\":1},\"autotypenumbers\":\"strict\",\"coloraxis\":{\"colorbar\":{\"outlinewidth\":0,\"ticks\":\"\"}},\"colorscale\":{\"diverging\":[[0,\"#8e0152\"],[0.1,\"#c51b7d\"],[0.2,\"#de77ae\"],[0.3,\"#f1b6da\"],[0.4,\"#fde0ef\"],[0.5,\"#f7f7f7\"],[0.6,\"#e6f5d0\"],[0.7,\"#b8e186\"],[0.8,\"#7fbc41\"],[0.9,\"#4d9221\"],[1,\"#276419\"]],\"sequential\":[[0.0,\"#0d0887\"],[0.1111111111111111,\"#46039f\"],[0.2222222222222222,\"#7201a8\"],[0.3333333333333333,\"#9c179e\"],[0.4444444444444444,\"#bd3786\"],[0.5555555555555556,\"#d8576b\"],[0.6666666666666666,\"#ed7953\"],[0.7777777777777778,\"#fb9f3a\"],[0.8888888888888888,\"#fdca26\"],[1.0,\"#f0f921\"]],\"sequentialminus\":[[0.0,\"#0d0887\"],[0.1111111111111111,\"#46039f\"],[0.2222222222222222,\"#7201a8\"],[0.3333333333333333,\"#9c179e\"],[0.4444444444444444,\"#bd3786\"],[0.5555555555555556,\"#d8576b\"],[0.6666666666666666,\"#ed7953\"],[0.7777777777777778,\"#fb9f3a\"],[0.8888888888888888,\"#fdca26\"],[1.0,\"#f0f921\"]]},\"colorway\":[\"#636efa\",\"#EF553B\",\"#00cc96\",\"#ab63fa\",\"#FFA15A\",\"#19d3f3\",\"#FF6692\",\"#B6E880\",\"#FF97FF\",\"#FECB52\"],\"font\":{\"color\":\"#f2f5fa\"},\"geo\":{\"bgcolor\":\"rgb(17,17,17)\",\"lakecolor\":\"rgb(17,17,17)\",\"landcolor\":\"rgb(17,17,17)\",\"showlakes\":true,\"showland\":true,\"subunitcolor\":\"#506784\"},\"hoverlabel\":{\"align\":\"left\"},\"hovermode\":\"closest\",\"mapbox\":{\"style\":\"dark\"},\"paper_bgcolor\":\"rgb(17,17,17)\",\"plot_bgcolor\":\"rgb(17,17,17)\",\"polar\":{\"angularaxis\":{\"gridcolor\":\"#506784\",\"linecolor\":\"#506784\",\"ticks\":\"\"},\"bgcolor\":\"rgb(17,17,17)\",\"radialaxis\":{\"gridcolor\":\"#506784\",\"linecolor\":\"#506784\",\"ticks\":\"\"}},\"scene\":{\"xaxis\":{\"backgroundcolor\":\"rgb(17,17,17)\",\"gridcolor\":\"#506784\",\"gridwidth\":2,\"linecolor\":\"#506784\",\"showbackground\":true,\"ticks\":\"\",\"zerolinecolor\":\"#C8D4E3\"},\"yaxis\":{\"backgroundcolor\":\"rgb(17,17,17)\",\"gridcolor\":\"#506784\",\"gridwidth\":2,\"linecolor\":\"#506784\",\"showbackground\":true,\"ticks\":\"\",\"zerolinecolor\":\"#C8D4E3\"},\"zaxis\":{\"backgroundcolor\":\"rgb(17,17,17)\",\"gridcolor\":\"#506784\",\"gridwidth\":2,\"linecolor\":\"#506784\",\"showbackground\":true,\"ticks\":\"\",\"zerolinecolor\":\"#C8D4E3\"}},\"shapedefaults\":{\"line\":{\"color\":\"#f2f5fa\"}},\"sliderdefaults\":{\"bgcolor\":\"#C8D4E3\",\"bordercolor\":\"rgb(17,17,17)\",\"borderwidth\":1,\"tickwidth\":0},\"ternary\":{\"aaxis\":{\"gridcolor\":\"#506784\",\"linecolor\":\"#506784\",\"ticks\":\"\"},\"baxis\":{\"gridcolor\":\"#506784\",\"linecolor\":\"#506784\",\"ticks\":\"\"},\"bgcolor\":\"rgb(17,17,17)\",\"caxis\":{\"gridcolor\":\"#506784\",\"linecolor\":\"#506784\",\"ticks\":\"\"}},\"title\":{\"x\":0.05},\"updatemenudefaults\":{\"bgcolor\":\"#506784\",\"borderwidth\":0},\"xaxis\":{\"automargin\":true,\"gridcolor\":\"#283442\",\"linecolor\":\"#506784\",\"ticks\":\"\",\"title\":{\"standoff\":15},\"zerolinecolor\":\"#283442\",\"zerolinewidth\":2},\"yaxis\":{\"automargin\":true,\"gridcolor\":\"#283442\",\"linecolor\":\"#506784\",\"ticks\":\"\",\"title\":{\"standoff\":15},\"zerolinecolor\":\"#283442\",\"zerolinewidth\":2}}},\"xaxis\":{\"anchor\":\"y\",\"domain\":[0.0,1.0],\"title\":{\"text\":\"Ball Number\"}},\"yaxis\":{\"anchor\":\"x\",\"domain\":[0.0,1.0],\"title\":{\"text\":\"Total Runs\"}},\"legend\":{\"tracegroupgap\":0},\"title\":{\"text\":\"Interactive Runs Progression\"}},                        {\"responsive\": true}                    ).then(function(){\n",
              "                            \n",
              "var gd = document.getElementById('ccc35597-51f5-4d67-9c4f-66007d501302');\n",
              "var x = new MutationObserver(function (mutations, observer) {{\n",
              "        var display = window.getComputedStyle(gd).display;\n",
              "        if (!display || display === 'none') {{\n",
              "            console.log([gd, 'removed!']);\n",
              "            Plotly.purge(gd);\n",
              "            observer.disconnect();\n",
              "        }}\n",
              "}});\n",
              "\n",
              "// Listen for the removal of the full notebook cells\n",
              "var notebookContainer = gd.closest('#notebook-container');\n",
              "if (notebookContainer) {{\n",
              "    x.observe(notebookContainer, {childList: true});\n",
              "}}\n",
              "\n",
              "// Listen for the clearing of the current output cell\n",
              "var outputEl = gd.closest('.output');\n",
              "if (outputEl) {{\n",
              "    x.observe(outputEl, {childList: true});\n",
              "}}\n",
              "\n",
              "                        })                };                            </script>        </div>\n",
              "</body>\n",
              "</html>"
            ]
          },
          "metadata": {}
        },
        {
          "output_type": "display_data",
          "data": {
            "text/html": [
              "<html>\n",
              "<head><meta charset=\"utf-8\" /></head>\n",
              "<body>\n",
              "    <div>            <script src=\"https://cdnjs.cloudflare.com/ajax/libs/mathjax/2.7.5/MathJax.js?config=TeX-AMS-MML_SVG\"></script><script type=\"text/javascript\">if (window.MathJax && window.MathJax.Hub && window.MathJax.Hub.Config) {window.MathJax.Hub.Config({SVG: {font: \"STIX-Web\"}});}</script>                <script type=\"text/javascript\">window.PlotlyConfig = {MathJaxConfig: 'local'};</script>\n",
              "        <script charset=\"utf-8\" src=\"https://cdn.plot.ly/plotly-2.35.2.min.js\"></script>                <div id=\"6674c17c-0a3f-4a99-a2c1-e9280a018b53\" class=\"plotly-graph-div\" style=\"height:525px; width:100%;\"></div>            <script type=\"text/javascript\">                                    window.PLOTLYENV=window.PLOTLYENV || {};                                    if (document.getElementById(\"6674c17c-0a3f-4a99-a2c1-e9280a018b53\")) {                    Plotly.newPlot(                        \"6674c17c-0a3f-4a99-a2c1-e9280a018b53\",                        [{\"hovertemplate\":\"Ball Number=%{x}\\u003cbr\\u003eTotal Wickets=%{y}\\u003cextra\\u003e\\u003c\\u002fextra\\u003e\",\"legendgroup\":\"\",\"line\":{\"color\":\"#636efa\",\"dash\":\"solid\"},\"marker\":{\"symbol\":\"circle\"},\"mode\":\"lines\",\"name\":\"\",\"orientation\":\"v\",\"showlegend\":false,\"x\":[0,1,2,3,4,5,6,7,8,9,10,11,12,12,13,14,15,16,17,18,19,20,21,22,23,24,25,26,27,28,29,30,31,32,33,34,35,36,37,38,39,40,41,42,42,43,44,45,46,47,48,48,49,50,51,52,53,54,55,56,57,58,59,60,61,62,63,64,65,66,67,68,69,70,71,72,72,73,74,75,76,77,78,79,80,81,82,83,84,85,86,87,88,89,90,91,92,93,94,95,96,97,98,99,100,101,102,103,104,105,106,107,108,109,110,111,112,113,114,115,116,117,118,119,120],\"xaxis\":\"x\",\"y\":[0,0,0,0,0,0,0,0,0,0,0,0,0,1,1,1,1,1,1,1,1,1,1,1,1,1,1,1,1,1,1,1,1,1,1,1,1,1,1,1,1,1,1,1,1,1,1,2,2,2,2,2,2,2,3,3,3,3,3,3,3,3,3,3,3,3,3,3,3,3,3,3,3,3,3,3,3,3,3,3,3,3,3,3,3,3,3,3,3,3,3,3,3,3,3,3,3,3,4,4,4,4,4,4,4,4,5,5,5,5,5,5,5,5,5,5,5,5,5,5,5,5,5,5,6],\"yaxis\":\"y\",\"type\":\"scatter\"}],                        {\"template\":{\"data\":{\"barpolar\":[{\"marker\":{\"line\":{\"color\":\"rgb(17,17,17)\",\"width\":0.5},\"pattern\":{\"fillmode\":\"overlay\",\"size\":10,\"solidity\":0.2}},\"type\":\"barpolar\"}],\"bar\":[{\"error_x\":{\"color\":\"#f2f5fa\"},\"error_y\":{\"color\":\"#f2f5fa\"},\"marker\":{\"line\":{\"color\":\"rgb(17,17,17)\",\"width\":0.5},\"pattern\":{\"fillmode\":\"overlay\",\"size\":10,\"solidity\":0.2}},\"type\":\"bar\"}],\"carpet\":[{\"aaxis\":{\"endlinecolor\":\"#A2B1C6\",\"gridcolor\":\"#506784\",\"linecolor\":\"#506784\",\"minorgridcolor\":\"#506784\",\"startlinecolor\":\"#A2B1C6\"},\"baxis\":{\"endlinecolor\":\"#A2B1C6\",\"gridcolor\":\"#506784\",\"linecolor\":\"#506784\",\"minorgridcolor\":\"#506784\",\"startlinecolor\":\"#A2B1C6\"},\"type\":\"carpet\"}],\"choropleth\":[{\"colorbar\":{\"outlinewidth\":0,\"ticks\":\"\"},\"type\":\"choropleth\"}],\"contourcarpet\":[{\"colorbar\":{\"outlinewidth\":0,\"ticks\":\"\"},\"type\":\"contourcarpet\"}],\"contour\":[{\"colorbar\":{\"outlinewidth\":0,\"ticks\":\"\"},\"colorscale\":[[0.0,\"#0d0887\"],[0.1111111111111111,\"#46039f\"],[0.2222222222222222,\"#7201a8\"],[0.3333333333333333,\"#9c179e\"],[0.4444444444444444,\"#bd3786\"],[0.5555555555555556,\"#d8576b\"],[0.6666666666666666,\"#ed7953\"],[0.7777777777777778,\"#fb9f3a\"],[0.8888888888888888,\"#fdca26\"],[1.0,\"#f0f921\"]],\"type\":\"contour\"}],\"heatmapgl\":[{\"colorbar\":{\"outlinewidth\":0,\"ticks\":\"\"},\"colorscale\":[[0.0,\"#0d0887\"],[0.1111111111111111,\"#46039f\"],[0.2222222222222222,\"#7201a8\"],[0.3333333333333333,\"#9c179e\"],[0.4444444444444444,\"#bd3786\"],[0.5555555555555556,\"#d8576b\"],[0.6666666666666666,\"#ed7953\"],[0.7777777777777778,\"#fb9f3a\"],[0.8888888888888888,\"#fdca26\"],[1.0,\"#f0f921\"]],\"type\":\"heatmapgl\"}],\"heatmap\":[{\"colorbar\":{\"outlinewidth\":0,\"ticks\":\"\"},\"colorscale\":[[0.0,\"#0d0887\"],[0.1111111111111111,\"#46039f\"],[0.2222222222222222,\"#7201a8\"],[0.3333333333333333,\"#9c179e\"],[0.4444444444444444,\"#bd3786\"],[0.5555555555555556,\"#d8576b\"],[0.6666666666666666,\"#ed7953\"],[0.7777777777777778,\"#fb9f3a\"],[0.8888888888888888,\"#fdca26\"],[1.0,\"#f0f921\"]],\"type\":\"heatmap\"}],\"histogram2dcontour\":[{\"colorbar\":{\"outlinewidth\":0,\"ticks\":\"\"},\"colorscale\":[[0.0,\"#0d0887\"],[0.1111111111111111,\"#46039f\"],[0.2222222222222222,\"#7201a8\"],[0.3333333333333333,\"#9c179e\"],[0.4444444444444444,\"#bd3786\"],[0.5555555555555556,\"#d8576b\"],[0.6666666666666666,\"#ed7953\"],[0.7777777777777778,\"#fb9f3a\"],[0.8888888888888888,\"#fdca26\"],[1.0,\"#f0f921\"]],\"type\":\"histogram2dcontour\"}],\"histogram2d\":[{\"colorbar\":{\"outlinewidth\":0,\"ticks\":\"\"},\"colorscale\":[[0.0,\"#0d0887\"],[0.1111111111111111,\"#46039f\"],[0.2222222222222222,\"#7201a8\"],[0.3333333333333333,\"#9c179e\"],[0.4444444444444444,\"#bd3786\"],[0.5555555555555556,\"#d8576b\"],[0.6666666666666666,\"#ed7953\"],[0.7777777777777778,\"#fb9f3a\"],[0.8888888888888888,\"#fdca26\"],[1.0,\"#f0f921\"]],\"type\":\"histogram2d\"}],\"histogram\":[{\"marker\":{\"pattern\":{\"fillmode\":\"overlay\",\"size\":10,\"solidity\":0.2}},\"type\":\"histogram\"}],\"mesh3d\":[{\"colorbar\":{\"outlinewidth\":0,\"ticks\":\"\"},\"type\":\"mesh3d\"}],\"parcoords\":[{\"line\":{\"colorbar\":{\"outlinewidth\":0,\"ticks\":\"\"}},\"type\":\"parcoords\"}],\"pie\":[{\"automargin\":true,\"type\":\"pie\"}],\"scatter3d\":[{\"line\":{\"colorbar\":{\"outlinewidth\":0,\"ticks\":\"\"}},\"marker\":{\"colorbar\":{\"outlinewidth\":0,\"ticks\":\"\"}},\"type\":\"scatter3d\"}],\"scattercarpet\":[{\"marker\":{\"colorbar\":{\"outlinewidth\":0,\"ticks\":\"\"}},\"type\":\"scattercarpet\"}],\"scattergeo\":[{\"marker\":{\"colorbar\":{\"outlinewidth\":0,\"ticks\":\"\"}},\"type\":\"scattergeo\"}],\"scattergl\":[{\"marker\":{\"line\":{\"color\":\"#283442\"}},\"type\":\"scattergl\"}],\"scattermapbox\":[{\"marker\":{\"colorbar\":{\"outlinewidth\":0,\"ticks\":\"\"}},\"type\":\"scattermapbox\"}],\"scatterpolargl\":[{\"marker\":{\"colorbar\":{\"outlinewidth\":0,\"ticks\":\"\"}},\"type\":\"scatterpolargl\"}],\"scatterpolar\":[{\"marker\":{\"colorbar\":{\"outlinewidth\":0,\"ticks\":\"\"}},\"type\":\"scatterpolar\"}],\"scatter\":[{\"marker\":{\"line\":{\"color\":\"#283442\"}},\"type\":\"scatter\"}],\"scatterternary\":[{\"marker\":{\"colorbar\":{\"outlinewidth\":0,\"ticks\":\"\"}},\"type\":\"scatterternary\"}],\"surface\":[{\"colorbar\":{\"outlinewidth\":0,\"ticks\":\"\"},\"colorscale\":[[0.0,\"#0d0887\"],[0.1111111111111111,\"#46039f\"],[0.2222222222222222,\"#7201a8\"],[0.3333333333333333,\"#9c179e\"],[0.4444444444444444,\"#bd3786\"],[0.5555555555555556,\"#d8576b\"],[0.6666666666666666,\"#ed7953\"],[0.7777777777777778,\"#fb9f3a\"],[0.8888888888888888,\"#fdca26\"],[1.0,\"#f0f921\"]],\"type\":\"surface\"}],\"table\":[{\"cells\":{\"fill\":{\"color\":\"#506784\"},\"line\":{\"color\":\"rgb(17,17,17)\"}},\"header\":{\"fill\":{\"color\":\"#2a3f5f\"},\"line\":{\"color\":\"rgb(17,17,17)\"}},\"type\":\"table\"}]},\"layout\":{\"annotationdefaults\":{\"arrowcolor\":\"#f2f5fa\",\"arrowhead\":0,\"arrowwidth\":1},\"autotypenumbers\":\"strict\",\"coloraxis\":{\"colorbar\":{\"outlinewidth\":0,\"ticks\":\"\"}},\"colorscale\":{\"diverging\":[[0,\"#8e0152\"],[0.1,\"#c51b7d\"],[0.2,\"#de77ae\"],[0.3,\"#f1b6da\"],[0.4,\"#fde0ef\"],[0.5,\"#f7f7f7\"],[0.6,\"#e6f5d0\"],[0.7,\"#b8e186\"],[0.8,\"#7fbc41\"],[0.9,\"#4d9221\"],[1,\"#276419\"]],\"sequential\":[[0.0,\"#0d0887\"],[0.1111111111111111,\"#46039f\"],[0.2222222222222222,\"#7201a8\"],[0.3333333333333333,\"#9c179e\"],[0.4444444444444444,\"#bd3786\"],[0.5555555555555556,\"#d8576b\"],[0.6666666666666666,\"#ed7953\"],[0.7777777777777778,\"#fb9f3a\"],[0.8888888888888888,\"#fdca26\"],[1.0,\"#f0f921\"]],\"sequentialminus\":[[0.0,\"#0d0887\"],[0.1111111111111111,\"#46039f\"],[0.2222222222222222,\"#7201a8\"],[0.3333333333333333,\"#9c179e\"],[0.4444444444444444,\"#bd3786\"],[0.5555555555555556,\"#d8576b\"],[0.6666666666666666,\"#ed7953\"],[0.7777777777777778,\"#fb9f3a\"],[0.8888888888888888,\"#fdca26\"],[1.0,\"#f0f921\"]]},\"colorway\":[\"#636efa\",\"#EF553B\",\"#00cc96\",\"#ab63fa\",\"#FFA15A\",\"#19d3f3\",\"#FF6692\",\"#B6E880\",\"#FF97FF\",\"#FECB52\"],\"font\":{\"color\":\"#f2f5fa\"},\"geo\":{\"bgcolor\":\"rgb(17,17,17)\",\"lakecolor\":\"rgb(17,17,17)\",\"landcolor\":\"rgb(17,17,17)\",\"showlakes\":true,\"showland\":true,\"subunitcolor\":\"#506784\"},\"hoverlabel\":{\"align\":\"left\"},\"hovermode\":\"closest\",\"mapbox\":{\"style\":\"dark\"},\"paper_bgcolor\":\"rgb(17,17,17)\",\"plot_bgcolor\":\"rgb(17,17,17)\",\"polar\":{\"angularaxis\":{\"gridcolor\":\"#506784\",\"linecolor\":\"#506784\",\"ticks\":\"\"},\"bgcolor\":\"rgb(17,17,17)\",\"radialaxis\":{\"gridcolor\":\"#506784\",\"linecolor\":\"#506784\",\"ticks\":\"\"}},\"scene\":{\"xaxis\":{\"backgroundcolor\":\"rgb(17,17,17)\",\"gridcolor\":\"#506784\",\"gridwidth\":2,\"linecolor\":\"#506784\",\"showbackground\":true,\"ticks\":\"\",\"zerolinecolor\":\"#C8D4E3\"},\"yaxis\":{\"backgroundcolor\":\"rgb(17,17,17)\",\"gridcolor\":\"#506784\",\"gridwidth\":2,\"linecolor\":\"#506784\",\"showbackground\":true,\"ticks\":\"\",\"zerolinecolor\":\"#C8D4E3\"},\"zaxis\":{\"backgroundcolor\":\"rgb(17,17,17)\",\"gridcolor\":\"#506784\",\"gridwidth\":2,\"linecolor\":\"#506784\",\"showbackground\":true,\"ticks\":\"\",\"zerolinecolor\":\"#C8D4E3\"}},\"shapedefaults\":{\"line\":{\"color\":\"#f2f5fa\"}},\"sliderdefaults\":{\"bgcolor\":\"#C8D4E3\",\"bordercolor\":\"rgb(17,17,17)\",\"borderwidth\":1,\"tickwidth\":0},\"ternary\":{\"aaxis\":{\"gridcolor\":\"#506784\",\"linecolor\":\"#506784\",\"ticks\":\"\"},\"baxis\":{\"gridcolor\":\"#506784\",\"linecolor\":\"#506784\",\"ticks\":\"\"},\"bgcolor\":\"rgb(17,17,17)\",\"caxis\":{\"gridcolor\":\"#506784\",\"linecolor\":\"#506784\",\"ticks\":\"\"}},\"title\":{\"x\":0.05},\"updatemenudefaults\":{\"bgcolor\":\"#506784\",\"borderwidth\":0},\"xaxis\":{\"automargin\":true,\"gridcolor\":\"#283442\",\"linecolor\":\"#506784\",\"ticks\":\"\",\"title\":{\"standoff\":15},\"zerolinecolor\":\"#283442\",\"zerolinewidth\":2},\"yaxis\":{\"automargin\":true,\"gridcolor\":\"#283442\",\"linecolor\":\"#506784\",\"ticks\":\"\",\"title\":{\"standoff\":15},\"zerolinecolor\":\"#283442\",\"zerolinewidth\":2}}},\"xaxis\":{\"anchor\":\"y\",\"domain\":[0.0,1.0],\"title\":{\"text\":\"Ball Number\"}},\"yaxis\":{\"anchor\":\"x\",\"domain\":[0.0,1.0],\"title\":{\"text\":\"Total Wickets\"}},\"legend\":{\"tracegroupgap\":0},\"title\":{\"text\":\"Interactive Wickets Progression\"}},                        {\"responsive\": true}                    ).then(function(){\n",
              "                            \n",
              "var gd = document.getElementById('6674c17c-0a3f-4a99-a2c1-e9280a018b53');\n",
              "var x = new MutationObserver(function (mutations, observer) {{\n",
              "        var display = window.getComputedStyle(gd).display;\n",
              "        if (!display || display === 'none') {{\n",
              "            console.log([gd, 'removed!']);\n",
              "            Plotly.purge(gd);\n",
              "            observer.disconnect();\n",
              "        }}\n",
              "}});\n",
              "\n",
              "// Listen for the removal of the full notebook cells\n",
              "var notebookContainer = gd.closest('#notebook-container');\n",
              "if (notebookContainer) {{\n",
              "    x.observe(notebookContainer, {childList: true});\n",
              "}}\n",
              "\n",
              "// Listen for the clearing of the current output cell\n",
              "var outputEl = gd.closest('.output');\n",
              "if (outputEl) {{\n",
              "    x.observe(outputEl, {childList: true});\n",
              "}}\n",
              "\n",
              "                        })                };                            </script>        </div>\n",
              "</body>\n",
              "</html>"
            ]
          },
          "metadata": {}
        }
      ]
    },
    {
      "cell_type": "markdown",
      "source": [
        "In cricket, predicting the outcome of a match is not just about team strength but also about dynamic factors such as pitch behavior, match phase, and team strategies. A tactical match simulator provides an innovative way to understand how these factors evolve throughout a match.\n",
        "\n",
        "The match simulation is based on a ball-by-ball prediction model, where each delivery outcome (runs, wickets, boundaries) is determined using probabilities derived from historical data. Players’ batting and bowling skills, along with pitch conditions, influence the outcome of each ball in real-time.\n",
        "\n",
        "Here's the Match summary of the inning played in Wankhade, Mumbai.\n",
        "Total: 180/6 in 20.0 overs\n",
        "Run Rate: 9.00\n",
        "\n",
        "he Tactical Match Simulator shows how match dynamics unfold and how each ball can change the course of a game. Future versions will incorporate live player data and more sophisticated models to predict outcomes more accurately.\n"
      ],
      "metadata": {
        "id": "Rk-BqTVz70e9"
      }
    },
    {
      "cell_type": "markdown",
      "source": [
        "#OPPONENT STRATEGY AI"
      ],
      "metadata": {
        "id": "LdpRiwI378BQ"
      }
    },
    {
      "cell_type": "markdown",
      "source": [
        "Predict how an opposing team will approach the match — whether they’ll:\n",
        "\n",
        "1. Use aggressive or conservative batting\n",
        "\n",
        "2. Open with pace or spin\n",
        "\n",
        "3. Rotate bowlers in a specific pattern\n",
        "\n",
        "4. Use specific tactics in different game phases"
      ],
      "metadata": {
        "id": "6ggwYcbf8e3k"
      }
    },
    {
      "cell_type": "code",
      "source": [
        "matches = pd.read_csv('matches_updated_mens_ipl.csv')"
      ],
      "metadata": {
        "id": "aXSD6_ew8FhP"
      },
      "execution_count": 22,
      "outputs": []
    },
    {
      "cell_type": "code",
      "source": [
        "from sklearn.model_selection import train_test_split\n",
        "from sklearn.preprocessing import LabelEncoder\n",
        "from sklearn.metrics import classification_report, confusion_matrix\n",
        "from xgboost import XGBClassifier\n",
        "from imblearn.over_sampling import SMOTE\n",
        "from sklearn.ensemble import RandomForestClassifier\n",
        "from sklearn.metrics import accuracy_score"
      ],
      "metadata": {
        "id": "NdZjzS8X8F2n"
      },
      "execution_count": 23,
      "outputs": []
    },
    {
      "cell_type": "code",
      "source": [
        "pip install xgboost imbalanced-learn"
      ],
      "metadata": {
        "colab": {
          "base_uri": "https://localhost:8080/"
        },
        "collapsed": true,
        "id": "0cOWky7eTY8R",
        "outputId": "af383421-8d2e-4a88-c293-f196b5b9817d"
      },
      "execution_count": 24,
      "outputs": [
        {
          "output_type": "stream",
          "name": "stdout",
          "text": [
            "Requirement already satisfied: xgboost in /usr/local/lib/python3.11/dist-packages (2.1.4)\n",
            "Requirement already satisfied: imbalanced-learn in /usr/local/lib/python3.11/dist-packages (0.13.0)\n",
            "Requirement already satisfied: numpy in /usr/local/lib/python3.11/dist-packages (from xgboost) (2.0.2)\n",
            "Requirement already satisfied: nvidia-nccl-cu12 in /usr/local/lib/python3.11/dist-packages (from xgboost) (2.21.5)\n",
            "Requirement already satisfied: scipy in /usr/local/lib/python3.11/dist-packages (from xgboost) (1.14.1)\n",
            "Requirement already satisfied: scikit-learn<2,>=1.3.2 in /usr/local/lib/python3.11/dist-packages (from imbalanced-learn) (1.6.1)\n",
            "Requirement already satisfied: sklearn-compat<1,>=0.1 in /usr/local/lib/python3.11/dist-packages (from imbalanced-learn) (0.1.3)\n",
            "Requirement already satisfied: joblib<2,>=1.1.1 in /usr/local/lib/python3.11/dist-packages (from imbalanced-learn) (1.4.2)\n",
            "Requirement already satisfied: threadpoolctl<4,>=2.0.0 in /usr/local/lib/python3.11/dist-packages (from imbalanced-learn) (3.6.0)\n"
          ]
        }
      ]
    },
    {
      "cell_type": "code",
      "source": [
        "deliveries = pd.read_csv(\"deliveries_updated_mens_ipl.csv\")\n",
        "matches = pd.read_csv(\"matches_updated_mens_ipl.csv\")"
      ],
      "metadata": {
        "id": "GngpUAUW7ZXU"
      },
      "execution_count": 96,
      "outputs": []
    },
    {
      "cell_type": "code",
      "source": [
        "deliveries['total_runs'] = deliveries.groupby('matchId')['batsman_runs'].cumsum()"
      ],
      "metadata": {
        "id": "EeZo52CS7d_C"
      },
      "execution_count": 97,
      "outputs": []
    },
    {
      "cell_type": "markdown",
      "source": [
        "Powerplay strategy"
      ],
      "metadata": {
        "id": "F2i0_9L7E_aE"
      }
    },
    {
      "cell_type": "code",
      "source": [
        "# Merge using matchId\n",
        "merged_df = deliveries.merge(\n",
        "    matches[['matchId', 'venue', 'toss_decision', 'team1', 'team2']],\n",
        "    on='matchId',\n",
        "    how='left'\n",
        ")"
      ],
      "metadata": {
        "id": "e9Mr9gOH7fCe"
      },
      "execution_count": 98,
      "outputs": []
    },
    {
      "cell_type": "code",
      "source": [
        "powerplay_df = merged_df[merged_df['over'] <= 6]"
      ],
      "metadata": {
        "id": "D6pVzquE7i0k"
      },
      "execution_count": 99,
      "outputs": []
    },
    {
      "cell_type": "code",
      "source": [
        "# Group by match and batting team to get total runs\n",
        "powerplay_runs = powerplay_df.groupby(['matchId', 'batting_team'])[['total_runs', 'ball', 'team1', 'venue', 'toss_decision']].agg({'total_runs': 'sum', 'ball': 'count', 'team1': 'first', 'venue': 'first', 'toss_decision': 'first'}).reset_index()"
      ],
      "metadata": {
        "id": "tcvht-Nj77mS"
      },
      "execution_count": 100,
      "outputs": []
    },
    {
      "cell_type": "code",
      "source": [
        "# Step 2: Feature Engineering – Calculate run rate in powerplay\n",
        "powerplay_runs['run_rate'] = (powerplay_runs['total_runs'] / powerplay_runs['ball']) * 6"
      ],
      "metadata": {
        "id": "EY6iy9Ac8GWl"
      },
      "execution_count": 101,
      "outputs": []
    },
    {
      "cell_type": "code",
      "source": [
        "# Label strategy: Aggressive if RR > 9\n",
        "powerplay_runs['batting_strategy'] = powerplay_runs['run_rate'].apply(lambda x: 'Aggressive' if x > 9 else 'Conservative')"
      ],
      "metadata": {
        "id": "k3yMG77z8GbR"
      },
      "execution_count": 102,
      "outputs": []
    },
    {
      "cell_type": "code",
      "source": [
        "# Encode categorical variables\n",
        "label_encoders = {}\n",
        "\n",
        "le_team = LabelEncoder()\n",
        "le_venue = LabelEncoder()\n",
        "le_toss = LabelEncoder()\n",
        "\n",
        "powerplay_runs['team1_encoded'] = le_team.fit_transform(powerplay_runs['team1'])\n",
        "powerplay_runs['venue_encoded'] = le_venue.fit_transform(powerplay_runs['venue'])\n",
        "powerplay_runs['toss_encoded'] = le_toss.fit_transform(powerplay_runs['toss_decision'])\n",
        "\n",
        "\n",
        "X = powerplay_runs[['team1_encoded', 'venue_encoded', 'toss_encoded']]\n",
        "y = powerplay_runs['batting_strategy']\n",
        "X_train, X_test, y_train, y_test = train_test_split(X, y, test_size=0.2, random_state=42)"
      ],
      "metadata": {
        "id": "CTKdIz1n95Tc"
      },
      "execution_count": 103,
      "outputs": []
    },
    {
      "cell_type": "code",
      "source": [
        "# Train the model\n",
        "model = RandomForestClassifier()\n",
        "model.fit(X_train, y_train)\n",
        "\n",
        "y_pred = model.predict(X_test)\n",
        "\n",
        "accuracy = accuracy_score(y_test, y_pred)\n",
        "print(\"Model Accuracy:\", model.score(X_test, y_test))"
      ],
      "metadata": {
        "id": "xbvN-ohs-U-8",
        "colab": {
          "base_uri": "https://localhost:8080/"
        },
        "outputId": "158ec0ec-1293-4c7e-c9d0-ebc42c9446b0"
      },
      "execution_count": 104,
      "outputs": [
        {
          "output_type": "stream",
          "name": "stdout",
          "text": [
            "Model Accuracy: 1.0\n"
          ]
        }
      ]
    },
    {
      "cell_type": "markdown",
      "source": [
        "Predict Opponent Strategy for a New Match"
      ],
      "metadata": {
        "id": "8na_b796YBR7"
      }
    },
    {
      "cell_type": "code",
      "source": [
        "# Define a new match context\n",
        "new_match = {\n",
        "    'team1': 'Royal Challengers Bangalore',\n",
        "    'team2': 'Chennai Super Kings',\n",
        "    'venue': 'M Chinnaswamy Stadium',\n",
        "    'toss_decision': 'bat',\n",
        "\n",
        "}"
      ],
      "metadata": {
        "id": "qMTGiy7C8G1v"
      },
      "execution_count": 105,
      "outputs": []
    },
    {
      "cell_type": "code",
      "source": [
        "encoded_input = [\n",
        "    le_team.transform([new_match['team1']])[0],\n",
        "    le_venue.transform([new_match['venue']])[0],\n",
        "    le_toss.transform([new_match['toss_decision']])[0],\n",
        "]"
      ],
      "metadata": {
        "id": "S1m1itvweRSx"
      },
      "execution_count": 106,
      "outputs": []
    },
    {
      "cell_type": "code",
      "source": [
        "# Predict strategy\n",
        "predicted_strategy = model.predict([encoded_input])[0]\n",
        "print(f\"Predicted Opponent Powerplay Strategy: {predicted_strategy}\")"
      ],
      "metadata": {
        "id": "f3eRZQmx8HAh",
        "colab": {
          "base_uri": "https://localhost:8080/"
        },
        "outputId": "5ce447b5-dbb4-40e0-c301-1e674113acf4"
      },
      "execution_count": 107,
      "outputs": [
        {
          "output_type": "stream",
          "name": "stdout",
          "text": [
            "Predicted Opponent Powerplay Strategy: Aggressive\n"
          ]
        }
      ]
    },
    {
      "cell_type": "markdown",
      "source": [
        "Middle Over Strategy"
      ],
      "metadata": {
        "id": "TEQSv1M7FN7m"
      }
    },
    {
      "source": [
        "import pandas as pd\n",
        "from sklearn.model_selection import train_test_split\n",
        "from sklearn.preprocessing import LabelEncoder\n",
        "from sklearn.ensemble import RandomForestClassifier\n",
        "from sklearn.metrics import accuracy_score\n",
        "\n",
        "# Load data\n",
        "deliveries = pd.read_csv(\"deliveries_updated_mens_ipl.csv\")\n",
        "matches = pd.read_csv(\"matches_updated_mens_ipl.csv\")\n",
        "\n",
        "# Merge dataframes\n",
        "merged_df = deliveries.merge(\n",
        "    matches[['matchId', 'venue', 'toss_decision', 'team1', 'team2']],\n",
        "    on='matchId',\n",
        "    how='left'\n",
        ")\n",
        "\n",
        "# Filter for middle overs and CSK vs RCB\n",
        "middle_overs_df = merged_df[\n",
        "    (merged_df['over'] >= 7) & (merged_df['over'] <= 16) &\n",
        "    (merged_df['bowling_team'] == 'Chennai Super Kings') &\n",
        "    (merged_df['batting_team'] == 'Royal Challengers Bangalore')\n",
        "]\n",
        "\n",
        "# Feature Engineering\n",
        "# 1. Calculate spin overs percentage\n",
        "middle_overs_df['total_overs'] = middle_overs_df.groupby('matchId')['over'].transform('nunique')\n",
        "middle_overs_df['spin_overs'] = middle_overs_df['bowler'].apply(lambda x: 1 if x in ['Imran Tahir', 'RA Jadeja', 'Harbhajan Singh'] else 0).groupby(middle_overs_df['matchId']).transform('sum')  # Update with CSK's spinners\n",
        "middle_overs_df['spin_percentage'] = (middle_overs_df['spin_overs'] / middle_overs_df['total_overs']) * 100\n",
        "\n",
        "# 2. Add batsman and bowler features\n",
        "# You can add features like batsman's strike rate against spin/pace, bowler's economy rate, etc.\n",
        "\n",
        "# 3. Encode categorical features\n",
        "le_venue = LabelEncoder()\n",
        "le_toss = LabelEncoder()\n",
        "middle_overs_df['venue_encoded'] = le_venue.fit_transform(middle_overs_df['venue'])\n",
        "middle_overs_df['toss_encoded'] = le_toss.fit_transform(middle_overs_df['toss_decision'])\n",
        "\n",
        "# Select features and target\n",
        "features = ['venue_encoded', 'toss_encoded', 'spin_percentage']  # Add more features\n",
        "target = 'bowling_strategy'\n",
        "middle_overs_df['bowling_strategy'] = middle_overs_df['spin_percentage'].apply(lambda x: 'Spin-Heavy' if x > 50 else 'Pace-Heavy')\n",
        "\n",
        "X = middle_overs_df[features]\n",
        "y = middle_overs_df[target]\n",
        "\n",
        "# Train-test split\n",
        "X_train, X_test, y_train, y_test = train_test_split(X, y, test_size=0.2, random_state=42)\n",
        "\n",
        "# Model training\n",
        "model = RandomForestClassifier(random_state=42)  # You can try other models\n",
        "model.fit(X_train, y_train)\n",
        "\n",
        "# Prediction and evaluation\n",
        "y_pred = model.predict(X_test)\n",
        "accuracy = accuracy_score(y_test, y_pred)\n",
        "print(f\"Model Accuracy: {accuracy:.2f}\")\n",
        "\n",
        "# Predict for a new match\n",
        "new_match_data = {\n",
        "    'venue': 'M Chinnaswamy Stadium',\n",
        "    'toss_decision': 'bat',\n",
        "    'spin_percentage': 60  # Example value\n",
        "}\n",
        "\n",
        "encoded_input = [\n",
        "    le_venue.transform([new_match_data['venue']])[0],\n",
        "    le_toss.transform([new_match_data['toss_decision']])[0],\n",
        "    new_match_data['spin_percentage']\n",
        "]\n",
        "\n",
        "predicted_strategy = model.predict([encoded_input])[0]\n",
        "print(f\"Predicted Bowling Strategy for CSK in middle overs: {predicted_strategy}\")"
      ],
      "cell_type": "code",
      "metadata": {
        "colab": {
          "base_uri": "https://localhost:8080/"
        },
        "id": "DEHSHsQrDMBQ",
        "outputId": "3726e1ff-543d-41de-e1d4-a1f1c6750102"
      },
      "execution_count": 132,
      "outputs": [
        {
          "output_type": "stream",
          "name": "stdout",
          "text": [
            "Model Accuracy: 1.00\n",
            "Predicted Bowling Strategy for CSK in middle overs: Spin-Heavy\n"
          ]
        }
      ]
    },
    {
      "cell_type": "markdown",
      "source": [
        "Death over bowling strategy\n",
        "\n"
      ],
      "metadata": {
        "id": "8wdlLWYU2-CE"
      }
    },
    {
      "cell_type": "code",
      "source": [
        "deliveries['total_runs'] = deliveries.groupby('matchId')['batsman_runs'].cumsum()"
      ],
      "metadata": {
        "id": "dWZzk13m3Z2n"
      },
      "execution_count": 50,
      "outputs": []
    },
    {
      "cell_type": "code",
      "source": [
        "csk_deliveries = deliveries[deliveries['bowling_team'] == 'Chennai Super Kings']  # Or deliveries['bowling_team'] == 'Chennai Super Kings'\n",
        "\n",
        "# Get unique bowlers for Chennai Super Kings\n",
        "unique_bowlers = csk_deliveries['bowler'].unique()\n",
        "\n",
        "print(unique_bowlers)"
      ],
      "metadata": {
        "colab": {
          "base_uri": "https://localhost:8080/"
        },
        "id": "P817wZSM6p0i",
        "outputId": "9280339f-8a98-49b2-8a18-cdf3c2c1888d"
      },
      "execution_count": 51,
      "outputs": [
        {
          "output_type": "stream",
          "name": "stdout",
          "text": [
            "['DL Chahar' 'SR Watson' 'Harbhajan Singh' 'RA Jadeja' 'MA Wood'\n",
            " 'Imran Tahir' 'DJ Bravo' 'SN Thakur' 'KV Sharma' 'L Ngidi' 'KM Asif'\n",
            " 'DJ Willey' 'SK Raina' 'MJ Santner' 'MM Sharma' 'SC Kuggeleijn'\n",
            " 'SM Curran' 'PP Chawla' 'JR Hazlewood' 'Monu Kumar' 'MM Ali'\n",
            " 'TU Deshpande' 'AF Milne' 'S Dube' 'Mukesh Choudhary' 'D Pretorius'\n",
            " 'CJ Jordan' 'M Theekshana' 'Simarjeet Singh' 'PH Solanki' 'M Pathirana'\n",
            " 'JDP Oram' 'MS Gony' 'M Muralitharan' 'P Amarnath' 'Joginder Sharma'\n",
            " 'JA Morkel' 'M Ntini' 'S Vidyut' 'L Balaji' 'CK Kapugedera' 'T Thushara'\n",
            " 'A Flintoff' 'S Tyagi' 'SB Jakati' 'R Ashwin' 'JM Kemp' 'NLTC Perera'\n",
            " 'C Ganapathy' 'DE Bollinger' 'TG Southee' 'S Randiv' 'SB Styris'\n",
            " 'KMDN Kulasekara' 'F du Plessis' 'VY Mahesh' 'BW Hilfenhaus' 'DP Nannes'\n",
            " 'AS Rajpoot' 'B Laughlin' 'CH Morris' 'JO Holder' 'A Nehra' 'P Negi'\n",
            " 'DR Smith' 'IC Pandey' 'S Badree' 'V Shankar' 'DJ Hussey' 'JW Hastings'\n",
            " 'RG More']\n"
          ]
        }
      ]
    },
    {
      "cell_type": "code",
      "source": [
        "rcb_deliveries = deliveries[deliveries['batting_team'] == 'Royal Challengers Bangalore']  # Or deliveries['bowling_team'] == 'Chennai Super Kings'\n",
        "\n",
        "# Get unique bowlers for Chennai Super Kings\n",
        "unique_batsman = rcb_deliveries['batsman'].unique()\n",
        "print(unique_batsman)"
      ],
      "metadata": {
        "colab": {
          "base_uri": "https://localhost:8080/"
        },
        "id": "M-IV9xbb9BvX",
        "outputId": "270d7977-7a1c-44ac-94ee-6f2cbd1200eb"
      },
      "execution_count": 52,
      "outputs": [
        {
          "output_type": "stream",
          "name": "stdout",
          "text": [
            "['CH Gayle' 'Mandeep Singh' 'TM Head' 'KM Jadhav' 'SR Watson'\n",
            " 'Sachin Baby' 'STR Binny' 'S Aravind' 'YS Chahal' 'TS Mills'\n",
            " 'A Choudhary' 'Vishnu Vinod' 'Iqbal Abdulla' 'P Negi' 'AB de Villiers'\n",
            " 'V Kohli' 'AF Milne' 'S Badree' 'BB McCullum' 'Q de Kock' 'SN Khan'\n",
            " 'CR Woakes' 'Washington Sundar' 'CJ Anderson' 'UT Yadav' 'Mohammed Siraj'\n",
            " 'M Vohra' 'C de Grandhomme' 'TG Southee' 'PA Patel' 'M Ashwin' 'MM Ali'\n",
            " 'SO Hetmyer' 'S Dube' 'NA Saini' 'P Ray Barman' 'MP Stoinis' 'AD Nath'\n",
            " 'H Klaasen' 'Gurkeerat Singh' 'D Padikkal' 'AJ Finch' 'JR Philippe'\n",
            " 'CH Morris' 'I Udana' 'Shahbaz Ahmed' 'DW Steyn' 'RM Patidar'\n",
            " 'GJ Maxwell' 'DT Christian' 'KA Jamieson' 'HV Patel' 'DR Sams'\n",
            " 'KS Bharat' 'PWH de Silva' 'GHS Garton' 'TH David' 'F du Plessis'\n",
            " 'Anuj Rawat' 'KD Karthik' 'SE Rutherford' 'DJ Willey' 'SS Prabhudessai'\n",
            " 'Akash Deep' 'JR Hazlewood' 'MK Lomror' 'R Dravid' 'W Jaffer' 'JH Kallis'\n",
            " 'CL White' 'MV Boucher' 'B Akhil' 'AA Noffke' 'P Kumar' 'Z Khan'\n",
            " 'SB Joshi' 'S Chanderpaul' 'LRPL Taylor' 'R Vinay Kumar' 'B Chipli'\n",
            " 'Misbah-ul-Haq' 'DT Patil' 'A Kumble' 'J Arunkumar' 'SP Goswami'\n",
            " 'Abdur Razzak' 'JD Ryder' 'KP Pietersen' 'RV Uthappa' 'R Bishnoi'\n",
            " 'KV Sharma' 'Pankaj Singh' 'RE van der Merwe' 'MK Pandey' 'KP Appanna'\n",
            " 'D du Preez' 'EJG Morgan' 'A Mithun' 'S Sriram' 'MA Agarwal' 'TM Dilshan'\n",
            " 'SS Tiwary' 'AUK Pathan' 'CA Pujara' 'JJ van der Wath' 'R Ninan'\n",
            " 'DL Vettori' 'J Syed Mohammad' 'M Kaif' 'LA Pomersbach' 'KB Arun Karthik'\n",
            " 'CK Langeveldt' 'AB McDonald' 'RR Bhatkal' 'M Muralitharan'\n",
            " 'P Parameswaran' 'KK Nair' 'MC Henriques' 'M Kartik' 'JD Unadkat'\n",
            " 'R Rampaul' 'KL Rahul' 'A Mukund' 'NJ Maddinson' 'Yuvraj Singh'\n",
            " 'YV Takawale' 'JA Morkel' 'S Rana' 'MA Starc' 'AB Dinda' 'VR Aaron'\n",
            " 'RR Rossouw' 'VH Zol' 'AN Ahmed' 'DJG Sammy' 'SA Abbott' 'MS Bisla'\n",
            " 'D Wiese' 'KW Richardson' 'Parvez Rasool' 'CJ Jordan']\n"
          ]
        }
      ]
    },
    {
      "cell_type": "code",
      "source": [
        "# Filter for death overs\n",
        "death_overs_data = deliveries[deliveries['over'] >= 17]\n",
        "\n",
        "# Create target variable (e.g., bowler type)\n",
        "death_overs_data['bowler_type'] = death_overs_data['bowler'].apply(lambda x: 'Pace' if x in ['SM Curran', 'CJ Jordan'] else 'Spin')\n",
        "\n",
        "le_batsman = LabelEncoder()\n",
        "le_bowler = LabelEncoder()\n",
        "death_overs_data['batsman_encoded'] = le_batsman.fit_transform(death_overs_data['batsman'])\n",
        "death_overs_data['bowler_encoded'] = le_bowler.fit_transform(death_overs_data['bowler'])\n",
        "\n",
        "\n",
        "# Select features and target\n",
        "X = death_overs_data[['batsman_encoded', 'bowler_encoded', 'over', 'total_runs']]\n",
        "y = death_overs_data['bowler_type']\n",
        "\n",
        "# Train-test split\n",
        "X_train, X_test, y_train, y_test = train_test_split(X, y, test_size=0.2, random_state=42)\n",
        "\n",
        "# Train the model\n",
        "model = RandomForestClassifier(random_state=42)\n",
        "model.fit(X_train, y_train)\n",
        "\n",
        "# Predict on test data\n",
        "y_pred = model.predict(X_test)\n",
        "\n",
        "# Evaluate accuracy\n",
        "accuracy = accuracy_score(y_test, y_pred)\n",
        "print(f\"Model Accuracy: {accuracy}\")"
      ],
      "metadata": {
        "colab": {
          "base_uri": "https://localhost:8080/"
        },
        "id": "E53jHaY23E38",
        "outputId": "bc5e5a8e-d7ec-4a4a-d732-b3f4b6a2172c"
      },
      "execution_count": 53,
      "outputs": [
        {
          "output_type": "stream",
          "name": "stdout",
          "text": [
            "Model Accuracy: 1.0\n"
          ]
        }
      ]
    },
    {
      "cell_type": "code",
      "source": [
        "# Predict for a new match situation\n",
        "new_match_data = pd.DataFrame([{'batsman': 'AB de Villiers', 'bowler': 'M Pathirana', 'over': 18, 'total_runs': 150}])\n",
        "\n",
        "new_match_data['batsman_encoded'] = le_batsman.transform(new_match_data['batsman'])\n",
        "new_match_data['bowler_encoded'] = le_bowler.transform(new_match_data['bowler'])\n",
        "\n",
        "predicted_strategy = model.predict(new_match_data[['batsman_encoded', 'bowler_encoded', 'over', 'total_runs']])[0]\n",
        "print(f\"Predicted Bowling Strategy: {predicted_strategy}\")"
      ],
      "metadata": {
        "colab": {
          "base_uri": "https://localhost:8080/"
        },
        "id": "apzqCBFV37j3",
        "outputId": "623f5462-8381-4573-8851-020c911b4363"
      },
      "execution_count": 54,
      "outputs": [
        {
          "output_type": "stream",
          "name": "stdout",
          "text": [
            "Predicted Bowling Strategy: Spin\n"
          ]
        }
      ]
    },
    {
      "cell_type": "markdown",
      "source": [
        "Team-Specific Strategy Model (e.g., CSK vs RCB)"
      ],
      "metadata": {
        "id": "BPhoi3nsEuit"
      }
    },
    {
      "source": [
        "# Filter data for CSK vs RCB matchups\n",
        "csk_rcb_data = merged_df[\n",
        "    (merged_df['batting_team'] == 'Chennai Super Kings') &\n",
        "    (merged_df['bowling_team'] == 'Royal Challengers Bangalore')\n",
        "]"
      ],
      "cell_type": "code",
      "metadata": {
        "id": "ce3uetNjDl_Z"
      },
      "execution_count": 55,
      "outputs": []
    },
    {
      "source": [
        "# Select features and target\n",
        "features = ['venue_encoded', 'toss_encoded']  # Add or remove features as needed\n",
        "target = 'batting_strategy'  # Or any other strategy you want to model\n",
        "\n",
        "# Calculate run rate and assign batting strategy (similar to powerplay strategy)\n",
        "csk_rcb_data['total_runs'] = csk_rcb_data.groupby('matchId')['batsman_runs'].transform('sum')\n",
        "csk_rcb_data['total_balls'] = csk_rcb_data.groupby('matchId')['ball'].transform('count')\n",
        "csk_rcb_data['run_rate'] = (csk_rcb_data['total_runs'] / csk_rcb_data['total_balls']) * 6\n",
        "csk_rcb_data['batting_strategy'] = csk_rcb_data['run_rate'].apply(lambda x: 'Aggressive' if x > 9 else 'Conservative')\n",
        "\n",
        "X_csk_rcb = csk_rcb_data[features]\n",
        "y_csk_rcb = csk_rcb_data[target]"
      ],
      "cell_type": "code",
      "metadata": {
        "id": "myfM09y-Dod-"
      },
      "execution_count": 56,
      "outputs": []
    },
    {
      "source": [
        "# Train a specialized model for CSK vs RCB\n",
        "csk_rcb_model = RandomForestClassifier(n_estimators=100, random_state=1)\n",
        "csk_rcb_model.fit(X_csk_rcb, y_csk_rcb)"
      ],
      "cell_type": "code",
      "metadata": {
        "colab": {
          "base_uri": "https://localhost:8080/",
          "height": 80
        },
        "id": "d8IzAxcQDy80",
        "outputId": "e92c5e41-1704-463e-ccbe-c8c8e7b7575c"
      },
      "execution_count": 57,
      "outputs": [
        {
          "output_type": "execute_result",
          "data": {
            "text/plain": [
              "RandomForestClassifier(random_state=1)"
            ],
            "text/html": [
              "<style>#sk-container-id-1 {\n",
              "  /* Definition of color scheme common for light and dark mode */\n",
              "  --sklearn-color-text: #000;\n",
              "  --sklearn-color-text-muted: #666;\n",
              "  --sklearn-color-line: gray;\n",
              "  /* Definition of color scheme for unfitted estimators */\n",
              "  --sklearn-color-unfitted-level-0: #fff5e6;\n",
              "  --sklearn-color-unfitted-level-1: #f6e4d2;\n",
              "  --sklearn-color-unfitted-level-2: #ffe0b3;\n",
              "  --sklearn-color-unfitted-level-3: chocolate;\n",
              "  /* Definition of color scheme for fitted estimators */\n",
              "  --sklearn-color-fitted-level-0: #f0f8ff;\n",
              "  --sklearn-color-fitted-level-1: #d4ebff;\n",
              "  --sklearn-color-fitted-level-2: #b3dbfd;\n",
              "  --sklearn-color-fitted-level-3: cornflowerblue;\n",
              "\n",
              "  /* Specific color for light theme */\n",
              "  --sklearn-color-text-on-default-background: var(--sg-text-color, var(--theme-code-foreground, var(--jp-content-font-color1, black)));\n",
              "  --sklearn-color-background: var(--sg-background-color, var(--theme-background, var(--jp-layout-color0, white)));\n",
              "  --sklearn-color-border-box: var(--sg-text-color, var(--theme-code-foreground, var(--jp-content-font-color1, black)));\n",
              "  --sklearn-color-icon: #696969;\n",
              "\n",
              "  @media (prefers-color-scheme: dark) {\n",
              "    /* Redefinition of color scheme for dark theme */\n",
              "    --sklearn-color-text-on-default-background: var(--sg-text-color, var(--theme-code-foreground, var(--jp-content-font-color1, white)));\n",
              "    --sklearn-color-background: var(--sg-background-color, var(--theme-background, var(--jp-layout-color0, #111)));\n",
              "    --sklearn-color-border-box: var(--sg-text-color, var(--theme-code-foreground, var(--jp-content-font-color1, white)));\n",
              "    --sklearn-color-icon: #878787;\n",
              "  }\n",
              "}\n",
              "\n",
              "#sk-container-id-1 {\n",
              "  color: var(--sklearn-color-text);\n",
              "}\n",
              "\n",
              "#sk-container-id-1 pre {\n",
              "  padding: 0;\n",
              "}\n",
              "\n",
              "#sk-container-id-1 input.sk-hidden--visually {\n",
              "  border: 0;\n",
              "  clip: rect(1px 1px 1px 1px);\n",
              "  clip: rect(1px, 1px, 1px, 1px);\n",
              "  height: 1px;\n",
              "  margin: -1px;\n",
              "  overflow: hidden;\n",
              "  padding: 0;\n",
              "  position: absolute;\n",
              "  width: 1px;\n",
              "}\n",
              "\n",
              "#sk-container-id-1 div.sk-dashed-wrapped {\n",
              "  border: 1px dashed var(--sklearn-color-line);\n",
              "  margin: 0 0.4em 0.5em 0.4em;\n",
              "  box-sizing: border-box;\n",
              "  padding-bottom: 0.4em;\n",
              "  background-color: var(--sklearn-color-background);\n",
              "}\n",
              "\n",
              "#sk-container-id-1 div.sk-container {\n",
              "  /* jupyter's `normalize.less` sets `[hidden] { display: none; }`\n",
              "     but bootstrap.min.css set `[hidden] { display: none !important; }`\n",
              "     so we also need the `!important` here to be able to override the\n",
              "     default hidden behavior on the sphinx rendered scikit-learn.org.\n",
              "     See: https://github.com/scikit-learn/scikit-learn/issues/21755 */\n",
              "  display: inline-block !important;\n",
              "  position: relative;\n",
              "}\n",
              "\n",
              "#sk-container-id-1 div.sk-text-repr-fallback {\n",
              "  display: none;\n",
              "}\n",
              "\n",
              "div.sk-parallel-item,\n",
              "div.sk-serial,\n",
              "div.sk-item {\n",
              "  /* draw centered vertical line to link estimators */\n",
              "  background-image: linear-gradient(var(--sklearn-color-text-on-default-background), var(--sklearn-color-text-on-default-background));\n",
              "  background-size: 2px 100%;\n",
              "  background-repeat: no-repeat;\n",
              "  background-position: center center;\n",
              "}\n",
              "\n",
              "/* Parallel-specific style estimator block */\n",
              "\n",
              "#sk-container-id-1 div.sk-parallel-item::after {\n",
              "  content: \"\";\n",
              "  width: 100%;\n",
              "  border-bottom: 2px solid var(--sklearn-color-text-on-default-background);\n",
              "  flex-grow: 1;\n",
              "}\n",
              "\n",
              "#sk-container-id-1 div.sk-parallel {\n",
              "  display: flex;\n",
              "  align-items: stretch;\n",
              "  justify-content: center;\n",
              "  background-color: var(--sklearn-color-background);\n",
              "  position: relative;\n",
              "}\n",
              "\n",
              "#sk-container-id-1 div.sk-parallel-item {\n",
              "  display: flex;\n",
              "  flex-direction: column;\n",
              "}\n",
              "\n",
              "#sk-container-id-1 div.sk-parallel-item:first-child::after {\n",
              "  align-self: flex-end;\n",
              "  width: 50%;\n",
              "}\n",
              "\n",
              "#sk-container-id-1 div.sk-parallel-item:last-child::after {\n",
              "  align-self: flex-start;\n",
              "  width: 50%;\n",
              "}\n",
              "\n",
              "#sk-container-id-1 div.sk-parallel-item:only-child::after {\n",
              "  width: 0;\n",
              "}\n",
              "\n",
              "/* Serial-specific style estimator block */\n",
              "\n",
              "#sk-container-id-1 div.sk-serial {\n",
              "  display: flex;\n",
              "  flex-direction: column;\n",
              "  align-items: center;\n",
              "  background-color: var(--sklearn-color-background);\n",
              "  padding-right: 1em;\n",
              "  padding-left: 1em;\n",
              "}\n",
              "\n",
              "\n",
              "/* Toggleable style: style used for estimator/Pipeline/ColumnTransformer box that is\n",
              "clickable and can be expanded/collapsed.\n",
              "- Pipeline and ColumnTransformer use this feature and define the default style\n",
              "- Estimators will overwrite some part of the style using the `sk-estimator` class\n",
              "*/\n",
              "\n",
              "/* Pipeline and ColumnTransformer style (default) */\n",
              "\n",
              "#sk-container-id-1 div.sk-toggleable {\n",
              "  /* Default theme specific background. It is overwritten whether we have a\n",
              "  specific estimator or a Pipeline/ColumnTransformer */\n",
              "  background-color: var(--sklearn-color-background);\n",
              "}\n",
              "\n",
              "/* Toggleable label */\n",
              "#sk-container-id-1 label.sk-toggleable__label {\n",
              "  cursor: pointer;\n",
              "  display: flex;\n",
              "  width: 100%;\n",
              "  margin-bottom: 0;\n",
              "  padding: 0.5em;\n",
              "  box-sizing: border-box;\n",
              "  text-align: center;\n",
              "  align-items: start;\n",
              "  justify-content: space-between;\n",
              "  gap: 0.5em;\n",
              "}\n",
              "\n",
              "#sk-container-id-1 label.sk-toggleable__label .caption {\n",
              "  font-size: 0.6rem;\n",
              "  font-weight: lighter;\n",
              "  color: var(--sklearn-color-text-muted);\n",
              "}\n",
              "\n",
              "#sk-container-id-1 label.sk-toggleable__label-arrow:before {\n",
              "  /* Arrow on the left of the label */\n",
              "  content: \"▸\";\n",
              "  float: left;\n",
              "  margin-right: 0.25em;\n",
              "  color: var(--sklearn-color-icon);\n",
              "}\n",
              "\n",
              "#sk-container-id-1 label.sk-toggleable__label-arrow:hover:before {\n",
              "  color: var(--sklearn-color-text);\n",
              "}\n",
              "\n",
              "/* Toggleable content - dropdown */\n",
              "\n",
              "#sk-container-id-1 div.sk-toggleable__content {\n",
              "  max-height: 0;\n",
              "  max-width: 0;\n",
              "  overflow: hidden;\n",
              "  text-align: left;\n",
              "  /* unfitted */\n",
              "  background-color: var(--sklearn-color-unfitted-level-0);\n",
              "}\n",
              "\n",
              "#sk-container-id-1 div.sk-toggleable__content.fitted {\n",
              "  /* fitted */\n",
              "  background-color: var(--sklearn-color-fitted-level-0);\n",
              "}\n",
              "\n",
              "#sk-container-id-1 div.sk-toggleable__content pre {\n",
              "  margin: 0.2em;\n",
              "  border-radius: 0.25em;\n",
              "  color: var(--sklearn-color-text);\n",
              "  /* unfitted */\n",
              "  background-color: var(--sklearn-color-unfitted-level-0);\n",
              "}\n",
              "\n",
              "#sk-container-id-1 div.sk-toggleable__content.fitted pre {\n",
              "  /* unfitted */\n",
              "  background-color: var(--sklearn-color-fitted-level-0);\n",
              "}\n",
              "\n",
              "#sk-container-id-1 input.sk-toggleable__control:checked~div.sk-toggleable__content {\n",
              "  /* Expand drop-down */\n",
              "  max-height: 200px;\n",
              "  max-width: 100%;\n",
              "  overflow: auto;\n",
              "}\n",
              "\n",
              "#sk-container-id-1 input.sk-toggleable__control:checked~label.sk-toggleable__label-arrow:before {\n",
              "  content: \"▾\";\n",
              "}\n",
              "\n",
              "/* Pipeline/ColumnTransformer-specific style */\n",
              "\n",
              "#sk-container-id-1 div.sk-label input.sk-toggleable__control:checked~label.sk-toggleable__label {\n",
              "  color: var(--sklearn-color-text);\n",
              "  background-color: var(--sklearn-color-unfitted-level-2);\n",
              "}\n",
              "\n",
              "#sk-container-id-1 div.sk-label.fitted input.sk-toggleable__control:checked~label.sk-toggleable__label {\n",
              "  background-color: var(--sklearn-color-fitted-level-2);\n",
              "}\n",
              "\n",
              "/* Estimator-specific style */\n",
              "\n",
              "/* Colorize estimator box */\n",
              "#sk-container-id-1 div.sk-estimator input.sk-toggleable__control:checked~label.sk-toggleable__label {\n",
              "  /* unfitted */\n",
              "  background-color: var(--sklearn-color-unfitted-level-2);\n",
              "}\n",
              "\n",
              "#sk-container-id-1 div.sk-estimator.fitted input.sk-toggleable__control:checked~label.sk-toggleable__label {\n",
              "  /* fitted */\n",
              "  background-color: var(--sklearn-color-fitted-level-2);\n",
              "}\n",
              "\n",
              "#sk-container-id-1 div.sk-label label.sk-toggleable__label,\n",
              "#sk-container-id-1 div.sk-label label {\n",
              "  /* The background is the default theme color */\n",
              "  color: var(--sklearn-color-text-on-default-background);\n",
              "}\n",
              "\n",
              "/* On hover, darken the color of the background */\n",
              "#sk-container-id-1 div.sk-label:hover label.sk-toggleable__label {\n",
              "  color: var(--sklearn-color-text);\n",
              "  background-color: var(--sklearn-color-unfitted-level-2);\n",
              "}\n",
              "\n",
              "/* Label box, darken color on hover, fitted */\n",
              "#sk-container-id-1 div.sk-label.fitted:hover label.sk-toggleable__label.fitted {\n",
              "  color: var(--sklearn-color-text);\n",
              "  background-color: var(--sklearn-color-fitted-level-2);\n",
              "}\n",
              "\n",
              "/* Estimator label */\n",
              "\n",
              "#sk-container-id-1 div.sk-label label {\n",
              "  font-family: monospace;\n",
              "  font-weight: bold;\n",
              "  display: inline-block;\n",
              "  line-height: 1.2em;\n",
              "}\n",
              "\n",
              "#sk-container-id-1 div.sk-label-container {\n",
              "  text-align: center;\n",
              "}\n",
              "\n",
              "/* Estimator-specific */\n",
              "#sk-container-id-1 div.sk-estimator {\n",
              "  font-family: monospace;\n",
              "  border: 1px dotted var(--sklearn-color-border-box);\n",
              "  border-radius: 0.25em;\n",
              "  box-sizing: border-box;\n",
              "  margin-bottom: 0.5em;\n",
              "  /* unfitted */\n",
              "  background-color: var(--sklearn-color-unfitted-level-0);\n",
              "}\n",
              "\n",
              "#sk-container-id-1 div.sk-estimator.fitted {\n",
              "  /* fitted */\n",
              "  background-color: var(--sklearn-color-fitted-level-0);\n",
              "}\n",
              "\n",
              "/* on hover */\n",
              "#sk-container-id-1 div.sk-estimator:hover {\n",
              "  /* unfitted */\n",
              "  background-color: var(--sklearn-color-unfitted-level-2);\n",
              "}\n",
              "\n",
              "#sk-container-id-1 div.sk-estimator.fitted:hover {\n",
              "  /* fitted */\n",
              "  background-color: var(--sklearn-color-fitted-level-2);\n",
              "}\n",
              "\n",
              "/* Specification for estimator info (e.g. \"i\" and \"?\") */\n",
              "\n",
              "/* Common style for \"i\" and \"?\" */\n",
              "\n",
              ".sk-estimator-doc-link,\n",
              "a:link.sk-estimator-doc-link,\n",
              "a:visited.sk-estimator-doc-link {\n",
              "  float: right;\n",
              "  font-size: smaller;\n",
              "  line-height: 1em;\n",
              "  font-family: monospace;\n",
              "  background-color: var(--sklearn-color-background);\n",
              "  border-radius: 1em;\n",
              "  height: 1em;\n",
              "  width: 1em;\n",
              "  text-decoration: none !important;\n",
              "  margin-left: 0.5em;\n",
              "  text-align: center;\n",
              "  /* unfitted */\n",
              "  border: var(--sklearn-color-unfitted-level-1) 1pt solid;\n",
              "  color: var(--sklearn-color-unfitted-level-1);\n",
              "}\n",
              "\n",
              ".sk-estimator-doc-link.fitted,\n",
              "a:link.sk-estimator-doc-link.fitted,\n",
              "a:visited.sk-estimator-doc-link.fitted {\n",
              "  /* fitted */\n",
              "  border: var(--sklearn-color-fitted-level-1) 1pt solid;\n",
              "  color: var(--sklearn-color-fitted-level-1);\n",
              "}\n",
              "\n",
              "/* On hover */\n",
              "div.sk-estimator:hover .sk-estimator-doc-link:hover,\n",
              ".sk-estimator-doc-link:hover,\n",
              "div.sk-label-container:hover .sk-estimator-doc-link:hover,\n",
              ".sk-estimator-doc-link:hover {\n",
              "  /* unfitted */\n",
              "  background-color: var(--sklearn-color-unfitted-level-3);\n",
              "  color: var(--sklearn-color-background);\n",
              "  text-decoration: none;\n",
              "}\n",
              "\n",
              "div.sk-estimator.fitted:hover .sk-estimator-doc-link.fitted:hover,\n",
              ".sk-estimator-doc-link.fitted:hover,\n",
              "div.sk-label-container:hover .sk-estimator-doc-link.fitted:hover,\n",
              ".sk-estimator-doc-link.fitted:hover {\n",
              "  /* fitted */\n",
              "  background-color: var(--sklearn-color-fitted-level-3);\n",
              "  color: var(--sklearn-color-background);\n",
              "  text-decoration: none;\n",
              "}\n",
              "\n",
              "/* Span, style for the box shown on hovering the info icon */\n",
              ".sk-estimator-doc-link span {\n",
              "  display: none;\n",
              "  z-index: 9999;\n",
              "  position: relative;\n",
              "  font-weight: normal;\n",
              "  right: .2ex;\n",
              "  padding: .5ex;\n",
              "  margin: .5ex;\n",
              "  width: min-content;\n",
              "  min-width: 20ex;\n",
              "  max-width: 50ex;\n",
              "  color: var(--sklearn-color-text);\n",
              "  box-shadow: 2pt 2pt 4pt #999;\n",
              "  /* unfitted */\n",
              "  background: var(--sklearn-color-unfitted-level-0);\n",
              "  border: .5pt solid var(--sklearn-color-unfitted-level-3);\n",
              "}\n",
              "\n",
              ".sk-estimator-doc-link.fitted span {\n",
              "  /* fitted */\n",
              "  background: var(--sklearn-color-fitted-level-0);\n",
              "  border: var(--sklearn-color-fitted-level-3);\n",
              "}\n",
              "\n",
              ".sk-estimator-doc-link:hover span {\n",
              "  display: block;\n",
              "}\n",
              "\n",
              "/* \"?\"-specific style due to the `<a>` HTML tag */\n",
              "\n",
              "#sk-container-id-1 a.estimator_doc_link {\n",
              "  float: right;\n",
              "  font-size: 1rem;\n",
              "  line-height: 1em;\n",
              "  font-family: monospace;\n",
              "  background-color: var(--sklearn-color-background);\n",
              "  border-radius: 1rem;\n",
              "  height: 1rem;\n",
              "  width: 1rem;\n",
              "  text-decoration: none;\n",
              "  /* unfitted */\n",
              "  color: var(--sklearn-color-unfitted-level-1);\n",
              "  border: var(--sklearn-color-unfitted-level-1) 1pt solid;\n",
              "}\n",
              "\n",
              "#sk-container-id-1 a.estimator_doc_link.fitted {\n",
              "  /* fitted */\n",
              "  border: var(--sklearn-color-fitted-level-1) 1pt solid;\n",
              "  color: var(--sklearn-color-fitted-level-1);\n",
              "}\n",
              "\n",
              "/* On hover */\n",
              "#sk-container-id-1 a.estimator_doc_link:hover {\n",
              "  /* unfitted */\n",
              "  background-color: var(--sklearn-color-unfitted-level-3);\n",
              "  color: var(--sklearn-color-background);\n",
              "  text-decoration: none;\n",
              "}\n",
              "\n",
              "#sk-container-id-1 a.estimator_doc_link.fitted:hover {\n",
              "  /* fitted */\n",
              "  background-color: var(--sklearn-color-fitted-level-3);\n",
              "}\n",
              "</style><div id=\"sk-container-id-1\" class=\"sk-top-container\"><div class=\"sk-text-repr-fallback\"><pre>RandomForestClassifier(random_state=1)</pre><b>In a Jupyter environment, please rerun this cell to show the HTML representation or trust the notebook. <br />On GitHub, the HTML representation is unable to render, please try loading this page with nbviewer.org.</b></div><div class=\"sk-container\" hidden><div class=\"sk-item\"><div class=\"sk-estimator fitted sk-toggleable\"><input class=\"sk-toggleable__control sk-hidden--visually\" id=\"sk-estimator-id-1\" type=\"checkbox\" checked><label for=\"sk-estimator-id-1\" class=\"sk-toggleable__label fitted sk-toggleable__label-arrow\"><div><div>RandomForestClassifier</div></div><div><a class=\"sk-estimator-doc-link fitted\" rel=\"noreferrer\" target=\"_blank\" href=\"https://scikit-learn.org/1.6/modules/generated/sklearn.ensemble.RandomForestClassifier.html\">?<span>Documentation for RandomForestClassifier</span></a><span class=\"sk-estimator-doc-link fitted\">i<span>Fitted</span></span></div></label><div class=\"sk-toggleable__content fitted\"><pre>RandomForestClassifier(random_state=1)</pre></div> </div></div></div></div>"
            ]
          },
          "metadata": {},
          "execution_count": 57
        }
      ]
    },
    {
      "source": [
        "# Predict using CSK-RCB context\n",
        "new_match_data = {\n",
        "    'venue': 'M Chinnaswamy Stadium',\n",
        "    'toss_decision': 'bat'\n",
        "}\n",
        "\n",
        "encoded_input_csk_rcb = [\n",
        "    le_venue.transform([new_match_data['venue']])[0],\n",
        "    le_toss.transform([new_match_data['toss_decision']])[0]\n",
        "]\n",
        "\n",
        "predicted_strategy = csk_rcb_model.predict([encoded_input_csk_rcb])[0]\n",
        "print(f\"Team-Specific Strategy (CSK vs RCB): {predicted_strategy}\")"
      ],
      "cell_type": "code",
      "metadata": {
        "colab": {
          "base_uri": "https://localhost:8080/"
        },
        "id": "ueyMdOfDD1iJ",
        "outputId": "84becc2f-d677-4521-f69d-13ecab888191"
      },
      "execution_count": 58,
      "outputs": [
        {
          "output_type": "stream",
          "name": "stdout",
          "text": [
            "Team-Specific Strategy (CSK vs RCB): Conservative\n"
          ]
        }
      ]
    },
    {
      "source": [
        "import ipywidgets as widgets\n",
        "from IPython.display import display\n",
        "\n",
        "# Venue Selection\n",
        "venue_widget = widgets.Dropdown(\n",
        "    options=['Wankhede', 'Chepauk', 'Chinnaswamy'],\n",
        "    description='Venue:'\n",
        ")\n",
        "\n",
        "# Toss Decision\n",
        "toss_widget = widgets.Dropdown(\n",
        "    options=['bat', 'field'],\n",
        "    description='Toss Decision:'\n",
        ")\n",
        "\n",
        "\n",
        "team1_lineup_widget = widgets.SelectMultiple(\n",
        "    options=['CH Gayle', 'AB de Villiers', 'GJ Maxwell'],\n",
        "    description='Team 1 Lineup:'\n",
        ")\n",
        "\n",
        "team2_lineup_widget = widgets.SelectMultiple(\n",
        "    options=['DJ Bravo', 'JR Hazlewood', 'MJ Santner'],\n",
        "    description='Team 2 Lineup:'\n",
        ")\n",
        "\n",
        "# Display widgets\n",
        "display(venue_widget, toss_widget, team1_lineup_widget, team2_lineup_widget)"
      ],
      "cell_type": "code",
      "metadata": {
        "colab": {
          "base_uri": "https://localhost:8080/",
          "height": 262,
          "referenced_widgets": [
            "4259c413a3894d7e99781ee6ac16f482",
            "f2c6b7b6c3a343d3a3553ef681174ab8",
            "46d73ecc54644fd182eb3166ca4e3ee2",
            "d8e81f4e26924e1ea3a1f5ae2f2f5f78",
            "1e089c0ca0634b2d83953a8956721db2",
            "85e2c17a00744ad2bf0fefb7c4957d6f",
            "42619196cad640f8844af0a0bd35484d",
            "e267098f12ad4fba9ea9d7d9a753bf59",
            "b864e2b77c1c4325b8a7bcc1070c3b6b",
            "8865391e39d347e3a58e720ff6b79922",
            "f65175d2c5b945f68953f8a61f45fd0d",
            "be30bfcd00f143c681aeaa9553d7817c"
          ]
        },
        "id": "YJfov3bKFE1S",
        "outputId": "28a2b8fd-d0a6-4aa8-b7d8-36b69eadf39d"
      },
      "execution_count": 59,
      "outputs": [
        {
          "output_type": "display_data",
          "data": {
            "text/plain": [
              "Dropdown(description='Venue:', options=('Wankhede', 'Chepauk', 'Chinnaswamy'), value='Wankhede')"
            ],
            "application/vnd.jupyter.widget-view+json": {
              "version_major": 2,
              "version_minor": 0,
              "model_id": "4259c413a3894d7e99781ee6ac16f482"
            }
          },
          "metadata": {}
        },
        {
          "output_type": "display_data",
          "data": {
            "text/plain": [
              "Dropdown(description='Toss Decision:', options=('bat', 'field'), value='bat')"
            ],
            "application/vnd.jupyter.widget-view+json": {
              "version_major": 2,
              "version_minor": 0,
              "model_id": "d8e81f4e26924e1ea3a1f5ae2f2f5f78"
            }
          },
          "metadata": {}
        },
        {
          "output_type": "display_data",
          "data": {
            "text/plain": [
              "SelectMultiple(description='Team 1 Lineup:', options=('CH Gayle', 'AB de Villiers', 'GJ Maxwell'), value=())"
            ],
            "application/vnd.jupyter.widget-view+json": {
              "version_major": 2,
              "version_minor": 0,
              "model_id": "42619196cad640f8844af0a0bd35484d"
            }
          },
          "metadata": {}
        },
        {
          "output_type": "display_data",
          "data": {
            "text/plain": [
              "SelectMultiple(description='Team 2 Lineup:', options=('DJ Bravo', 'JR Hazlewood', 'MJ Santner'), value=())"
            ],
            "application/vnd.jupyter.widget-view+json": {
              "version_major": 2,
              "version_minor": 0,
              "model_id": "8865391e39d347e3a58e720ff6b79922"
            }
          },
          "metadata": {}
        }
      ]
    },
    {
      "source": [
        "def simulate_match_with_factors(start_state=(0, 0, 0), venue= 'M Chinnaswamy Stadium',\n",
        "                                 bowler_type='Pace', toss_decision='bat',\n",
        "                                 team1_lineup=[], team2_lineup=[]):\n",
        "    current_state = start_state\n",
        "    match_states = [current_state]\n",
        "\n",
        "\n",
        "    while current_state[2] < 120 and current_state[1] < 10:\n",
        "        if current_state in state_transitions:\n",
        "            next_states, probabilities = state_transitions[current_state]\n",
        "            probabilities = adjust_probabilities(current_state, next_states, probabilities, venue, bowler_type)\n",
        "\n",
        "            # Ensure next state's ball number doesn't exceed 120 and is unique\n",
        "            valid_next_states = [state for state in next_states\n",
        "                                 if state[2] <= 120 and state[2] > current_state[2]]\n",
        "            if valid_next_states:\n",
        "                # Adjust probabilities for valid states\n",
        "                valid_probabilities = [probabilities[next_states.index(state)] for state in valid_next_states]\n",
        "                # Normalize probabilities\n",
        "                valid_probabilities = np.array(valid_probabilities) / sum(valid_probabilities)\n",
        "\n",
        "                current_state = random.choices(valid_next_states, valid_probabilities)[0]\n",
        "                match_states.append(current_state)\n",
        "            else:\n",
        "                break  # No valid next states, end simulation\n",
        "        else:\n",
        "            break  # Current state not found in transitions, end simulation\n",
        "\n",
        "\n",
        "    return match_states"
      ],
      "cell_type": "code",
      "metadata": {
        "id": "YbYE8I8IF8rk"
      },
      "execution_count": 60,
      "outputs": []
    },
    {
      "source": [
        "import matplotlib.pyplot as plt\n",
        "button = widgets.Button(description=\"Simulate Match\")\n",
        "\n",
        "# Output widget to display results\n",
        "output = widgets.Output()\n",
        "\n",
        "def on_input_change(change):\n",
        "    with output:\n",
        "        output.clear_output(wait=True)  # Clear previous output\n",
        "\n",
        "        # Get values from input widgets\n",
        "        venue = venue_widget.value\n",
        "        toss_decision = toss_widget.value\n",
        "        team1_lineup = list(team1_lineup_widget.value)  # Convert to list\n",
        "        team2_lineup = list(team2_lineup_widget.value)  # Convert to list\n",
        "\n",
        "        # Run simulation with updated inputs\n",
        "        match = simulate_match_with_factors(venue=venue, bowler_type='Pace', # Or dynamic bowler type\n",
        "                                             toss_decision=toss_decision,\n",
        "                                             team1_lineup=team1_lineup,\n",
        "                                             team2_lineup=team2_lineup)\n",
        "\n",
        "        # ... (Process and visualize the simulation results) ...\n",
        "        df = pd.DataFrame(match, columns=[\"Runs\", \"Wickets\", \"Balls\"])\n",
        "        df = df[df['Balls'] <= 120]  # Add this line for filtering\n",
        "        df.sort_values(by=['Balls'], inplace=True)\n",
        "        df['Ball Number'] = df.index\n",
        "           # Plot Runs and Wickets\n",
        "        fig, axes = plt.subplots(1, 2, figsize=(14, 5))\n",
        "\n",
        "        # Runs vs Balls\n",
        "        axes[0].plot(df['Balls'], df['Runs'], color='blue')\n",
        "        axes[0].set_title('Runs vs Balls')\n",
        "        axes[0].set_xlabel('Balls')\n",
        "        axes[0].set_ylabel('Runs')\n",
        "\n",
        "        # Wickets vs Balls\n",
        "        axes[1].plot(df['Balls'], df['Wickets'], color='red')\n",
        "        axes[1].set_title('Wickets vs Balls')\n",
        "        axes[1].set_xlabel('Balls')\n",
        "        axes[1].set_ylabel('Wickets')\n",
        "\n",
        "        plt.tight_layout()\n",
        "        plt.show()\n",
        "\n",
        "button.on_click(on_button_clicked)\n",
        "\n",
        "# Observe widget changes and trigger simulation\n",
        "venue_widget.observe(on_input_change, names='value')\n",
        "toss_widget.observe(on_input_change, names='value')\n",
        "team1_lineup_widget.observe(on_input_change, names='value')\n",
        "team2_lineup_widget.observe(on_input_change, names='value')\n",
        "\n",
        "# Display the output area\n",
        "display(venue_widget, toss_widget, team1_lineup_widget, team2_lineup_widget, button, output)"
      ],
      "cell_type": "code",
      "metadata": {
        "colab": {
          "base_uri": "https://localhost:8080/",
          "height": 294,
          "referenced_widgets": [
            "4259c413a3894d7e99781ee6ac16f482",
            "f2c6b7b6c3a343d3a3553ef681174ab8",
            "46d73ecc54644fd182eb3166ca4e3ee2",
            "d8e81f4e26924e1ea3a1f5ae2f2f5f78",
            "1e089c0ca0634b2d83953a8956721db2",
            "85e2c17a00744ad2bf0fefb7c4957d6f",
            "42619196cad640f8844af0a0bd35484d",
            "e267098f12ad4fba9ea9d7d9a753bf59",
            "b864e2b77c1c4325b8a7bcc1070c3b6b",
            "8865391e39d347e3a58e720ff6b79922",
            "f65175d2c5b945f68953f8a61f45fd0d",
            "be30bfcd00f143c681aeaa9553d7817c",
            "6796d06aa6e448a885c903f1fc998a7e",
            "660e59304cde48358a387c0b04c80a4b",
            "049998975d4d41b090af10368fa85d47",
            "c61c2912fa764e1db95ccb659bf67b36",
            "e7cdf8e728b648f2a67d9785e67f6ff2"
          ]
        },
        "id": "SLW7uBmpGiNN",
        "outputId": "3f1bf819-ba0b-41de-80aa-186ec1583173"
      },
      "execution_count": 61,
      "outputs": [
        {
          "output_type": "display_data",
          "data": {
            "text/plain": [
              "Dropdown(description='Venue:', options=('Wankhede', 'Chepauk', 'Chinnaswamy'), value='Wankhede')"
            ],
            "application/vnd.jupyter.widget-view+json": {
              "version_major": 2,
              "version_minor": 0,
              "model_id": "4259c413a3894d7e99781ee6ac16f482"
            }
          },
          "metadata": {}
        },
        {
          "output_type": "display_data",
          "data": {
            "text/plain": [
              "Dropdown(description='Toss Decision:', options=('bat', 'field'), value='bat')"
            ],
            "application/vnd.jupyter.widget-view+json": {
              "version_major": 2,
              "version_minor": 0,
              "model_id": "d8e81f4e26924e1ea3a1f5ae2f2f5f78"
            }
          },
          "metadata": {}
        },
        {
          "output_type": "display_data",
          "data": {
            "text/plain": [
              "SelectMultiple(description='Team 1 Lineup:', options=('CH Gayle', 'AB de Villiers', 'GJ Maxwell'), value=())"
            ],
            "application/vnd.jupyter.widget-view+json": {
              "version_major": 2,
              "version_minor": 0,
              "model_id": "42619196cad640f8844af0a0bd35484d"
            }
          },
          "metadata": {}
        },
        {
          "output_type": "display_data",
          "data": {
            "text/plain": [
              "SelectMultiple(description='Team 2 Lineup:', options=('DJ Bravo', 'JR Hazlewood', 'MJ Santner'), value=())"
            ],
            "application/vnd.jupyter.widget-view+json": {
              "version_major": 2,
              "version_minor": 0,
              "model_id": "8865391e39d347e3a58e720ff6b79922"
            }
          },
          "metadata": {}
        },
        {
          "output_type": "display_data",
          "data": {
            "text/plain": [
              "Button(description='Simulate Match', style=ButtonStyle())"
            ],
            "application/vnd.jupyter.widget-view+json": {
              "version_major": 2,
              "version_minor": 0,
              "model_id": "6796d06aa6e448a885c903f1fc998a7e"
            }
          },
          "metadata": {}
        },
        {
          "output_type": "display_data",
          "data": {
            "text/plain": [
              "Output()"
            ],
            "application/vnd.jupyter.widget-view+json": {
              "version_major": 2,
              "version_minor": 0,
              "model_id": "c61c2912fa764e1db95ccb659bf67b36"
            }
          },
          "metadata": {}
        }
      ]
    },
    {
      "cell_type": "markdown",
      "source": [
        "In high-stakes T20 matches, the ability to anticipate the opponent’s tactical moves (like death-over bowling plans or powerplay intent) gives teams a massive edge.\n",
        "\n",
        "Traditionally, this insight comes from manual analysis by coaches and video analysts — but that’s slow, inconsistent, and reactive.\n",
        "This project introduces an AI-powered tactical prediction engine that learns from team-specific behaviors, match situations, and venue factors to forecast how an opponent is likely to play — before the game begins or in real-time.\n",
        "\n",
        "\n",
        "We approached the problem in three parts:\n",
        "\n",
        "Data Collection\n",
        "\n",
        "Collected ball-by-ball data from IPL & T20 leagues\n",
        "\n",
        "Engineered features like match phase, opposition, venue, required run rate, batsmen type, bowler type\n",
        "\n",
        "Model Building\n",
        "\n",
        "For each phase (Powerplay, Middle Overs, Death Overs), trained classification models using:\n",
        "\n",
        "Random Forest for strategy type (e.g., yorker-heavy, bouncer-heavy, spin-rotation)\n",
        "\n",
        "XGBoost for decision trees when optimizing for tactical outcomes.\n",
        "\n",
        "CSK and RCB prepare for a tactical battle. RCB, predicted to be aggressive in the powerplay (100% model accuracy), aims for early dominance. CSK's middle-over strategy is less certain (100% accuracy) but leans towards spin. The death overs will likely see CSK rely on spin, predicted with 100% accuracy. A dedicated CSK vs RCB model also forecasts an aggressive approach from RCB.\n",
        "\n",
        "\n",
        "Team-Specific Strategy Model (e.g., CSK vs RCB)\n",
        "Under the Chinnaswamy Stadium lights, Chennai Super Kings and Royal Challengers Bangalore prepare for a tactical duel. Surprisingly, the data whispers a tale of caution. CSK, known for their calculated aggression, are predicted to adopt a conservative approach. Perhaps wary of RCB's formidable batting lineup on their home turf, they'll prioritize building a solid foundation, accumulating runs steadily rather than risking early wickets. This unexpected approach adds a layer of intrigue, leaving fans wondering if CSK's calculated restraint will outsmart RCB's firepower or if it'll backfire, allowing RCB to seize control. The stage is set for a captivating clash of contrasting strategies."
      ],
      "metadata": {
        "id": "s_yjfzrAJ-iH"
      }
    }
  ]
}
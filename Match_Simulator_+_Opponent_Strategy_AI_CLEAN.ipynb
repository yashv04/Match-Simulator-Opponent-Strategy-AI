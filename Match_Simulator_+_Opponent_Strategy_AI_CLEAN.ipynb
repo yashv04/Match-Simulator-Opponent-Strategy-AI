{
  "cells": [
    {
      "cell_type": "markdown",
      "metadata": {
        "id": "view-in-github",
        "colab_type": "text"
      },
      "source": [
        "<a href=\"https://colab.research.google.com/github/yashv04/Match-Simulator-Opponent-Strategy-AI/blob/main/Match_Simulator_%2B_Opponent_Strategy_AI_CLEAN.ipynb\" target=\"_parent\"><img src=\"https://colab.research.google.com/assets/colab-badge.svg\" alt=\"Open In Colab\"/></a>"
      ]
    },
    {
      "cell_type": "markdown",
      "metadata": {
        "id": "vN0F4C5SVGFw"
      },
      "source": [
        "#Implement ball-by-ball match simulator (Markov Chains)."
      ]
    },
    {
      "cell_type": "code",
      "execution_count": null,
      "metadata": {
        "id": "T7DNyq8eplx1"
      },
      "outputs": [],
      "source": [
        "import pandas as pd\n",
        "import numpy as np\n",
        "import matplotlib.pyplot as plt\n",
        "import math\n",
        "import random\n",
        "import warnings\n",
        "warnings.filterwarnings('ignore')"
      ]
    },
    {
      "cell_type": "code",
      "execution_count": null,
      "metadata": {
        "id": "VZYChclMVUVy"
      },
      "outputs": [],
      "source": [
        "deliveries = pd.read_csv('deliveries_updated_mens_ipl.csv')\n",
        "matches = pd.read_csv('matches_updated_mens_ipl.csv')"
      ]
    },
    {
      "cell_type": "code",
      "execution_count": null,
      "metadata": {
        "collapsed": true,
        "id": "vo6pf-S3Oc7c"
      },
      "outputs": [],
      "source": [
        "df = deliveries.copy()\n",
        "df = df.rename(columns = {'matchId' : 'match_id', 'batsman_runs' : 'runs_off_bat', 'dismissal_kind': 'wicket_type'})"
      ]
    },
    {
      "cell_type": "code",
      "execution_count": null,
      "metadata": {
        "id": "LTiEE_jQTG0b"
      },
      "outputs": [],
      "source": [
        "# Step 1: Feature Engineering\n",
        "df['ball_number'] = df['over'] * 6 + df['ball'] - 1\n",
        "df['is_wicket'] = df['wicket_type'].notnull().astype(int)\n",
        "df['runs_cumsum'] = df.groupby('match_id')['runs_off_bat'].cumsum()\n",
        "df['wickets_cumsum'] = df.groupby('match_id')['is_wicket'].cumsum()"
      ]
    },
    {
      "cell_type": "code",
      "execution_count": null,
      "metadata": {
        "id": "rGoWY8Q0TG6v"
      },
      "outputs": [],
      "source": [
        "# Step 2: Create next state columns\n",
        "df['next_runs'] = df['runs_cumsum'].shift(-1)\n",
        "df['next_wickets'] = df['wickets_cumsum'].shift(-1)\n",
        "df['next_ball'] = df['ball_number'].shift(-1)\n",
        "df['next_match_id'] = df['match_id'].shift(-1)\n",
        "df = df[df['match_id'] == df['next_match_id']]\n",
        "df.dropna(subset=['next_runs', 'next_wickets', 'next_ball'], inplace=True)"
      ]
    },
    {
      "cell_type": "code",
      "execution_count": null,
      "metadata": {
        "id": "bcRtNXTCTHAt"
      },
      "outputs": [],
      "source": [
        "# Step 3: Build Markov Chain transitions\n",
        "state_transitions = {}\n",
        "for _, row in df.iterrows():\n",
        "    current_state = (int(row['runs_cumsum']), int(row['wickets_cumsum']), int(row['ball_number']))\n",
        "    next_state = (int(row['next_runs']), int(row['next_wickets']), int(row['next_ball']))\n",
        "    if current_state not in state_transitions:\n",
        "        state_transitions[current_state] = []\n",
        "    state_transitions[current_state].append(next_state)\n",
        "\n",
        "# Step 4: Convert transitions to probabilities\n",
        "for state, transitions in state_transitions.items():\n",
        "    unique_transitions = list(set(transitions))\n",
        "    probabilities = [transitions.count(t) / len(transitions) for t in unique_transitions]\n",
        "    state_transitions[state] = (unique_transitions, probabilities)"
      ]
    },
    {
      "cell_type": "code",
      "execution_count": null,
      "metadata": {
        "id": "v1PruBqLTHHD"
      },
      "outputs": [],
      "source": [
        "# Step 5: Simulation function\n",
        "def simulate_match(start_state=(0, 0, 0), max_balls=120):\n",
        "    current_state = start_state\n",
        "    match_states = [current_state]\n",
        "    while current_state[2] < max_balls and current_state[1] < 10:\n",
        "        if current_state in state_transitions:\n",
        "            next_states, probabilities = state_transitions[current_state]\n",
        "            current_state = random.choices(next_states, probabilities)[0]\n",
        "            match_states.append(current_state)\n",
        "        else:\n",
        "            break\n",
        "    return match_states"
      ]
    },
    {
      "cell_type": "code",
      "execution_count": null,
      "metadata": {
        "colab": {
          "base_uri": "https://localhost:8080/"
        },
        "id": "ybtnjkLrTHN_",
        "outputId": "556e824c-f357-4a23-ced9-37e50d840081"
      },
      "outputs": [
        {
          "name": "stdout",
          "output_type": "stream",
          "text": [
            "     Runs  Wickets  Balls\n",
            "115   152        5    111\n",
            "116   153        5    112\n",
            "117   153        5    113\n",
            "118   154        5    114\n",
            "119   156        5    115\n",
            "120   157        5    116\n",
            "121   163        5    117\n",
            "122   167        5    118\n",
            "123   167        5    119\n",
            "124   171        5    120\n"
          ]
        }
      ],
      "source": [
        "simulated_match = simulate_match(start_state=(0, 0, 0))\n",
        "simulated_df = pd.DataFrame(simulated_match, columns=['Runs', 'Wickets', 'Balls'])\n",
        "\n",
        "# Output: Last 10 states\n",
        "print(simulated_df.tail(10))"
      ]
    },
    {
      "cell_type": "markdown",
      "metadata": {
        "id": "tibTCfnWVVId"
      },
      "source": [
        "#Enhancing the Cricket Match Simulator"
      ]
    },
    {
      "cell_type": "code",
      "execution_count": null,
      "metadata": {
        "id": "BXWsCWFxVVLV"
      },
      "outputs": [],
      "source": [
        "# Modify state transitions to include venue & opponent factors\n",
        "venue_factors = {'Wankhede': 1.1, 'Chepauk': 0.9, 'Chinnaswamy': 1.2}  # Adjust run probabilities\n",
        "bowler_types = {'Pace': 1.0, 'Spin': 0.8}  # Reduce runs against spin"
      ]
    },
    {
      "cell_type": "code",
      "execution_count": null,
      "metadata": {
        "id": "v362yz63VVOM"
      },
      "outputs": [],
      "source": [
        "def adjust_probabilities(state, next_states, probabilities, venue, bowler_type):\n",
        "    # Modify run probabilities based on venue\n",
        "    venue_factor = venue_factors.get(venue, 1.0)\n",
        "    bowler_factor = bowler_types.get(bowler_type, 1.0)\n",
        "\n",
        "    adjusted_probabilities = [\n",
        "        prob * venue_factor * bowler_factor for prob in probabilities\n",
        "    ]\n",
        "    # Normalize to ensure sum = 1\n",
        "    adjusted_probabilities = np.array(adjusted_probabilities) / sum(adjusted_probabilities)\n",
        "    return adjusted_probabilities"
      ]
    },
    {
      "cell_type": "code",
      "execution_count": null,
      "metadata": {
        "id": "uStyMUJCVVRH"
      },
      "outputs": [],
      "source": [
        "def simulate_match_with_factors(start_state=(0, 0, 0), venue='Wankhede', bowler_type='Pace'):\n",
        "    current_state = start_state\n",
        "    match_states = [current_state]\n",
        "\n",
        "\n",
        "    while current_state[2] < 120 and current_state[1] < 10:\n",
        "        if current_state in state_transitions:\n",
        "            next_states, probabilities = state_transitions[current_state]\n",
        "            probabilities = adjust_probabilities(current_state, next_states, probabilities, venue, bowler_type)\n",
        "\n",
        "            # Ensure next state's ball number doesn't exceed 120 and is unique\n",
        "            valid_next_states = [state for state in next_states\n",
        "                                 if state[2] <= 120 and state[2] > current_state[2]]\n",
        "            if valid_next_states:\n",
        "                # Adjust probabilities for valid states\n",
        "                valid_probabilities = [probabilities[next_states.index(state)] for state in valid_next_states]\n",
        "                # Normalize probabilities\n",
        "                valid_probabilities = np.array(valid_probabilities) / sum(valid_probabilities)\n",
        "\n",
        "                current_state = random.choices(valid_next_states, valid_probabilities)[0]\n",
        "                match_states.append(current_state)\n",
        "            else:\n",
        "                break  # No valid next states, end simulation\n",
        "        else:\n",
        "            break  # Current state not found in transitions, end simulation\n",
        "\n",
        "    return match_states"
      ]
    },
    {
      "cell_type": "code",
      "execution_count": null,
      "metadata": {
        "id": "psBt1lRxVVUb"
      },
      "outputs": [],
      "source": [
        "# Run enhanced simulation\n",
        "simulated_match = simulate_match_with_factors(venue='Wankhede', bowler_type='Pace')\n",
        "\n",
        "# Convert to DataFrame for visualization\n",
        "simulated_df = pd.DataFrame(simulated_match, columns=['Runs', 'Wickets', 'Balls'])"
      ]
    },
    {
      "cell_type": "markdown",
      "metadata": {
        "id": "yehumYANVVXa"
      },
      "source": [
        "#Visualizing the Simulation Progress"
      ]
    },
    {
      "cell_type": "code",
      "execution_count": null,
      "metadata": {
        "colab": {
          "base_uri": "https://localhost:8080/",
          "height": 957
        },
        "id": "D5aFaAt6VVcf",
        "outputId": "10d30ae7-331f-44dd-93fd-bd44d28dce82"
      },
      "outputs": [
        {
          "data": {
            "image/png": "[encoded data removed]",
            "text/plain": [
              "<Figure size 1000x500 with 1 Axes>"
            ]
          },
          "metadata": {},
          "output_type": "display_data"
        },
        {
          "data": {
            "image/png": "[encoded data removed]",
            "text/plain": [
              "<Figure size 1000x500 with 1 Axes>"
            ]
          },
          "metadata": {},
          "output_type": "display_data"
        }
      ],
      "source": [
        "import matplotlib.pyplot as plt\n",
        "\n",
        "# Plot Runs Progression\n",
        "plt.figure(figsize=(10, 5))\n",
        "plt.plot(simulated_df['Balls'], simulated_df['Runs'], label='Runs Scored', color='blue')\n",
        "plt.xlabel('Balls')\n",
        "plt.ylabel('Runs')\n",
        "plt.title('Match Progression - Runs vs Balls')\n",
        "plt.legend()\n",
        "plt.show()\n",
        "\n",
        "# Plot Wickets Progression\n",
        "plt.figure(figsize=(10, 5))\n",
        "plt.plot(simulated_df['Balls'], simulated_df['Wickets'], label='Wickets Lost', color='red')\n",
        "plt.xlabel('Balls')\n",
        "plt.ylabel('Wickets')\n",
        "plt.title('Match Progression - Wickets vs Balls')\n",
        "plt.legend()\n",
        "plt.show()"
      ]
    },
    {
      "cell_type": "code",
      "execution_count": null,
      "metadata": {
        "colab": {
          "base_uri": "https://localhost:8080/"
        },
        "collapsed": true,
        "id": "uMlmFqP0VVl8",
        "outputId": "7824ce3e-5779-4083-e1d2-93d6ac107283"
      },
      "outputs": [
        {
          "name": "stdout",
          "output_type": "stream",
          "text": [
            "Requirement already satisfied: gradio in /usr/local/lib/python3.11/dist-packages (5.23.3)\n",
            "Requirement already satisfied: aiofiles<24.0,>=22.0 in /usr/local/lib/python3.11/dist-packages (from gradio) (23.2.1)\n",
            "Requirement already satisfied: anyio<5.0,>=3.0 in /usr/local/lib/python3.11/dist-packages (from gradio) (4.9.0)\n",
            "Requirement already satisfied: fastapi<1.0,>=0.115.2 in /usr/local/lib/python3.11/dist-packages (from gradio) (0.115.12)\n",
            "Requirement already satisfied: ffmpy in /usr/local/lib/python3.11/dist-packages (from gradio) (0.5.0)\n",
            "Requirement already satisfied: gradio-client==1.8.0 in /usr/local/lib/python3.11/dist-packages (from gradio) (1.8.0)\n",
            "Requirement already satisfied: groovy~=0.1 in /usr/local/lib/python3.11/dist-packages (from gradio) (0.1.2)\n",
            "Requirement already satisfied: httpx>=0.24.1 in /usr/local/lib/python3.11/dist-packages (from gradio) (0.28.1)\n",
            "Requirement already satisfied: huggingface-hub>=0.28.1 in /usr/local/lib/python3.11/dist-packages (from gradio) (0.30.1)\n",
            "Requirement already satisfied: jinja2<4.0 in /usr/local/lib/python3.11/dist-packages (from gradio) (3.1.6)\n",
            "Requirement already satisfied: markupsafe<4.0,>=2.0 in /usr/local/lib/python3.11/dist-packages (from gradio) (3.0.2)\n",
            "Requirement already satisfied: numpy<3.0,>=1.0 in /usr/local/lib/python3.11/dist-packages (from gradio) (2.0.2)\n",
            "Requirement already satisfied: orjson~=3.0 in /usr/local/lib/python3.11/dist-packages (from gradio) (3.10.16)\n",
            "Requirement already satisfied: packaging in /usr/local/lib/python3.11/dist-packages (from gradio) (24.2)\n",
            "Requirement already satisfied: pandas<3.0,>=1.0 in /usr/local/lib/python3.11/dist-packages (from gradio) (2.2.2)\n",
            "Requirement already satisfied: pillow<12.0,>=8.0 in /usr/local/lib/python3.11/dist-packages (from gradio) (11.1.0)\n",
            "Requirement already satisfied: pydantic<2.12,>=2.0 in /usr/local/lib/python3.11/dist-packages (from gradio) (2.11.2)\n",
            "Requirement already satisfied: pydub in /usr/local/lib/python3.11/dist-packages (from gradio) (0.25.1)\n",
            "Requirement already satisfied: python-multipart>=0.0.18 in /usr/local/lib/python3.11/dist-packages (from gradio) (0.0.20)\n",
            "Requirement already satisfied: pyyaml<7.0,>=5.0 in /usr/local/lib/python3.11/dist-packages (from gradio) (6.0.2)\n",
            "Requirement already satisfied: ruff>=0.9.3 in /usr/local/lib/python3.11/dist-packages (from gradio) (0.11.4)\n",
            "Requirement already satisfied: safehttpx<0.2.0,>=0.1.6 in /usr/local/lib/python3.11/dist-packages (from gradio) (0.1.6)\n",
            "Requirement already satisfied: semantic-version~=2.0 in /usr/local/lib/python3.11/dist-packages (from gradio) (2.10.0)\n",
            "Requirement already satisfied: starlette<1.0,>=0.40.0 in /usr/local/lib/python3.11/dist-packages (from gradio) (0.46.1)\n",
            "Requirement already satisfied: tomlkit<0.14.0,>=0.12.0 in /usr/local/lib/python3.11/dist-packages (from gradio) (0.13.2)\n",
            "Requirement already satisfied: typer<1.0,>=0.12 in /usr/local/lib/python3.11/dist-packages (from gradio) (0.15.2)\n",
            "Requirement already satisfied: typing-extensions~=4.0 in /usr/local/lib/python3.11/dist-packages (from gradio) (4.13.1)\n",
            "Requirement already satisfied: uvicorn>=0.14.0 in /usr/local/lib/python3.11/dist-packages (from gradio) (0.34.0)\n",
            "Requirement already satisfied: fsspec in /usr/local/lib/python3.11/dist-packages (from gradio-client==1.8.0->gradio) (2025.3.2)\n",
            "Requirement already satisfied: websockets<16.0,>=10.0 in /usr/local/lib/python3.11/dist-packages (from gradio-client==1.8.0->gradio) (15.0.1)\n",
            "Requirement already satisfied: idna>=2.8 in /usr/local/lib/python3.11/dist-packages (from anyio<5.0,>=3.0->gradio) (3.10)\n",
            "Requirement already satisfied: sniffio>=1.1 in /usr/local/lib/python3.11/dist-packages (from anyio<5.0,>=3.0->gradio) (1.3.1)\n",
            "Requirement already satisfied: certifi in /usr/local/lib/python3.11/dist-packages (from httpx>=0.24.1->gradio) (2025.1.31)\n",
            "Requirement already satisfied: httpcore==1.* in /usr/local/lib/python3.11/dist-packages (from httpx>=0.24.1->gradio) (1.0.7)\n",
            "Requirement already satisfied: h11<0.15,>=0.13 in /usr/local/lib/python3.11/dist-packages (from httpcore==1.*->httpx>=0.24.1->gradio) (0.14.0)\n",
            "Requirement already satisfied: filelock in /usr/local/lib/python3.11/dist-packages (from huggingface-hub>=0.28.1->gradio) (3.18.0)\n",
            "Requirement already satisfied: requests in /usr/local/lib/python3.11/dist-packages (from huggingface-hub>=0.28.1->gradio) (2.32.3)\n",
            "Requirement already satisfied: tqdm>=4.42.1 in /usr/local/lib/python3.11/dist-packages (from huggingface-hub>=0.28.1->gradio) (4.67.1)\n",
            "Requirement already satisfied: python-dateutil>=2.8.2 in /usr/local/lib/python3.11/dist-packages (from pandas<3.0,>=1.0->gradio) (2.8.2)\n",
            "Requirement already satisfied: pytz>=2020.1 in /usr/local/lib/python3.11/dist-packages (from pandas<3.0,>=1.0->gradio) (2025.2)\n",
            "Requirement already satisfied: tzdata>=2022.7 in /usr/local/lib/python3.11/dist-packages (from pandas<3.0,>=1.0->gradio) (2025.2)\n",
            "Requirement already satisfied: annotated-types>=0.6.0 in /usr/local/lib/python3.11/dist-packages (from pydantic<2.12,>=2.0->gradio) (0.7.0)\n",
            "Requirement already satisfied: pydantic-core==2.33.1 in /usr/local/lib/python3.11/dist-packages (from pydantic<2.12,>=2.0->gradio) (2.33.1)\n",
            "Requirement already satisfied: typing-inspection>=0.4.0 in /usr/local/lib/python3.11/dist-packages (from pydantic<2.12,>=2.0->gradio) (0.4.0)\n",
            "Requirement already satisfied: click>=8.0.0 in /usr/local/lib/python3.11/dist-packages (from typer<1.0,>=0.12->gradio) (8.1.8)\n",
            "Requirement already satisfied: shellingham>=1.3.0 in /usr/local/lib/python3.11/dist-packages (from typer<1.0,>=0.12->gradio) (1.5.4)\n",
            "Requirement already satisfied: rich>=10.11.0 in /usr/local/lib/python3.11/dist-packages (from typer<1.0,>=0.12->gradio) (13.9.4)\n",
            "Requirement already satisfied: six>=1.5 in /usr/local/lib/python3.11/dist-packages (from python-dateutil>=2.8.2->pandas<3.0,>=1.0->gradio) (1.17.0)\n",
            "Requirement already satisfied: markdown-it-py>=2.2.0 in /usr/local/lib/python3.11/dist-packages (from rich>=10.11.0->typer<1.0,>=0.12->gradio) (3.0.0)\n",
            "Requirement already satisfied: pygments<3.0.0,>=2.13.0 in /usr/local/lib/python3.11/dist-packages (from rich>=10.11.0->typer<1.0,>=0.12->gradio) (2.18.0)\n",
            "Requirement already satisfied: charset-normalizer<4,>=2 in /usr/local/lib/python3.11/dist-packages (from requests->huggingface-hub>=0.28.1->gradio) (3.4.1)\n",
            "Requirement already satisfied: urllib3<3,>=1.21.1 in /usr/local/lib/python3.11/dist-packages (from requests->huggingface-hub>=0.28.1->gradio) (2.3.0)\n",
            "Requirement already satisfied: mdurl~=0.1 in /usr/local/lib/python3.11/dist-packages (from markdown-it-py>=2.2.0->rich>=10.11.0->typer<1.0,>=0.12->gradio) (0.1.2)\n"
          ]
        }
      ],
      "source": [
        "pip install gradio"
      ]
    },
    {
      "cell_type": "code",
      "execution_count": null,
      "metadata": {
        "colab": {
          "base_uri": "https://localhost:8080/",
          "height": 551,
          "referenced_widgets": [
            "56e63c3cf73d42a494e65ebf687cd6f2",
            "d2805f88b25e44e8b745a7a8ac97b559",
            "e52b51d00acd4cbdb57fba75200fe59e",
            "c6600161b21749f4a01baf218d2ecc07",
            "9cc2413941eb4b91a20d193951e20828",
            "cff62f259bf24a3ab72330d3d94e7b9c",
            "e316a1afc6994c118595c67c41ea5479",
            "d101fd3733b94439b036dc3c7af793e8",
            "78bc2df696e54a54aae250db3d09dbfe",
            "36b60495d3784e74ab3540790aa2f036",
            "c7abc8f786e745b181a7cdf80434a75a"
          ]
        },
        "id": "fQB6fK-xaNDt",
        "outputId": "a487abac-7e0a-4dad-def1-7bb4fc81e5c2"
      },
      "outputs": [
        {
          "data": {
            "application/vnd.jupyter.widget-view+json": {
              "model_id": "56e63c3cf73d42a494e65ebf687cd6f2",
              "version_major": 2,
              "version_minor": 0
            },
            "text/plain": [
              "Dropdown(description='Venue:', options=('Wankhede', 'Chepauk', 'Chinnaswamy'), value='Wankhede')"
            ]
          },
          "metadata": {},
          "output_type": "display_data"
        },
        {
          "data": {
            "application/vnd.jupyter.widget-view+json": {
              "model_id": "c6600161b21749f4a01baf218d2ecc07",
              "version_major": 2,
              "version_minor": 0
            },
            "text/plain": [
              "RadioButtons(description='Bowler:', options=('Pace', 'Spin'), value='Pace')"
            ]
          },
          "metadata": {},
          "output_type": "display_data"
        },
        {
          "data": {
            "application/vnd.jupyter.widget-view+json": {
              "model_id": "e316a1afc6994c118595c67c41ea5479",
              "version_major": 2,
              "version_minor": 0
            },
            "text/plain": [
              "Button(description='Simulate', style=ButtonStyle())"
            ]
          },
          "metadata": {},
          "output_type": "display_data"
        },
        {
          "data": {
            "application/vnd.jupyter.widget-view+json": {
              "model_id": "36b60495d3784e74ab3540790aa2f036",
              "version_major": 2,
              "version_minor": 0
            },
            "text/plain": [
              "Output()"
            ]
          },
          "metadata": {},
          "output_type": "display_data"
        }
      ],
      "source": [
        "import ipywidgets as widgets\n",
        "from IPython.display import display\n",
        "import matplotlib.pyplot as plt\n",
        "\n",
        "venue_widget = widgets.Dropdown(options=['Wankhede', 'Chepauk', 'Chinnaswamy'], description='Venue:')\n",
        "bowler_widget = widgets.RadioButtons(options=['Pace', 'Spin'], description='Bowler:')\n",
        "button = widgets.Button(description=\"Simulate\")\n",
        "\n",
        "output = widgets.Output()\n",
        "\n",
        "def on_button_clicked(b):\n",
        "    with output:\n",
        "        output.clear_output(wait=True)\n",
        "        match = simulate_match_with_factors(venue=venue_widget.value, bowler_type=bowler_widget.value)\n",
        "        df = pd.DataFrame(match, columns=[\"Runs\", \"Wickets\", \"Balls\"])\n",
        "        df = df[df['Balls'] <= 120]  # Add this line for filtering\n",
        "        df.sort_values(by=['Balls'], inplace=True)\n",
        "        df['Ball Number'] = df.index\n",
        "           # Plot Runs and Wickets\n",
        "        fig, axes = plt.subplots(1, 2, figsize=(14, 5))\n",
        "\n",
        "        # Runs vs Balls\n",
        "        axes[0].plot(df['Balls'], df['Runs'], color='blue')\n",
        "        axes[0].set_title('Runs vs Balls')\n",
        "        axes[0].set_xlabel('Balls')\n",
        "        axes[0].set_ylabel('Runs')\n",
        "\n",
        "        # Wickets vs Balls\n",
        "        axes[1].plot(df['Balls'], df['Wickets'], color='red')\n",
        "        axes[1].set_title('Wickets vs Balls')\n",
        "        axes[1].set_xlabel('Balls')\n",
        "        axes[1].set_ylabel('Wickets')\n",
        "\n",
        "        plt.tight_layout()\n",
        "        plt.show()\n",
        "\n",
        "button.on_click(on_button_clicked)\n",
        "\n",
        "display(venue_widget, bowler_widget, button, output)"
      ]
    },
    {
      "cell_type": "markdown",
      "metadata": {
        "id": "1CRMYFs1VVtA"
      },
      "source": [
        "#Add Match Phases: Powerplay, Middle, Death Overs"
      ]
    },
    {
      "cell_type": "code",
      "execution_count": null,
      "metadata": {
        "id": "cjjRFYPyVVvJ"
      },
      "outputs": [],
      "source": [
        "def get_phase(ball_number):\n",
        "    over = ball_number // 6\n",
        "    if over < 6:\n",
        "        return 'Powerplay'\n",
        "    elif over < 16:\n",
        "        return 'Middle'\n",
        "    else:\n",
        "        return 'Death'\n",
        "\n",
        "phase_factors = {\n",
        "    'Powerplay': 1.1,\n",
        "    'Middle': 1.0,\n",
        "    'Death': 1.3\n",
        "}\n",
        "\n",
        "def adjust_probabilities_with_phase(state, next_states, probabilities, venue, bowler_type):\n",
        "    venue_factor = venue_factors.get(venue, 1.0)\n",
        "    bowler_factor = bowler_types.get(bowler_type, 1.0)\n",
        "    phase = get_phase(state[2])\n",
        "    phase_factor = phase_factors.get(phase, 1.0)\n",
        "\n",
        "    adjusted_probabilities = [\n",
        "        prob * venue_factor * bowler_factor * phase_factor for prob in probabilities\n",
        "    ]\n",
        "    adjusted_probabilities = np.array(adjusted_probabilities) / sum(adjusted_probabilities)\n",
        "    return adjusted_probabilities"
      ]
    },
    {
      "cell_type": "code",
      "execution_count": null,
      "metadata": {
        "id": "SWNKtNzHVVxi"
      },
      "outputs": [],
      "source": [
        "#Dynamic Bowling Changes + Strategy AI\n",
        "\n",
        "def get_bowler_type(over):\n",
        "    if over < 6 or over > 16:\n",
        "        return 'Pace'\n",
        "    else:\n",
        "        return 'Spin'"
      ]
    },
    {
      "cell_type": "code",
      "execution_count": null,
      "metadata": {
        "colab": {
          "base_uri": "https://localhost:8080/"
        },
        "id": "KnoVm2OqVV0j",
        "outputId": "e98e6df6-a618-4fbd-e841-5bc680b66e79"
      },
      "outputs": [
        {
          "name": "stdout",
          "output_type": "stream",
          "text": [
            "Match Summary:\n",
            "Total: 142/3 in 16.0 overs\n",
            "Run Rate: 8.88\n"
          ]
        }
      ],
      "source": [
        "# Display Match Summary\n",
        "final_state = simulated_df.iloc[-1]\n",
        "total_runs = final_state['Runs']\n",
        "total_wickets = final_state['Wickets']\n",
        "total_overs = final_state['Balls'] // 6 + (final_state['Balls'] % 6) / 10\n",
        "\n",
        "print(f\"Match Summary:\")\n",
        "print(f\"Total: {total_runs}/{total_wickets} in {total_overs:.1f} overs\")\n",
        "print(f\"Run Rate: {total_runs / (final_state['Balls'] / 6):.2f}\")"
      ]
    },
    {
      "cell_type": "code",
      "execution_count": null,
      "metadata": {
        "id": "1fS0_ZFtVV3K"
      },
      "outputs": [],
      "source": [
        "#Save Results & Visualize\n",
        "simulated_df.to_csv('simulated_match_output.csv', index=False)"
      ]
    },
    {
      "cell_type": "code",
      "execution_count": null,
      "metadata": {
        "colab": {
          "base_uri": "https://localhost:8080/"
        },
        "collapsed": true,
        "id": "8cuD1ywHVWAF",
        "outputId": "269bbf47-8203-4882-fbe0-fcb74df01dd3"
      },
      "outputs": [
        {
          "name": "stdout",
          "output_type": "stream",
          "text": [
            "Requirement already satisfied: seaborn in /usr/local/lib/python3.11/dist-packages (0.13.2)\n",
            "Requirement already satisfied: plotly in /usr/local/lib/python3.11/dist-packages (5.24.1)\n",
            "Requirement already satisfied: numpy!=1.24.0,>=1.20 in /usr/local/lib/python3.11/dist-packages (from seaborn) (2.0.2)\n",
            "Requirement already satisfied: pandas>=1.2 in /usr/local/lib/python3.11/dist-packages (from seaborn) (2.2.2)\n",
            "Requirement already satisfied: matplotlib!=3.6.1,>=3.4 in /usr/local/lib/python3.11/dist-packages (from seaborn) (3.10.0)\n",
            "Requirement already satisfied: tenacity>=6.2.0 in /usr/local/lib/python3.11/dist-packages (from plotly) (9.1.2)\n",
            "Requirement already satisfied: packaging in /usr/local/lib/python3.11/dist-packages (from plotly) (24.2)\n",
            "Requirement already satisfied: contourpy>=1.0.1 in /usr/local/lib/python3.11/dist-packages (from matplotlib!=3.6.1,>=3.4->seaborn) (1.3.1)\n",
            "Requirement already satisfied: cycler>=0.10 in /usr/local/lib/python3.11/dist-packages (from matplotlib!=3.6.1,>=3.4->seaborn) (0.12.1)\n",
            "Requirement already satisfied: fonttools>=4.22.0 in /usr/local/lib/python3.11/dist-packages (from matplotlib!=3.6.1,>=3.4->seaborn) (4.57.0)\n",
            "Requirement already satisfied: kiwisolver>=1.3.1 in /usr/local/lib/python3.11/dist-packages (from matplotlib!=3.6.1,>=3.4->seaborn) (1.4.8)\n",
            "Requirement already satisfied: pillow>=8 in /usr/local/lib/python3.11/dist-packages (from matplotlib!=3.6.1,>=3.4->seaborn) (11.1.0)\n",
            "Requirement already satisfied: pyparsing>=2.3.1 in /usr/local/lib/python3.11/dist-packages (from matplotlib!=3.6.1,>=3.4->seaborn) (3.2.3)\n",
            "Requirement already satisfied: python-dateutil>=2.7 in /usr/local/lib/python3.11/dist-packages (from matplotlib!=3.6.1,>=3.4->seaborn) (2.8.2)\n",
            "Requirement already satisfied: pytz>=2020.1 in /usr/local/lib/python3.11/dist-packages (from pandas>=1.2->seaborn) (2025.2)\n",
            "Requirement already satisfied: tzdata>=2022.7 in /usr/local/lib/python3.11/dist-packages (from pandas>=1.2->seaborn) (2025.2)\n",
            "Requirement already satisfied: six>=1.5 in /usr/local/lib/python3.11/dist-packages (from python-dateutil>=2.7->matplotlib!=3.6.1,>=3.4->seaborn) (1.17.0)\n"
          ]
        }
      ],
      "source": [
        "pip install seaborn plotly"
      ]
    },
    {
      "cell_type": "code",
      "execution_count": null,
      "metadata": {
        "colab": {
          "base_uri": "https://localhost:8080/",
          "height": 1000
        },
        "id": "t61Fk2u79K0Q",
        "outputId": "02dedf95-d44a-467f-c3b1-e77bb99e6a0a"
      },
      "outputs": [
        {
          "data": {
            "text/html": [
              "<html>\n",
              "<head><meta charset=\"utf-8\" /></head>\n",
              "<body>\n",
              "    <div>            <script src=\"https://cdnjs.cloudflare.com/ajax/libs/mathjax/2.7.5/MathJax.js?config=TeX-AMS-MML_SVG\"></script><script type=\"text/javascript\">if (window.MathJax && window.MathJax.Hub && window.MathJax.Hub.Config) {window.MathJax.Hub.Config({SVG: {font: \"STIX-Web\"}});}</script>                <script type=\"text/javascript\">window.PlotlyConfig = {MathJaxConfig: 'local'};</script>\n",
              "        <script charset=\"utf-8\" src=\"https://cdn.plot.ly/plotly-2.35.2.min.js\"></script>                <div id=\"e507b83e-7aa9-40f3-8647-4f767c79f8f5\" class=\"plotly-graph-div\" style=\"height:525px; width:100%;\"></div>            <script type=\"text/javascript\">                                    window.PLOTLYENV=window.PLOTLYENV || {};                                    if (document.getElementById(\"e507b83e-7aa9-40f3-8647-4f767c79f8f5\")) {                    Plotly.newPlot(                        \"e507b83e-7aa9-40f3-8647-4f767c79f8f5\",                        [{\"hovertemplate\":\"Ball Number=%{x}\\u003cbr\\u003eTotal Runs=%{y}\\u003cextra\\u003e\\u003c\\u002fextra\\u003e\",\"legendgroup\":\"\",\"line\":{\"color\":\"#636efa\",\"dash\":\"solid\"},\"marker\":{\"symbol\":\"circle\"},\"mode\":\"lines\",\"name\":\"\",\"orientation\":\"v\",\"showlegend\":false,\"x\":[0,1,2,3,4,5,6,7,8,9,10,11,12,13,14,15,16,17,18,19,20,21,22,23,24,25,26,27,28,29,30,31,32,33,34,35,36,37,38,39,40,41,42,43,44,45,46,47,48,49,50,51,52,53,54,55,56,57,58,59,60,61,62,63,64,65,66,67,68,69,70,71,72,73,74,75,76,77,78,79,80,81,82,83,84,85,86,87,88,89,90,91,92,93,94,95,96],\"xaxis\":\"x\",\"y\":[0,0,1,1,1,1,1,7,7,7,11,15,15,15,15,16,17,20,20,20,24,25,25,25,26,26,27,31,32,32,32,32,32,32,32,38,38,38,42,46,46,47,48,52,52,52,53,59,59,60,60,61,61,62,63,64,64,66,72,78,79,80,82,82,82,82,86,88,89,93,94,95,99,101,102,103,109,111,113,114,120,120,120,121,122,123,123,127,127,128,128,132,133,136,137,141,142],\"yaxis\":\"y\",\"type\":\"scatter\"}],                        {\"template\":{\"data\":{\"barpolar\":[{\"marker\":{\"line\":{\"color\":\"rgb(17,17,17)\",\"width\":0.5},\"pattern\":{\"fillmode\":\"overlay\",\"size\":10,\"solidity\":0.2}},\"type\":\"barpolar\"}],\"bar\":[{\"error_x\":{\"color\":\"#f2f5fa\"},\"error_y\":{\"color\":\"#f2f5fa\"},\"marker\":{\"line\":{\"color\":\"rgb(17,17,17)\",\"width\":0.5},\"pattern\":{\"fillmode\":\"overlay\",\"size\":10,\"solidity\":0.2}},\"type\":\"bar\"}],\"carpet\":[{\"aaxis\":{\"endlinecolor\":\"#A2B1C6\",\"gridcolor\":\"#506784\",\"linecolor\":\"#506784\",\"minorgridcolor\":\"#506784\",\"startlinecolor\":\"#A2B1C6\"},\"baxis\":{\"endlinecolor\":\"#A2B1C6\",\"gridcolor\":\"#506784\",\"linecolor\":\"#506784\",\"minorgridcolor\":\"#506784\",\"startlinecolor\":\"#A2B1C6\"},\"type\":\"carpet\"}],\"choropleth\":[{\"colorbar\":{\"outlinewidth\":0,\"ticks\":\"\"},\"type\":\"choropleth\"}],\"contourcarpet\":[{\"colorbar\":{\"outlinewidth\":0,\"ticks\":\"\"},\"type\":\"contourcarpet\"}],\"contour\":[{\"colorbar\":{\"outlinewidth\":0,\"ticks\":\"\"},\"colorscale\":[[0.0,\"#0d0887\"],[0.1111111111111111,\"#46039f\"],[0.2222222222222222,\"#7201a8\"],[0.3333333333333333,\"#9c179e\"],[0.4444444444444444,\"#bd3786\"],[0.5555555555555556,\"#d8576b\"],[0.6666666666666666,\"#ed7953\"],[0.7777777777777778,\"#fb9f3a\"],[0.8888888888888888,\"#fdca26\"],[1.0,\"#f0f921\"]],\"type\":\"contour\"}],\"heatmapgl\":[{\"colorbar\":{\"outlinewidth\":0,\"ticks\":\"\"},\"colorscale\":[[0.0,\"#0d0887\"],[0.1111111111111111,\"#46039f\"],[0.2222222222222222,\"#7201a8\"],[0.3333333333333333,\"#9c179e\"],[0.4444444444444444,\"#bd3786\"],[0.5555555555555556,\"#d8576b\"],[0.6666666666666666,\"#ed7953\"],[0.7777777777777778,\"#fb9f3a\"],[0.8888888888888888,\"#fdca26\"],[1.0,\"#f0f921\"]],\"type\":\"heatmapgl\"}],\"heatmap\":[{\"colorbar\":{\"outlinewidth\":0,\"ticks\":\"\"},\"colorscale\":[[0.0,\"#0d0887\"],[0.1111111111111111,\"#46039f\"],[0.2222222222222222,\"#7201a8\"],[0.3333333333333333,\"#9c179e\"],[0.4444444444444444,\"#bd3786\"],[0.5555555555555556,\"#d8576b\"],[0.6666666666666666,\"#ed7953\"],[0.7777777777777778,\"#fb9f3a\"],[0.8888888888888888,\"#fdca26\"],[1.0,\"#f0f921\"]],\"type\":\"heatmap\"}],\"histogram2dcontour\":[{\"colorbar\":{\"outlinewidth\":0,\"ticks\":\"\"},\"colorscale\":[[0.0,\"#0d0887\"],[0.1111111111111111,\"#46039f\"],[0.2222222222222222,\"#7201a8\"],[0.3333333333333333,\"#9c179e\"],[0.4444444444444444,\"#bd3786\"],[0.5555555555555556,\"#d8576b\"],[0.6666666666666666,\"#ed7953\"],[0.7777777777777778,\"#fb9f3a\"],[0.8888888888888888,\"#fdca26\"],[1.0,\"#f0f921\"]],\"type\":\"histogram2dcontour\"}],\"histogram2d\":[{\"colorbar\":{\"outlinewidth\":0,\"ticks\":\"\"},\"colorscale\":[[0.0,\"#0d0887\"],[0.1111111111111111,\"#46039f\"],[0.2222222222222222,\"#7201a8\"],[0.3333333333333333,\"#9c179e\"],[0.4444444444444444,\"#bd3786\"],[0.5555555555555556,\"#d8576b\"],[0.6666666666666666,\"#ed7953\"],[0.7777777777777778,\"#fb9f3a\"],[0.8888888888888888,\"#fdca26\"],[1.0,\"#f0f921\"]],\"type\":\"histogram2d\"}],\"histogram\":[{\"marker\":{\"pattern\":{\"fillmode\":\"overlay\",\"size\":10,\"solidity\":0.2}},\"type\":\"histogram\"}],\"mesh3d\":[{\"colorbar\":{\"outlinewidth\":0,\"ticks\":\"\"},\"type\":\"mesh3d\"}],\"parcoords\":[{\"line\":{\"colorbar\":{\"outlinewidth\":0,\"ticks\":\"\"}},\"type\":\"parcoords\"}],\"pie\":[{\"automargin\":true,\"type\":\"pie\"}],\"scatter3d\":[{\"line\":{\"colorbar\":{\"outlinewidth\":0,\"ticks\":\"\"}},\"marker\":{\"colorbar\":{\"outlinewidth\":0,\"ticks\":\"\"}},\"type\":\"scatter3d\"}],\"scattercarpet\":[{\"marker\":{\"colorbar\":{\"outlinewidth\":0,\"ticks\":\"\"}},\"type\":\"scattercarpet\"}],\"scattergeo\":[{\"marker\":{\"colorbar\":{\"outlinewidth\":0,\"ticks\":\"\"}},\"type\":\"scattergeo\"}],\"scattergl\":[{\"marker\":{\"line\":{\"color\":\"#283442\"}},\"type\":\"scattergl\"}],\"scattermapbox\":[{\"marker\":{\"colorbar\":{\"outlinewidth\":0,\"ticks\":\"\"}},\"type\":\"scattermapbox\"}],\"scatterpolargl\":[{\"marker\":{\"colorbar\":{\"outlinewidth\":0,\"ticks\":\"\"}},\"type\":\"scatterpolargl\"}],\"scatterpolar\":[{\"marker\":{\"colorbar\":{\"outlinewidth\":0,\"ticks\":\"\"}},\"type\":\"scatterpolar\"}],\"scatter\":[{\"marker\":{\"line\":{\"color\":\"#283442\"}},\"type\":\"scatter\"}],\"scatterternary\":[{\"marker\":{\"colorbar\":{\"outlinewidth\":0,\"ticks\":\"\"}},\"type\":\"scatterternary\"}],\"surface\":[{\"colorbar\":{\"outlinewidth\":0,\"ticks\":\"\"},\"colorscale\":[[0.0,\"#0d0887\"],[0.1111111111111111,\"#46039f\"],[0.2222222222222222,\"#7201a8\"],[0.3333333333333333,\"#9c179e\"],[0.4444444444444444,\"#bd3786\"],[0.5555555555555556,\"#d8576b\"],[0.6666666666666666,\"#ed7953\"],[0.7777777777777778,\"#fb9f3a\"],[0.8888888888888888,\"#fdca26\"],[1.0,\"#f0f921\"]],\"type\":\"surface\"}],\"table\":[{\"cells\":{\"fill\":{\"color\":\"#506784\"},\"line\":{\"color\":\"rgb(17,17,17)\"}},\"header\":{\"fill\":{\"color\":\"#2a3f5f\"},\"line\":{\"color\":\"rgb(17,17,17)\"}},\"type\":\"table\"}]},\"layout\":{\"annotationdefaults\":{\"arrowcolor\":\"#f2f5fa\",\"arrowhead\":0,\"arrowwidth\":1},\"autotypenumbers\":\"strict\",\"coloraxis\":{\"colorbar\":{\"outlinewidth\":0,\"ticks\":\"\"}},\"colorscale\":{\"diverging\":[[0,\"#8e0152\"],[0.1,\"#c51b7d\"],[0.2,\"#de77ae\"],[0.3,\"#f1b6da\"],[0.4,\"#fde0ef\"],[0.5,\"#f7f7f7\"],[0.6,\"#e6f5d0\"],[0.7,\"#b8e186\"],[0.8,\"#7fbc41\"],[0.9,\"#4d9221\"],[1,\"#276419\"]],\"sequential\":[[0.0,\"#0d0887\"],[0.1111111111111111,\"#46039f\"],[0.2222222222222222,\"#7201a8\"],[0.3333333333333333,\"#9c179e\"],[0.4444444444444444,\"#bd3786\"],[0.5555555555555556,\"#d8576b\"],[0.6666666666666666,\"#ed7953\"],[0.7777777777777778,\"#fb9f3a\"],[0.8888888888888888,\"#fdca26\"],[1.0,\"#f0f921\"]],\"sequentialminus\":[[0.0,\"#0d0887\"],[0.1111111111111111,\"#46039f\"],[0.2222222222222222,\"#7201a8\"],[0.3333333333333333,\"#9c179e\"],[0.4444444444444444,\"#bd3786\"],[0.5555555555555556,\"#d8576b\"],[0.6666666666666666,\"#ed7953\"],[0.7777777777777778,\"#fb9f3a\"],[0.8888888888888888,\"#fdca26\"],[1.0,\"#f0f921\"]]},\"colorway\":[\"#636efa\",\"#EF553B\",\"#00cc96\",\"#ab63fa\",\"#FFA15A\",\"#19d3f3\",\"#FF6692\",\"#B6E880\",\"#FF97FF\",\"#FECB52\"],\"font\":{\"color\":\"#f2f5fa\"},\"geo\":{\"bgcolor\":\"rgb(17,17,17)\",\"lakecolor\":\"rgb(17,17,17)\",\"landcolor\":\"rgb(17,17,17)\",\"showlakes\":true,\"showland\":true,\"subunitcolor\":\"#506784\"},\"hoverlabel\":{\"align\":\"left\"},\"hovermode\":\"closest\",\"mapbox\":{\"style\":\"dark\"},\"paper_bgcolor\":\"rgb(17,17,17)\",\"plot_bgcolor\":\"rgb(17,17,17)\",\"polar\":{\"angularaxis\":{\"gridcolor\":\"#506784\",\"linecolor\":\"#506784\",\"ticks\":\"\"},\"bgcolor\":\"rgb(17,17,17)\",\"radialaxis\":{\"gridcolor\":\"#506784\",\"linecolor\":\"#506784\",\"ticks\":\"\"}},\"scene\":{\"xaxis\":{\"backgroundcolor\":\"rgb(17,17,17)\",\"gridcolor\":\"#506784\",\"gridwidth\":2,\"linecolor\":\"#506784\",\"showbackground\":true,\"ticks\":\"\",\"zerolinecolor\":\"#C8D4E3\"},\"yaxis\":{\"backgroundcolor\":\"rgb(17,17,17)\",\"gridcolor\":\"#506784\",\"gridwidth\":2,\"linecolor\":\"#506784\",\"showbackground\":true,\"ticks\":\"\",\"zerolinecolor\":\"#C8D4E3\"},\"zaxis\":{\"backgroundcolor\":\"rgb(17,17,17)\",\"gridcolor\":\"#506784\",\"gridwidth\":2,\"linecolor\":\"#506784\",\"showbackground\":true,\"ticks\":\"\",\"zerolinecolor\":\"#C8D4E3\"}},\"shapedefaults\":{\"line\":{\"color\":\"#f2f5fa\"}},\"sliderdefaults\":{\"bgcolor\":\"#C8D4E3\",\"bordercolor\":\"rgb(17,17,17)\",\"borderwidth\":1,\"tickwidth\":0},\"ternary\":{\"aaxis\":{\"gridcolor\":\"#506784\",\"linecolor\":\"#506784\",\"ticks\":\"\"},\"baxis\":{\"gridcolor\":\"#506784\",\"linecolor\":\"#506784\",\"ticks\":\"\"},\"bgcolor\":\"rgb(17,17,17)\",\"caxis\":{\"gridcolor\":\"#506784\",\"linecolor\":\"#506784\",\"ticks\":\"\"}},\"title\":{\"x\":0.05},\"updatemenudefaults\":{\"bgcolor\":\"#506784\",\"borderwidth\":0},\"xaxis\":{\"automargin\":true,\"gridcolor\":\"#283442\",\"linecolor\":\"#506784\",\"ticks\":\"\",\"title\":{\"standoff\":15},\"zerolinecolor\":\"#283442\",\"zerolinewidth\":2},\"yaxis\":{\"automargin\":true,\"gridcolor\":\"#283442\",\"linecolor\":\"#506784\",\"ticks\":\"\",\"title\":{\"standoff\":15},\"zerolinecolor\":\"#283442\",\"zerolinewidth\":2}}},\"xaxis\":{\"anchor\":\"y\",\"domain\":[0.0,1.0],\"title\":{\"text\":\"Ball Number\"}},\"yaxis\":{\"anchor\":\"x\",\"domain\":[0.0,1.0],\"title\":{\"text\":\"Total Runs\"}},\"legend\":{\"tracegroupgap\":0},\"title\":{\"text\":\"Interactive Runs Progression\"}},                        {\"responsive\": true}                    ).then(function(){\n",
              "                            \n",
              "var gd = document.getElementById('e507b83e-7aa9-40f3-8647-4f767c79f8f5');\n",
              "var x = new MutationObserver(function (mutations, observer) {{\n",
              "        var display = window.getComputedStyle(gd).display;\n",
              "        if (!display || display === 'none') {{\n",
              "            console.log([gd, 'removed!']);\n",
              "            Plotly.purge(gd);\n",
              "            observer.disconnect();\n",
              "        }}\n",
              "}});\n",
              "\n",
              "// Listen for the removal of the full notebook cells\n",
              "var notebookContainer = gd.closest('#notebook-container');\n",
              "if (notebookContainer) {{\n",
              "    x.observe(notebookContainer, {childList: true});\n",
              "}}\n",
              "\n",
              "// Listen for the clearing of the current output cell\n",
              "var outputEl = gd.closest('.output');\n",
              "if (outputEl) {{\n",
              "    x.observe(outputEl, {childList: true});\n",
              "}}\n",
              "\n",
              "                        })                };                            </script>        </div>\n",
              "</body>\n",
              "</html>"
            ]
          },
          "metadata": {},
          "output_type": "display_data"
        },
        {
          "data": {
            "text/html": [
              "<html>\n",
              "<head><meta charset=\"utf-8\" /></head>\n",
              "<body>\n",
              "    <div>            <script src=\"https://cdnjs.cloudflare.com/ajax/libs/mathjax/2.7.5/MathJax.js?config=TeX-AMS-MML_SVG\"></script><script type=\"text/javascript\">if (window.MathJax && window.MathJax.Hub && window.MathJax.Hub.Config) {window.MathJax.Hub.Config({SVG: {font: \"STIX-Web\"}});}</script>                <script type=\"text/javascript\">window.PlotlyConfig = {MathJaxConfig: 'local'};</script>\n",
              "        <script charset=\"utf-8\" src=\"https://cdn.plot.ly/plotly-2.35.2.min.js\"></script>                <div id=\"34dda452-9f7c-4aee-90a1-1aeae6de138c\" class=\"plotly-graph-div\" style=\"height:525px; width:100%;\"></div>            <script type=\"text/javascript\">                                    window.PLOTLYENV=window.PLOTLYENV || {};                                    if (document.getElementById(\"34dda452-9f7c-4aee-90a1-1aeae6de138c\")) {                    Plotly.newPlot(                        \"34dda452-9f7c-4aee-90a1-1aeae6de138c\",                        [{\"hovertemplate\":\"Ball Number=%{x}\\u003cbr\\u003eTotal Wickets=%{y}\\u003cextra\\u003e\\u003c\\u002fextra\\u003e\",\"legendgroup\":\"\",\"line\":{\"color\":\"#636efa\",\"dash\":\"solid\"},\"marker\":{\"symbol\":\"circle\"},\"mode\":\"lines\",\"name\":\"\",\"orientation\":\"v\",\"showlegend\":false,\"x\":[0,1,2,3,4,5,6,7,8,9,10,11,12,13,14,15,16,17,18,19,20,21,22,23,24,25,26,27,28,29,30,31,32,33,34,35,36,37,38,39,40,41,42,43,44,45,46,47,48,49,50,51,52,53,54,55,56,57,58,59,60,61,62,63,64,65,66,67,68,69,70,71,72,73,74,75,76,77,78,79,80,81,82,83,84,85,86,87,88,89,90,91,92,93,94,95,96],\"xaxis\":\"x\",\"y\":[0,0,0,0,0,0,0,0,0,0,0,0,0,0,0,0,0,0,0,0,0,0,0,0,0,1,1,1,1,1,1,1,1,1,1,1,1,1,1,1,1,1,1,1,1,1,1,1,1,1,1,1,1,1,1,1,1,1,1,1,1,1,1,1,1,1,1,1,1,1,1,1,1,1,1,1,1,1,1,1,1,2,3,3,3,3,3,3,3,3,3,3,3,3,3,3,3],\"yaxis\":\"y\",\"type\":\"scatter\"}],                        {\"template\":{\"data\":{\"barpolar\":[{\"marker\":{\"line\":{\"color\":\"rgb(17,17,17)\",\"width\":0.5},\"pattern\":{\"fillmode\":\"overlay\",\"size\":10,\"solidity\":0.2}},\"type\":\"barpolar\"}],\"bar\":[{\"error_x\":{\"color\":\"#f2f5fa\"},\"error_y\":{\"color\":\"#f2f5fa\"},\"marker\":{\"line\":{\"color\":\"rgb(17,17,17)\",\"width\":0.5},\"pattern\":{\"fillmode\":\"overlay\",\"size\":10,\"solidity\":0.2}},\"type\":\"bar\"}],\"carpet\":[{\"aaxis\":{\"endlinecolor\":\"#A2B1C6\",\"gridcolor\":\"#506784\",\"linecolor\":\"#506784\",\"minorgridcolor\":\"#506784\",\"startlinecolor\":\"#A2B1C6\"},\"baxis\":{\"endlinecolor\":\"#A2B1C6\",\"gridcolor\":\"#506784\",\"linecolor\":\"#506784\",\"minorgridcolor\":\"#506784\",\"startlinecolor\":\"#A2B1C6\"},\"type\":\"carpet\"}],\"choropleth\":[{\"colorbar\":{\"outlinewidth\":0,\"ticks\":\"\"},\"type\":\"choropleth\"}],\"contourcarpet\":[{\"colorbar\":{\"outlinewidth\":0,\"ticks\":\"\"},\"type\":\"contourcarpet\"}],\"contour\":[{\"colorbar\":{\"outlinewidth\":0,\"ticks\":\"\"},\"colorscale\":[[0.0,\"#0d0887\"],[0.1111111111111111,\"#46039f\"],[0.2222222222222222,\"#7201a8\"],[0.3333333333333333,\"#9c179e\"],[0.4444444444444444,\"#bd3786\"],[0.5555555555555556,\"#d8576b\"],[0.6666666666666666,\"#ed7953\"],[0.7777777777777778,\"#fb9f3a\"],[0.8888888888888888,\"#fdca26\"],[1.0,\"#f0f921\"]],\"type\":\"contour\"}],\"heatmapgl\":[{\"colorbar\":{\"outlinewidth\":0,\"ticks\":\"\"},\"colorscale\":[[0.0,\"#0d0887\"],[0.1111111111111111,\"#46039f\"],[0.2222222222222222,\"#7201a8\"],[0.3333333333333333,\"#9c179e\"],[0.4444444444444444,\"#bd3786\"],[0.5555555555555556,\"#d8576b\"],[0.6666666666666666,\"#ed7953\"],[0.7777777777777778,\"#fb9f3a\"],[0.8888888888888888,\"#fdca26\"],[1.0,\"#f0f921\"]],\"type\":\"heatmapgl\"}],\"heatmap\":[{\"colorbar\":{\"outlinewidth\":0,\"ticks\":\"\"},\"colorscale\":[[0.0,\"#0d0887\"],[0.1111111111111111,\"#46039f\"],[0.2222222222222222,\"#7201a8\"],[0.3333333333333333,\"#9c179e\"],[0.4444444444444444,\"#bd3786\"],[0.5555555555555556,\"#d8576b\"],[0.6666666666666666,\"#ed7953\"],[0.7777777777777778,\"#fb9f3a\"],[0.8888888888888888,\"#fdca26\"],[1.0,\"#f0f921\"]],\"type\":\"heatmap\"}],\"histogram2dcontour\":[{\"colorbar\":{\"outlinewidth\":0,\"ticks\":\"\"},\"colorscale\":[[0.0,\"#0d0887\"],[0.1111111111111111,\"#46039f\"],[0.2222222222222222,\"#7201a8\"],[0.3333333333333333,\"#9c179e\"],[0.4444444444444444,\"#bd3786\"],[0.5555555555555556,\"#d8576b\"],[0.6666666666666666,\"#ed7953\"],[0.7777777777777778,\"#fb9f3a\"],[0.8888888888888888,\"#fdca26\"],[1.0,\"#f0f921\"]],\"type\":\"histogram2dcontour\"}],\"histogram2d\":[{\"colorbar\":{\"outlinewidth\":0,\"ticks\":\"\"},\"colorscale\":[[0.0,\"#0d0887\"],[0.1111111111111111,\"#46039f\"],[0.2222222222222222,\"#7201a8\"],[0.3333333333333333,\"#9c179e\"],[0.4444444444444444,\"#bd3786\"],[0.5555555555555556,\"#d8576b\"],[0.6666666666666666,\"#ed7953\"],[0.7777777777777778,\"#fb9f3a\"],[0.8888888888888888,\"#fdca26\"],[1.0,\"#f0f921\"]],\"type\":\"histogram2d\"}],\"histogram\":[{\"marker\":{\"pattern\":{\"fillmode\":\"overlay\",\"size\":10,\"solidity\":0.2}},\"type\":\"histogram\"}],\"mesh3d\":[{\"colorbar\":{\"outlinewidth\":0,\"ticks\":\"\"},\"type\":\"mesh3d\"}],\"parcoords\":[{\"line\":{\"colorbar\":{\"outlinewidth\":0,\"ticks\":\"\"}},\"type\":\"parcoords\"}],\"pie\":[{\"automargin\":true,\"type\":\"pie\"}],\"scatter3d\":[{\"line\":{\"colorbar\":{\"outlinewidth\":0,\"ticks\":\"\"}},\"marker\":{\"colorbar\":{\"outlinewidth\":0,\"ticks\":\"\"}},\"type\":\"scatter3d\"}],\"scattercarpet\":[{\"marker\":{\"colorbar\":{\"outlinewidth\":0,\"ticks\":\"\"}},\"type\":\"scattercarpet\"}],\"scattergeo\":[{\"marker\":{\"colorbar\":{\"outlinewidth\":0,\"ticks\":\"\"}},\"type\":\"scattergeo\"}],\"scattergl\":[{\"marker\":{\"line\":{\"color\":\"#283442\"}},\"type\":\"scattergl\"}],\"scattermapbox\":[{\"marker\":{\"colorbar\":{\"outlinewidth\":0,\"ticks\":\"\"}},\"type\":\"scattermapbox\"}],\"scatterpolargl\":[{\"marker\":{\"colorbar\":{\"outlinewidth\":0,\"ticks\":\"\"}},\"type\":\"scatterpolargl\"}],\"scatterpolar\":[{\"marker\":{\"colorbar\":{\"outlinewidth\":0,\"ticks\":\"\"}},\"type\":\"scatterpolar\"}],\"scatter\":[{\"marker\":{\"line\":{\"color\":\"#283442\"}},\"type\":\"scatter\"}],\"scatterternary\":[{\"marker\":{\"colorbar\":{\"outlinewidth\":0,\"ticks\":\"\"}},\"type\":\"scatterternary\"}],\"surface\":[{\"colorbar\":{\"outlinewidth\":0,\"ticks\":\"\"},\"colorscale\":[[0.0,\"#0d0887\"],[0.1111111111111111,\"#46039f\"],[0.2222222222222222,\"#7201a8\"],[0.3333333333333333,\"#9c179e\"],[0.4444444444444444,\"#bd3786\"],[0.5555555555555556,\"#d8576b\"],[0.6666666666666666,\"#ed7953\"],[0.7777777777777778,\"#fb9f3a\"],[0.8888888888888888,\"#fdca26\"],[1.0,\"#f0f921\"]],\"type\":\"surface\"}],\"table\":[{\"cells\":{\"fill\":{\"color\":\"#506784\"},\"line\":{\"color\":\"rgb(17,17,17)\"}},\"header\":{\"fill\":{\"color\":\"#2a3f5f\"},\"line\":{\"color\":\"rgb(17,17,17)\"}},\"type\":\"table\"}]},\"layout\":{\"annotationdefaults\":{\"arrowcolor\":\"#f2f5fa\",\"arrowhead\":0,\"arrowwidth\":1},\"autotypenumbers\":\"strict\",\"coloraxis\":{\"colorbar\":{\"outlinewidth\":0,\"ticks\":\"\"}},\"colorscale\":{\"diverging\":[[0,\"#8e0152\"],[0.1,\"#c51b7d\"],[0.2,\"#de77ae\"],[0.3,\"#f1b6da\"],[0.4,\"#fde0ef\"],[0.5,\"#f7f7f7\"],[0.6,\"#e6f5d0\"],[0.7,\"#b8e186\"],[0.8,\"#7fbc41\"],[0.9,\"#4d9221\"],[1,\"#276419\"]],\"sequential\":[[0.0,\"#0d0887\"],[0.1111111111111111,\"#46039f\"],[0.2222222222222222,\"#7201a8\"],[0.3333333333333333,\"#9c179e\"],[0.4444444444444444,\"#bd3786\"],[0.5555555555555556,\"#d8576b\"],[0.6666666666666666,\"#ed7953\"],[0.7777777777777778,\"#fb9f3a\"],[0.8888888888888888,\"#fdca26\"],[1.0,\"#f0f921\"]],\"sequentialminus\":[[0.0,\"#0d0887\"],[0.1111111111111111,\"#46039f\"],[0.2222222222222222,\"#7201a8\"],[0.3333333333333333,\"#9c179e\"],[0.4444444444444444,\"#bd3786\"],[0.5555555555555556,\"#d8576b\"],[0.6666666666666666,\"#ed7953\"],[0.7777777777777778,\"#fb9f3a\"],[0.8888888888888888,\"#fdca26\"],[1.0,\"#f0f921\"]]},\"colorway\":[\"#636efa\",\"#EF553B\",\"#00cc96\",\"#ab63fa\",\"#FFA15A\",\"#19d3f3\",\"#FF6692\",\"#B6E880\",\"#FF97FF\",\"#FECB52\"],\"font\":{\"color\":\"#f2f5fa\"},\"geo\":{\"bgcolor\":\"rgb(17,17,17)\",\"lakecolor\":\"rgb(17,17,17)\",\"landcolor\":\"rgb(17,17,17)\",\"showlakes\":true,\"showland\":true,\"subunitcolor\":\"#506784\"},\"hoverlabel\":{\"align\":\"left\"},\"hovermode\":\"closest\",\"mapbox\":{\"style\":\"dark\"},\"paper_bgcolor\":\"rgb(17,17,17)\",\"plot_bgcolor\":\"rgb(17,17,17)\",\"polar\":{\"angularaxis\":{\"gridcolor\":\"#506784\",\"linecolor\":\"#506784\",\"ticks\":\"\"},\"bgcolor\":\"rgb(17,17,17)\",\"radialaxis\":{\"gridcolor\":\"#506784\",\"linecolor\":\"#506784\",\"ticks\":\"\"}},\"scene\":{\"xaxis\":{\"backgroundcolor\":\"rgb(17,17,17)\",\"gridcolor\":\"#506784\",\"gridwidth\":2,\"linecolor\":\"#506784\",\"showbackground\":true,\"ticks\":\"\",\"zerolinecolor\":\"#C8D4E3\"},\"yaxis\":{\"backgroundcolor\":\"rgb(17,17,17)\",\"gridcolor\":\"#506784\",\"gridwidth\":2,\"linecolor\":\"#506784\",\"showbackground\":true,\"ticks\":\"\",\"zerolinecolor\":\"#C8D4E3\"},\"zaxis\":{\"backgroundcolor\":\"rgb(17,17,17)\",\"gridcolor\":\"#506784\",\"gridwidth\":2,\"linecolor\":\"#506784\",\"showbackground\":true,\"ticks\":\"\",\"zerolinecolor\":\"#C8D4E3\"}},\"shapedefaults\":{\"line\":{\"color\":\"#f2f5fa\"}},\"sliderdefaults\":{\"bgcolor\":\"#C8D4E3\",\"bordercolor\":\"rgb(17,17,17)\",\"borderwidth\":1,\"tickwidth\":0},\"ternary\":{\"aaxis\":{\"gridcolor\":\"#506784\",\"linecolor\":\"#506784\",\"ticks\":\"\"},\"baxis\":{\"gridcolor\":\"#506784\",\"linecolor\":\"#506784\",\"ticks\":\"\"},\"bgcolor\":\"rgb(17,17,17)\",\"caxis\":{\"gridcolor\":\"#506784\",\"linecolor\":\"#506784\",\"ticks\":\"\"}},\"title\":{\"x\":0.05},\"updatemenudefaults\":{\"bgcolor\":\"#506784\",\"borderwidth\":0},\"xaxis\":{\"automargin\":true,\"gridcolor\":\"#283442\",\"linecolor\":\"#506784\",\"ticks\":\"\",\"title\":{\"standoff\":15},\"zerolinecolor\":\"#283442\",\"zerolinewidth\":2},\"yaxis\":{\"automargin\":true,\"gridcolor\":\"#283442\",\"linecolor\":\"#506784\",\"ticks\":\"\",\"title\":{\"standoff\":15},\"zerolinecolor\":\"#283442\",\"zerolinewidth\":2}}},\"xaxis\":{\"anchor\":\"y\",\"domain\":[0.0,1.0],\"title\":{\"text\":\"Ball Number\"}},\"yaxis\":{\"anchor\":\"x\",\"domain\":[0.0,1.0],\"title\":{\"text\":\"Total Wickets\"}},\"legend\":{\"tracegroupgap\":0},\"title\":{\"text\":\"Interactive Wickets Progression\"}},                        {\"responsive\": true}                    ).then(function(){\n",
              "                            \n",
              "var gd = document.getElementById('34dda452-9f7c-4aee-90a1-1aeae6de138c');\n",
              "var x = new MutationObserver(function (mutations, observer) {{\n",
              "        var display = window.getComputedStyle(gd).display;\n",
              "        if (!display || display === 'none') {{\n",
              "            console.log([gd, 'removed!']);\n",
              "            Plotly.purge(gd);\n",
              "            observer.disconnect();\n",
              "        }}\n",
              "}});\n",
              "\n",
              "// Listen for the removal of the full notebook cells\n",
              "var notebookContainer = gd.closest('#notebook-container');\n",
              "if (notebookContainer) {{\n",
              "    x.observe(notebookContainer, {childList: true});\n",
              "}}\n",
              "\n",
              "// Listen for the clearing of the current output cell\n",
              "var outputEl = gd.closest('.output');\n",
              "if (outputEl) {{\n",
              "    x.observe(outputEl, {childList: true});\n",
              "}}\n",
              "\n",
              "                        })                };                            </script>        </div>\n",
              "</body>\n",
              "</html>"
            ]
          },
          "metadata": {},
          "output_type": "display_data"
        }
      ],
      "source": [
        "import plotly.express as px\n",
        "\n",
        "# Runs Progression\n",
        "fig_runs = px.line(simulated_df, x='Balls', y='Runs',\n",
        "                   title='Interactive Runs Progression',\n",
        "                   labels={'Balls': 'Ball Number', 'Runs': 'Total Runs'},\n",
        "                   template='plotly_dark')\n",
        "fig_runs.show()\n",
        "\n",
        "# Wickets Progression\n",
        "fig_wickets = px.line(simulated_df, x='Balls', y='Wickets',\n",
        "                      title='Interactive Wickets Progression',\n",
        "                      labels={'Balls': 'Ball Number', 'Wickets': 'Total Wickets'},\n",
        "                      template='plotly_dark')\n",
        "fig_wickets.show()"
      ]
    },
    {
      "cell_type": "markdown",
      "metadata": {
        "id": "LdpRiwI378BQ"
      },
      "source": [
        "#OPPONENT STRATEGY AI"
      ]
    },
    {
      "cell_type": "markdown",
      "metadata": {
        "id": "6ggwYcbf8e3k"
      },
      "source": [
        "Predict how an opposing team will approach the match — whether they’ll:\n",
        "\n",
        "1. Use aggressive or conservative batting\n",
        "\n",
        "2. Open with pace or spin\n",
        "\n",
        "3. Rotate bowlers in a specific pattern\n",
        "\n",
        "4. Use specific tactics in different game phases"
      ]
    },
    {
      "cell_type": "code",
      "execution_count": null,
      "metadata": {
        "id": "aXSD6_ew8FhP"
      },
      "outputs": [],
      "source": [
        "matches = pd.read_csv('matches_updated_mens_ipl.csv')"
      ]
    },
    {
      "cell_type": "code",
      "execution_count": null,
      "metadata": {
        "id": "NdZjzS8X8F2n"
      },
      "outputs": [],
      "source": [
        "from sklearn.model_selection import train_test_split\n",
        "from sklearn.preprocessing import LabelEncoder\n",
        "from sklearn.metrics import classification_report, confusion_matrix\n",
        "from xgboost import XGBClassifier\n",
        "from imblearn.over_sampling import SMOTE\n",
        "from sklearn.ensemble import RandomForestClassifier\n",
        "from sklearn.metrics import accuracy_score"
      ]
    },
    {
      "cell_type": "code",
      "execution_count": null,
      "metadata": {
        "colab": {
          "base_uri": "https://localhost:8080/"
        },
        "collapsed": true,
        "id": "0cOWky7eTY8R",
        "outputId": "e4cac173-3237-4083-9068-93d39130dead"
      },
      "outputs": [
        {
          "name": "stdout",
          "output_type": "stream",
          "text": [
            "Requirement already satisfied: xgboost in /usr/local/lib/python3.11/dist-packages (2.1.4)\n",
            "Requirement already satisfied: imbalanced-learn in /usr/local/lib/python3.11/dist-packages (0.13.0)\n",
            "Requirement already satisfied: numpy in /usr/local/lib/python3.11/dist-packages (from xgboost) (2.0.2)\n",
            "Requirement already satisfied: nvidia-nccl-cu12 in /usr/local/lib/python3.11/dist-packages (from xgboost) (2.21.5)\n",
            "Requirement already satisfied: scipy in /usr/local/lib/python3.11/dist-packages (from xgboost) (1.14.1)\n",
            "Requirement already satisfied: scikit-learn<2,>=1.3.2 in /usr/local/lib/python3.11/dist-packages (from imbalanced-learn) (1.6.1)\n",
            "Requirement already satisfied: sklearn-compat<1,>=0.1 in /usr/local/lib/python3.11/dist-packages (from imbalanced-learn) (0.1.3)\n",
            "Requirement already satisfied: joblib<2,>=1.1.1 in /usr/local/lib/python3.11/dist-packages (from imbalanced-learn) (1.4.2)\n",
            "Requirement already satisfied: threadpoolctl<4,>=2.0.0 in /usr/local/lib/python3.11/dist-packages (from imbalanced-learn) (3.6.0)\n"
          ]
        }
      ],
      "source": [
        "pip install xgboost imbalanced-learn"
      ]
    },
    {
      "cell_type": "code",
      "execution_count": null,
      "metadata": {
        "id": "GngpUAUW7ZXU"
      },
      "outputs": [],
      "source": [
        "deliveries_df = pd.read_csv(\"deliveries_updated_mens_ipl.csv\")\n",
        "matches_df = pd.read_csv(\"matches_updated_mens_ipl.csv\")"
      ]
    },
    {
      "cell_type": "code",
      "execution_count": null,
      "metadata": {
        "id": "EeZo52CS7d_C"
      },
      "outputs": [],
      "source": [
        "deliveries_df['total_runs'] = deliveries_df.groupby('matchId')['batsman_runs'].cumsum()"
      ]
    },
    {
      "cell_type": "markdown",
      "metadata": {
        "id": "F2i0_9L7E_aE"
      },
      "source": [
        "Powerplay strategy"
      ]
    },
    {
      "cell_type": "code",
      "execution_count": null,
      "metadata": {
        "id": "e9Mr9gOH7fCe"
      },
      "outputs": [],
      "source": [
        "# Merge using matchId\n",
        "merged_df = deliveries_df.merge(\n",
        "    matches_df[['matchId', 'venue', 'toss_decision', 'team1', 'team2']],\n",
        "    on='matchId',\n",
        "    how='left'\n",
        ")"
      ]
    },
    {
      "cell_type": "code",
      "execution_count": null,
      "metadata": {
        "id": "D6pVzquE7i0k"
      },
      "outputs": [],
      "source": [
        "powerplay_df = merged_df[merged_df['over'] <= 6]"
      ]
    },
    {
      "cell_type": "code",
      "execution_count": null,
      "metadata": {
        "id": "tcvht-Nj77mS"
      },
      "outputs": [],
      "source": [
        "# Group by match and batting team to get total runs\n",
        "powerplay_runs = powerplay_df.groupby(['matchId', 'batting_team'])[['total_runs', 'ball', 'team1', 'venue', 'toss_decision']].agg({'total_runs': 'sum', 'ball': 'count', 'team1': 'first', 'venue': 'first', 'toss_decision': 'first'}).reset_index()"
      ]
    },
    {
      "cell_type": "code",
      "execution_count": null,
      "metadata": {
        "id": "EY6iy9Ac8GWl"
      },
      "outputs": [],
      "source": [
        "# Step 2: Feature Engineering – Calculate run rate in powerplay\n",
        "powerplay_runs['run_rate'] = (powerplay_runs['total_runs'] / powerplay_runs['ball']) * 6"
      ]
    },
    {
      "cell_type": "code",
      "execution_count": null,
      "metadata": {
        "id": "k3yMG77z8GbR"
      },
      "outputs": [],
      "source": [
        "# Label strategy: Aggressive if RR > 9\n",
        "powerplay_runs['batting_strategy'] = powerplay_runs['run_rate'].apply(lambda x: 'Aggressive' if x > 9 else 'Conservative')"
      ]
    },
    {
      "cell_type": "code",
      "execution_count": null,
      "metadata": {
        "id": "CTKdIz1n95Tc"
      },
      "outputs": [],
      "source": [
        "# Encode categorical variables\n",
        "label_encoders = {}\n",
        "\n",
        "le_team = LabelEncoder()\n",
        "le_venue = LabelEncoder()\n",
        "le_toss = LabelEncoder()\n",
        "\n",
        "powerplay_runs['team1_encoded'] = le_team.fit_transform(powerplay_runs['team1'])\n",
        "powerplay_runs['venue_encoded'] = le_venue.fit_transform(powerplay_runs['venue'])\n",
        "powerplay_runs['toss_encoded'] = le_toss.fit_transform(powerplay_runs['toss_decision'])\n",
        "\n",
        "\n",
        "X = powerplay_runs[['team1_encoded', 'venue_encoded', 'toss_encoded']]\n",
        "y = powerplay_runs['batting_strategy']\n",
        "X_train, X_test, y_train, y_test = train_test_split(X, y, test_size=0.2, random_state=42)"
      ]
    },
    {
      "cell_type": "code",
      "execution_count": null,
      "metadata": {
        "colab": {
          "base_uri": "https://localhost:8080/"
        },
        "id": "xbvN-ohs-U-8",
        "outputId": "6871d450-f3ce-49d7-a204-62b01823fc1d"
      },
      "outputs": [
        {
          "name": "stdout",
          "output_type": "stream",
          "text": [
            "Model Accuracy: 1.0\n"
          ]
        }
      ],
      "source": [
        "# Train the model\n",
        "model = RandomForestClassifier()\n",
        "model.fit(X_train, y_train)\n",
        "\n",
        "y_pred = model.predict(X_test)\n",
        "\n",
        "accuracy = accuracy_score(y_test, y_pred)\n",
        "print(\"Model Accuracy:\", model.score(X_test, y_test))"
      ]
    },
    {
      "cell_type": "markdown",
      "metadata": {
        "id": "8na_b796YBR7"
      },
      "source": [
        "Predict Opponent Strategy for a New Match"
      ]
    },
    {
      "cell_type": "code",
      "execution_count": null,
      "metadata": {
        "id": "qMTGiy7C8G1v"
      },
      "outputs": [],
      "source": [
        "# Define a new match context\n",
        "new_match = {\n",
        "    'team1': 'Royal Challengers Bangalore',\n",
        "    'team2': 'Chennai Super Kings',\n",
        "    'venue': 'M Chinnaswamy Stadium',\n",
        "    'toss_decision': 'bat',\n",
        "\n",
        "}"
      ]
    },
    {
      "cell_type": "code",
      "execution_count": null,
      "metadata": {
        "id": "S1m1itvweRSx"
      },
      "outputs": [],
      "source": [
        "encoded_input = [\n",
        "    le_team.transform([new_match['team1']])[0],\n",
        "    le_venue.transform([new_match['venue']])[0],\n",
        "    le_toss.transform([new_match['toss_decision']])[0],\n",
        "]"
      ]
    },
    {
      "cell_type": "code",
      "execution_count": null,
      "metadata": {
        "colab": {
          "base_uri": "https://localhost:8080/"
        },
        "id": "f3eRZQmx8HAh",
        "outputId": "19ce2ae8-f339-4325-aab5-11551692592e"
      },
      "outputs": [
        {
          "name": "stdout",
          "output_type": "stream",
          "text": [
            "Predicted Opponent Powerplay Strategy: Aggressive\n"
          ]
        }
      ],
      "source": [
        "# Predict strategy\n",
        "predicted_strategy = model.predict([encoded_input])[0]\n",
        "print(f\"Predicted Opponent Powerplay Strategy: {predicted_strategy}\")"
      ]
    },
    {
      "cell_type": "markdown",
      "metadata": {
        "id": "TEQSv1M7FN7m"
      },
      "source": [
        "Middle Over Strategy"
      ]
    },
    {
      "cell_type": "code",
      "execution_count": null,
      "metadata": {
        "id": "1dRCXAX2Fuw1"
      },
      "outputs": [],
      "source": [
        "middle_df = merged_df[ (merged_df['over'] >= 7) & (merged_df['over'] <= 16)]"
      ]
    },
    {
      "cell_type": "code",
      "execution_count": null,
      "metadata": {
        "id": "JgDhOoE4EcB9"
      },
      "outputs": [],
      "source": [
        "# Group by match and calculate total overs bowled in the middle phase\n",
        "middle_overs_total = middle_df.groupby('matchId')['over'].nunique().reset_index()\n",
        "middle_overs_total.rename(columns={'over': 'middle_overs_total'}, inplace=True)"
      ]
    },
    {
      "cell_type": "code",
      "execution_count": null,
      "metadata": {
        "id": "q20pRGLPskwB"
      },
      "outputs": [],
      "source": [
        "merged_df = pd.merge(merged_df, middle_overs_total, on='matchId', how='left')"
      ]
    },
    {
      "cell_type": "code",
      "execution_count": null,
      "metadata": {
        "id": "neH6LAQTuLQg"
      },
      "outputs": [],
      "source": [
        "merged_df['spin_overs'] = np.random.randint(2, 9, len(merged_df))  # Simulate spin overs (2 to 8)"
      ]
    },
    {
      "cell_type": "code",
      "execution_count": null,
      "metadata": {
        "id": "UqeGFglRuOVH"
      },
      "outputs": [],
      "source": [
        "merged_df['spin_percentage'] = (merged_df['spin_overs'] / merged_df['middle_overs_total']) * 100"
      ]
    },
    {
      "cell_type": "code",
      "execution_count": null,
      "metadata": {
        "id": "ZrJVXhZGEcPQ"
      },
      "outputs": [],
      "source": [
        "# Strategy: Spin-Heavy if > 50% spin, otherwise Pace-Heavy\n",
        "merged_df['bowling_strategy'] = merged_df['spin_percentage'].apply(lambda x: 'Spin-Heavy' if x > 50 else 'Pace-Heavy')"
      ]
    },
    {
      "cell_type": "code",
      "execution_count": null,
      "metadata": {
        "id": "B2ZGVWRjkiw5"
      },
      "outputs": [],
      "source": [
        "# Encode categorical features\n",
        "le_venue = LabelEncoder()\n",
        "le_team2 = LabelEncoder()\n",
        "le_toss = LabelEncoder()\n",
        "le_opponents_weakness = LabelEncoder()\n",
        "le_team_bowling_strength = LabelEncoder()\n",
        "\n",
        "# Create encoded columns in merged_df\n",
        "merged_df['venue_encoded'] = le_venue.fit_transform(merged_df['venue'])\n",
        "merged_df['toss_encoded'] = le_toss.fit_transform(merged_df['toss_decision'])\n",
        "merged_df['team2_encoded'] = le_team2.fit_transform(merged_df['team2'])\n",
        "merged_df['team_bowling_strength'] = np.random.randint(1, 6, size=len(merged_df))\n",
        "merged_df['opposition_weakness'] = np.random.randint(1, 6, size=len(merged_df))"
      ]
    },
    {
      "cell_type": "code",
      "execution_count": null,
      "metadata": {
        "id": "yMmLen5MhjYa"
      },
      "outputs": [],
      "source": [
        "features_bowling = ['team2_encoded', 'venue_encoded', 'toss_encoded', 'team_bowling_strength', 'opposition_weakness']\n",
        "target_bowling = 'bowling_strategy'"
      ]
    },
    {
      "cell_type": "code",
      "execution_count": null,
      "metadata": {
        "colab": {
          "base_uri": "https://localhost:8080/"
        },
        "id": "RGi_i7DUEcVo",
        "outputId": "e4490fed-3366-42c1-d063-332972e7bd71"
      },
      "outputs": [
        {
          "name": "stdout",
          "output_type": "stream",
          "text": [
            "Bowling Strategy Model Accuracy: 0.53\n"
          ]
        }
      ],
      "source": [
        "X = merged_df[features_bowling]\n",
        "y = merged_df[target_bowling]\n",
        "\n",
        "# Train-test split\n",
        "X_train, X_test, y_train, y_test = train_test_split(X, y, test_size=0.2, random_state=42)\n",
        "\n",
        "# Model training\n",
        "bowling_model = RandomForestClassifier(random_state=42)\n",
        "bowling_model.fit(X_train, y_train)\n",
        "\n",
        "bowling_accuracy = bowling_model.score(X_test, y_test)\n",
        "print(f\"Bowling Strategy Model Accuracy: {bowling_accuracy:.2f}\")"
      ]
    },
    {
      "cell_type": "code",
      "execution_count": null,
      "metadata": {
        "id": "kCMdUBQeEcdB"
      },
      "outputs": [],
      "source": [
        "new_match = {\n",
        "    'team1': 'Royal Challengers Bangalore',\n",
        "    'team2': 'Chennai Super Kings',\n",
        "    'venue': 'M Chinnaswamy Stadium',\n",
        "    'toss_decision': 'bat',\n",
        "    'opponents_weakness': 4,\n",
        "    'team_bowling_strength': 'Spin',\n",
        "}"
      ]
    },
    {
      "cell_type": "code",
      "execution_count": null,
      "metadata": {
        "id": "TqltI0onyUKA"
      },
      "outputs": [],
      "source": [
        "# Encode categorical features\n",
        "le_venue = LabelEncoder()\n",
        "le_team2 = LabelEncoder()\n",
        "le_toss = LabelEncoder()\n",
        "le_opponents_weakness = LabelEncoder()\n",
        "le_team_bowling_strength = LabelEncoder()\n",
        "\n",
        "le_venue.fit(merged_df['venue'])\n",
        "le_toss.fit(merged_df['toss_decision'])\n",
        "le_team2.fit(merged_df['team2'])\n",
        "le_opponents_weakness.fit(merged_df['opposition_weakness'])\n",
        "le_team_bowling_strength.fit(merged_df['team_bowling_strength'])\n",
        "\n",
        "# Create encoded columns in merged_df\n",
        "merged_df['venue_encoded'] = le_venue.transform(merged_df['venue'])\n",
        "merged_df['toss_encoded'] = le_toss.transform(merged_df['toss_decision'])\n",
        "merged_df['team2_encoded'] = le_team2.transform(merged_df['team2'])\n",
        "merged_df['team_bowling_strength'] = le_team_bowling_strength.transform(merged_df['team_bowling_strength'])\n",
        "merged_df['opposition_weakness'] = le_opponents_weakness.transform(merged_df['opposition_weakness'])"
      ]
    },
    {
      "cell_type": "code",
      "execution_count": null,
      "metadata": {
        "id": "XD5V4kYPEcqH"
      },
      "outputs": [],
      "source": [
        "new_match_bowling_features = [\n",
        "\n",
        "    le_team.transform([new_match['team2']])[0],\n",
        "    le_venue.transform([new_match['venue']])[0],\n",
        "    le_toss.transform([new_match['toss_decision']])[0],\n",
        "    le_opponents_weakness.transform([new_match['opponents_weakness']])[0],\n",
        "    le_team_bowling_strength.transform([new_match['team_bowling_strength']])[0] if new_match['team_bowling_strength'] in le_team_bowling_strength.classes_ else -1\n",
        "    ]"
      ]
    },
    {
      "cell_type": "code",
      "execution_count": null,
      "metadata": {
        "colab": {
          "base_uri": "https://localhost:8080/"
        },
        "id": "07ukjhSPEcuO",
        "outputId": "57d34bf6-8910-449d-f509-2cd01dcff5f0"
      },
      "outputs": [
        {
          "name": "stdout",
          "output_type": "stream",
          "text": [
            "Predicted Opponent Bowling Strategy: Pace-Heavy\n"
          ]
        }
      ],
      "source": [
        "#Predict strategy\n",
        "predicted_bowling_strategy = bowling_model.predict([new_match_bowling_features])[0]\n",
        "\n",
        "print(f\"Predicted Opponent Bowling Strategy: {predicted_bowling_strategy}\")"
      ]
    },
    {
      "cell_type": "markdown",
      "metadata": {
        "id": "8wdlLWYU2-CE"
      },
      "source": [
        "Death over bowling strategy\n",
        "\n"
      ]
    },
    {
      "cell_type": "code",
      "execution_count": null,
      "metadata": {
        "id": "dWZzk13m3Z2n"
      },
      "outputs": [],
      "source": [
        "deliveries['total_runs'] = deliveries.groupby('matchId')['batsman_runs'].cumsum()"
      ]
    },
    {
      "cell_type": "code",
      "execution_count": null,
      "metadata": {
        "colab": {
          "base_uri": "https://localhost:8080/"
        },
        "id": "P817wZSM6p0i",
        "outputId": "ecd12ab2-c797-452c-bb81-a50985ccc15e"
      },
      "outputs": [
        {
          "name": "stdout",
          "output_type": "stream",
          "text": [
            "['DL Chahar' 'SR Watson' 'Harbhajan Singh' 'RA Jadeja' 'MA Wood'\n",
            " 'Imran Tahir' 'DJ Bravo' 'SN Thakur' 'KV Sharma' 'L Ngidi' 'KM Asif'\n",
            " 'DJ Willey' 'SK Raina' 'MJ Santner' 'MM Sharma' 'SC Kuggeleijn'\n",
            " 'SM Curran' 'PP Chawla' 'JR Hazlewood' 'Monu Kumar' 'MM Ali'\n",
            " 'TU Deshpande' 'AF Milne' 'S Dube' 'Mukesh Choudhary' 'D Pretorius'\n",
            " 'CJ Jordan' 'M Theekshana' 'Simarjeet Singh' 'PH Solanki' 'M Pathirana'\n",
            " 'JDP Oram' 'MS Gony' 'M Muralitharan' 'P Amarnath' 'Joginder Sharma'\n",
            " 'JA Morkel' 'M Ntini' 'S Vidyut' 'L Balaji' 'CK Kapugedera' 'T Thushara'\n",
            " 'A Flintoff' 'S Tyagi' 'SB Jakati' 'R Ashwin' 'JM Kemp' 'NLTC Perera'\n",
            " 'C Ganapathy' 'DE Bollinger' 'TG Southee' 'S Randiv' 'SB Styris'\n",
            " 'KMDN Kulasekara' 'F du Plessis' 'VY Mahesh' 'BW Hilfenhaus' 'DP Nannes'\n",
            " 'AS Rajpoot' 'B Laughlin' 'CH Morris' 'JO Holder' 'A Nehra' 'P Negi'\n",
            " 'DR Smith' 'IC Pandey' 'S Badree' 'V Shankar' 'DJ Hussey' 'JW Hastings'\n",
            " 'RG More']\n"
          ]
        }
      ],
      "source": [
        "csk_deliveries = deliveries[deliveries['bowling_team'] == 'Chennai Super Kings']  # Or deliveries['bowling_team'] == 'Chennai Super Kings'\n",
        "\n",
        "# Get unique bowlers for Chennai Super Kings\n",
        "unique_bowlers = csk_deliveries['bowler'].unique()\n",
        "\n",
        "print(unique_bowlers)"
      ]
    },
    {
      "cell_type": "code",
      "execution_count": null,
      "metadata": {
        "colab": {
          "base_uri": "https://localhost:8080/"
        },
        "id": "M-IV9xbb9BvX",
        "outputId": "33579b7b-fcaa-4321-e277-ef73dc9a6b40"
      },
      "outputs": [
        {
          "name": "stdout",
          "output_type": "stream",
          "text": [
            "['CH Gayle' 'Mandeep Singh' 'TM Head' 'KM Jadhav' 'SR Watson'\n",
            " 'Sachin Baby' 'STR Binny' 'S Aravind' 'YS Chahal' 'TS Mills'\n",
            " 'A Choudhary' 'Vishnu Vinod' 'Iqbal Abdulla' 'P Negi' 'AB de Villiers'\n",
            " 'V Kohli' 'AF Milne' 'S Badree' 'BB McCullum' 'Q de Kock' 'SN Khan'\n",
            " 'CR Woakes' 'Washington Sundar' 'CJ Anderson' 'UT Yadav' 'Mohammed Siraj'\n",
            " 'M Vohra' 'C de Grandhomme' 'TG Southee' 'PA Patel' 'M Ashwin' 'MM Ali'\n",
            " 'SO Hetmyer' 'S Dube' 'NA Saini' 'P Ray Barman' 'MP Stoinis' 'AD Nath'\n",
            " 'H Klaasen' 'Gurkeerat Singh' 'D Padikkal' 'AJ Finch' 'JR Philippe'\n",
            " 'CH Morris' 'I Udana' 'Shahbaz Ahmed' 'DW Steyn' 'RM Patidar'\n",
            " 'GJ Maxwell' 'DT Christian' 'KA Jamieson' 'HV Patel' 'DR Sams'\n",
            " 'KS Bharat' 'PWH de Silva' 'GHS Garton' 'TH David' 'F du Plessis'\n",
            " 'Anuj Rawat' 'KD Karthik' 'SE Rutherford' 'DJ Willey' 'SS Prabhudessai'\n",
            " 'Akash Deep' 'JR Hazlewood' 'MK Lomror' 'R Dravid' 'W Jaffer' 'JH Kallis'\n",
            " 'CL White' 'MV Boucher' 'B Akhil' 'AA Noffke' 'P Kumar' 'Z Khan'\n",
            " 'SB Joshi' 'S Chanderpaul' 'LRPL Taylor' 'R Vinay Kumar' 'B Chipli'\n",
            " 'Misbah-ul-Haq' 'DT Patil' 'A Kumble' 'J Arunkumar' 'SP Goswami'\n",
            " 'Abdur Razzak' 'JD Ryder' 'KP Pietersen' 'RV Uthappa' 'R Bishnoi'\n",
            " 'KV Sharma' 'Pankaj Singh' 'RE van der Merwe' 'MK Pandey' 'KP Appanna'\n",
            " 'D du Preez' 'EJG Morgan' 'A Mithun' 'S Sriram' 'MA Agarwal' 'TM Dilshan'\n",
            " 'SS Tiwary' 'AUK Pathan' 'CA Pujara' 'JJ van der Wath' 'R Ninan'\n",
            " 'DL Vettori' 'J Syed Mohammad' 'M Kaif' 'LA Pomersbach' 'KB Arun Karthik'\n",
            " 'CK Langeveldt' 'AB McDonald' 'RR Bhatkal' 'M Muralitharan'\n",
            " 'P Parameswaran' 'KK Nair' 'MC Henriques' 'M Kartik' 'JD Unadkat'\n",
            " 'R Rampaul' 'KL Rahul' 'A Mukund' 'NJ Maddinson' 'Yuvraj Singh'\n",
            " 'YV Takawale' 'JA Morkel' 'S Rana' 'MA Starc' 'AB Dinda' 'VR Aaron'\n",
            " 'RR Rossouw' 'VH Zol' 'AN Ahmed' 'DJG Sammy' 'SA Abbott' 'MS Bisla'\n",
            " 'D Wiese' 'KW Richardson' 'Parvez Rasool' 'CJ Jordan']\n"
          ]
        }
      ],
      "source": [
        "rcb_deliveries = deliveries[deliveries['batting_team'] == 'Royal Challengers Bangalore']  # Or deliveries['bowling_team'] == 'Chennai Super Kings'\n",
        "\n",
        "# Get unique bowlers for Chennai Super Kings\n",
        "unique_batsman = rcb_deliveries['batsman'].unique()\n",
        "print(unique_batsman)"
      ]
    },
    {
      "cell_type": "code",
      "execution_count": null,
      "metadata": {
        "colab": {
          "base_uri": "https://localhost:8080/"
        },
        "id": "E53jHaY23E38",
        "outputId": "c105b844-0c0c-432b-8b72-001eac13b930"
      },
      "outputs": [
        {
          "name": "stdout",
          "output_type": "stream",
          "text": [
            "Model Accuracy: 1.0\n"
          ]
        }
      ],
      "source": [
        "# Filter for death overs\n",
        "death_overs_data = deliveries[deliveries['over'] >= 17]\n",
        "\n",
        "# Create target variable (e.g., bowler type)\n",
        "death_overs_data['bowler_type'] = death_overs_data['bowler'].apply(lambda x: 'Pace' if x in ['SM Curran', 'CJ Jordan'] else 'Spin')\n",
        "\n",
        "le_batsman = LabelEncoder()\n",
        "le_bowler = LabelEncoder()\n",
        "death_overs_data['batsman_encoded'] = le_batsman.fit_transform(death_overs_data['batsman'])\n",
        "death_overs_data['bowler_encoded'] = le_bowler.fit_transform(death_overs_data['bowler'])\n",
        "\n",
        "\n",
        "# Select features and target\n",
        "X = death_overs_data[['batsman_encoded', 'bowler_encoded', 'over', 'total_runs']]\n",
        "y = death_overs_data['bowler_type']\n",
        "\n",
        "# Train-test split\n",
        "X_train, X_test, y_train, y_test = train_test_split(X, y, test_size=0.2, random_state=42)\n",
        "\n",
        "# Train the model\n",
        "model = RandomForestClassifier(random_state=42)\n",
        "model.fit(X_train, y_train)\n",
        "\n",
        "# Predict on test data\n",
        "y_pred = model.predict(X_test)\n",
        "\n",
        "# Evaluate accuracy\n",
        "accuracy = accuracy_score(y_test, y_pred)\n",
        "print(f\"Model Accuracy: {accuracy}\")"
      ]
    },
    {
      "cell_type": "code",
      "execution_count": null,
      "metadata": {
        "colab": {
          "base_uri": "https://localhost:8080/"
        },
        "id": "apzqCBFV37j3",
        "outputId": "c2db4955-68df-4c05-99b5-0d234f1cc132"
      },
      "outputs": [
        {
          "name": "stdout",
          "output_type": "stream",
          "text": [
            "Predicted Bowling Strategy: Spin\n"
          ]
        }
      ],
      "source": [
        "# Predict for a new match situation\n",
        "new_match_data = pd.DataFrame([{'batsman': 'AB de Villiers', 'bowler': 'M Pathirana', 'over': 18, 'total_runs': 150}])\n",
        "\n",
        "new_match_data['batsman_encoded'] = le_batsman.transform(new_match_data['batsman'])\n",
        "new_match_data['bowler_encoded'] = le_bowler.transform(new_match_data['bowler'])\n",
        "\n",
        "predicted_strategy = model.predict(new_match_data[['batsman_encoded', 'bowler_encoded', 'over', 'total_runs']])[0]\n",
        "print(f\"Predicted Bowling Strategy: {predicted_strategy}\")"
      ]
    },
    {
      "cell_type": "markdown",
      "metadata": {
        "id": "BPhoi3nsEuit"
      },
      "source": [
        "Team-Specific Strategy Model (e.g., CSK vs RCB)"
      ]
    },
    {
      "cell_type": "code",
      "execution_count": null,
      "metadata": {
        "id": "ce3uetNjDl_Z"
      },
      "outputs": [],
      "source": [
        "# Filter data for CSK vs RCB matchups\n",
        "csk_rcb_data = merged_df[\n",
        "    (merged_df['batting_team'] == 'Chennai Super Kings') &\n",
        "    (merged_df['bowling_team'] == 'Royal Challengers Bangalore')\n",
        "]"
      ]
    },
    {
      "cell_type": "code",
      "execution_count": null,
      "metadata": {
        "id": "myfM09y-Dod-"
      },
      "outputs": [],
      "source": [
        "# Select features and target\n",
        "features = ['venue_encoded', 'toss_encoded']  # Add or remove features as needed\n",
        "target = 'batting_strategy'  # Or any other strategy you want to model\n",
        "\n",
        "# Calculate run rate and assign batting strategy (similar to powerplay strategy)\n",
        "csk_rcb_data['total_runs'] = csk_rcb_data.groupby('matchId')['batsman_runs'].transform('sum')\n",
        "csk_rcb_data['total_balls'] = csk_rcb_data.groupby('matchId')['ball'].transform('count')\n",
        "csk_rcb_data['run_rate'] = (csk_rcb_data['total_runs'] / csk_rcb_data['total_balls']) * 6\n",
        "csk_rcb_data['batting_strategy'] = csk_rcb_data['run_rate'].apply(lambda x: 'Aggressive' if x > 9 else 'Conservative')\n",
        "\n",
        "X_csk_rcb = csk_rcb_data[features]\n",
        "y_csk_rcb = csk_rcb_data[target]"
      ]
    },
    {
      "cell_type": "code",
      "execution_count": null,
      "metadata": {
        "colab": {
          "base_uri": "https://localhost:8080/",
          "height": 80
        },
        "id": "d8IzAxcQDy80",
        "outputId": "b551d914-7f94-4826-f224-b86d5a9bcd2c"
      },
      "outputs": [
        {
          "data": {
            "text/html": [
              "<style>#sk-container-id-1 {\n",
              "  /* Definition of color scheme common for light and dark mode */\n",
              "  --sklearn-color-text: #000;\n",
              "  --sklearn-color-text-muted: #666;\n",
              "  --sklearn-color-line: gray;\n",
              "  /* Definition of color scheme for unfitted estimators */\n",
              "  --sklearn-color-unfitted-level-0: #fff5e6;\n",
              "  --sklearn-color-unfitted-level-1: #f6e4d2;\n",
              "  --sklearn-color-unfitted-level-2: #ffe0b3;\n",
              "  --sklearn-color-unfitted-level-3: chocolate;\n",
              "  /* Definition of color scheme for fitted estimators */\n",
              "  --sklearn-color-fitted-level-0: #f0f8ff;\n",
              "  --sklearn-color-fitted-level-1: #d4ebff;\n",
              "  --sklearn-color-fitted-level-2: #b3dbfd;\n",
              "  --sklearn-color-fitted-level-3: cornflowerblue;\n",
              "\n",
              "  /* Specific color for light theme */\n",
              "  --sklearn-color-text-on-default-background: var(--sg-text-color, var(--theme-code-foreground, var(--jp-content-font-color1, black)));\n",
              "  --sklearn-color-background: var(--sg-background-color, var(--theme-background, var(--jp-layout-color0, white)));\n",
              "  --sklearn-color-border-box: var(--sg-text-color, var(--theme-code-foreground, var(--jp-content-font-color1, black)));\n",
              "  --sklearn-color-icon: #696969;\n",
              "\n",
              "  @media (prefers-color-scheme: dark) {\n",
              "    /* Redefinition of color scheme for dark theme */\n",
              "    --sklearn-color-text-on-default-background: var(--sg-text-color, var(--theme-code-foreground, var(--jp-content-font-color1, white)));\n",
              "    --sklearn-color-background: var(--sg-background-color, var(--theme-background, var(--jp-layout-color0, #111)));\n",
              "    --sklearn-color-border-box: var(--sg-text-color, var(--theme-code-foreground, var(--jp-content-font-color1, white)));\n",
              "    --sklearn-color-icon: #878787;\n",
              "  }\n",
              "}\n",
              "\n",
              "#sk-container-id-1 {\n",
              "  color: var(--sklearn-color-text);\n",
              "}\n",
              "\n",
              "#sk-container-id-1 pre {\n",
              "  padding: 0;\n",
              "}\n",
              "\n",
              "#sk-container-id-1 input.sk-hidden--visually {\n",
              "  border: 0;\n",
              "  clip: rect(1px 1px 1px 1px);\n",
              "  clip: rect(1px, 1px, 1px, 1px);\n",
              "  height: 1px;\n",
              "  margin: -1px;\n",
              "  overflow: hidden;\n",
              "  padding: 0;\n",
              "  position: absolute;\n",
              "  width: 1px;\n",
              "}\n",
              "\n",
              "#sk-container-id-1 div.sk-dashed-wrapped {\n",
              "  border: 1px dashed var(--sklearn-color-line);\n",
              "  margin: 0 0.4em 0.5em 0.4em;\n",
              "  box-sizing: border-box;\n",
              "  padding-bottom: 0.4em;\n",
              "  background-color: var(--sklearn-color-background);\n",
              "}\n",
              "\n",
              "#sk-container-id-1 div.sk-container {\n",
              "  /* jupyter's `normalize.less` sets `[hidden] { display: none; }`\n",
              "     but bootstrap.min.css set `[hidden] { display: none !important; }`\n",
              "     so we also need the `!important` here to be able to override the\n",
              "     default hidden behavior on the sphinx rendered scikit-learn.org.\n",
              "     See: https://github.com/scikit-learn/scikit-learn/issues/21755 */\n",
              "  display: inline-block !important;\n",
              "  position: relative;\n",
              "}\n",
              "\n",
              "#sk-container-id-1 div.sk-text-repr-fallback {\n",
              "  display: none;\n",
              "}\n",
              "\n",
              "div.sk-parallel-item,\n",
              "div.sk-serial,\n",
              "div.sk-item {\n",
              "  /* draw centered vertical line to link estimators */\n",
              "  background-image: linear-gradient(var(--sklearn-color-text-on-default-background), var(--sklearn-color-text-on-default-background));\n",
              "  background-size: 2px 100%;\n",
              "  background-repeat: no-repeat;\n",
              "  background-position: center center;\n",
              "}\n",
              "\n",
              "/* Parallel-specific style estimator block */\n",
              "\n",
              "#sk-container-id-1 div.sk-parallel-item::after {\n",
              "  content: \"\";\n",
              "  width: 100%;\n",
              "  border-bottom: 2px solid var(--sklearn-color-text-on-default-background);\n",
              "  flex-grow: 1;\n",
              "}\n",
              "\n",
              "#sk-container-id-1 div.sk-parallel {\n",
              "  display: flex;\n",
              "  align-items: stretch;\n",
              "  justify-content: center;\n",
              "  background-color: var(--sklearn-color-background);\n",
              "  position: relative;\n",
              "}\n",
              "\n",
              "#sk-container-id-1 div.sk-parallel-item {\n",
              "  display: flex;\n",
              "  flex-direction: column;\n",
              "}\n",
              "\n",
              "#sk-container-id-1 div.sk-parallel-item:first-child::after {\n",
              "  align-self: flex-end;\n",
              "  width: 50%;\n",
              "}\n",
              "\n",
              "#sk-container-id-1 div.sk-parallel-item:last-child::after {\n",
              "  align-self: flex-start;\n",
              "  width: 50%;\n",
              "}\n",
              "\n",
              "#sk-container-id-1 div.sk-parallel-item:only-child::after {\n",
              "  width: 0;\n",
              "}\n",
              "\n",
              "/* Serial-specific style estimator block */\n",
              "\n",
              "#sk-container-id-1 div.sk-serial {\n",
              "  display: flex;\n",
              "  flex-direction: column;\n",
              "  align-items: center;\n",
              "  background-color: var(--sklearn-color-background);\n",
              "  padding-right: 1em;\n",
              "  padding-left: 1em;\n",
              "}\n",
              "\n",
              "\n",
              "/* Toggleable style: style used for estimator/Pipeline/ColumnTransformer box that is\n",
              "clickable and can be expanded/collapsed.\n",
              "- Pipeline and ColumnTransformer use this feature and define the default style\n",
              "- Estimators will overwrite some part of the style using the `sk-estimator` class\n",
              "*/\n",
              "\n",
              "/* Pipeline and ColumnTransformer style (default) */\n",
              "\n",
              "#sk-container-id-1 div.sk-toggleable {\n",
              "  /* Default theme specific background. It is overwritten whether we have a\n",
              "  specific estimator or a Pipeline/ColumnTransformer */\n",
              "  background-color: var(--sklearn-color-background);\n",
              "}\n",
              "\n",
              "/* Toggleable label */\n",
              "#sk-container-id-1 label.sk-toggleable__label {\n",
              "  cursor: pointer;\n",
              "  display: flex;\n",
              "  width: 100%;\n",
              "  margin-bottom: 0;\n",
              "  padding: 0.5em;\n",
              "  box-sizing: border-box;\n",
              "  text-align: center;\n",
              "  align-items: start;\n",
              "  justify-content: space-between;\n",
              "  gap: 0.5em;\n",
              "}\n",
              "\n",
              "#sk-container-id-1 label.sk-toggleable__label .caption {\n",
              "  font-size: 0.6rem;\n",
              "  font-weight: lighter;\n",
              "  color: var(--sklearn-color-text-muted);\n",
              "}\n",
              "\n",
              "#sk-container-id-1 label.sk-toggleable__label-arrow:before {\n",
              "  /* Arrow on the left of the label */\n",
              "  content: \"▸\";\n",
              "  float: left;\n",
              "  margin-right: 0.25em;\n",
              "  color: var(--sklearn-color-icon);\n",
              "}\n",
              "\n",
              "#sk-container-id-1 label.sk-toggleable__label-arrow:hover:before {\n",
              "  color: var(--sklearn-color-text);\n",
              "}\n",
              "\n",
              "/* Toggleable content - dropdown */\n",
              "\n",
              "#sk-container-id-1 div.sk-toggleable__content {\n",
              "  max-height: 0;\n",
              "  max-width: 0;\n",
              "  overflow: hidden;\n",
              "  text-align: left;\n",
              "  /* unfitted */\n",
              "  background-color: var(--sklearn-color-unfitted-level-0);\n",
              "}\n",
              "\n",
              "#sk-container-id-1 div.sk-toggleable__content.fitted {\n",
              "  /* fitted */\n",
              "  background-color: var(--sklearn-color-fitted-level-0);\n",
              "}\n",
              "\n",
              "#sk-container-id-1 div.sk-toggleable__content pre {\n",
              "  margin: 0.2em;\n",
              "  border-radius: 0.25em;\n",
              "  color: var(--sklearn-color-text);\n",
              "  /* unfitted */\n",
              "  background-color: var(--sklearn-color-unfitted-level-0);\n",
              "}\n",
              "\n",
              "#sk-container-id-1 div.sk-toggleable__content.fitted pre {\n",
              "  /* unfitted */\n",
              "  background-color: var(--sklearn-color-fitted-level-0);\n",
              "}\n",
              "\n",
              "#sk-container-id-1 input.sk-toggleable__control:checked~div.sk-toggleable__content {\n",
              "  /* Expand drop-down */\n",
              "  max-height: 200px;\n",
              "  max-width: 100%;\n",
              "  overflow: auto;\n",
              "}\n",
              "\n",
              "#sk-container-id-1 input.sk-toggleable__control:checked~label.sk-toggleable__label-arrow:before {\n",
              "  content: \"▾\";\n",
              "}\n",
              "\n",
              "/* Pipeline/ColumnTransformer-specific style */\n",
              "\n",
              "#sk-container-id-1 div.sk-label input.sk-toggleable__control:checked~label.sk-toggleable__label {\n",
              "  color: var(--sklearn-color-text);\n",
              "  background-color: var(--sklearn-color-unfitted-level-2);\n",
              "}\n",
              "\n",
              "#sk-container-id-1 div.sk-label.fitted input.sk-toggleable__control:checked~label.sk-toggleable__label {\n",
              "  background-color: var(--sklearn-color-fitted-level-2);\n",
              "}\n",
              "\n",
              "/* Estimator-specific style */\n",
              "\n",
              "/* Colorize estimator box */\n",
              "#sk-container-id-1 div.sk-estimator input.sk-toggleable__control:checked~label.sk-toggleable__label {\n",
              "  /* unfitted */\n",
              "  background-color: var(--sklearn-color-unfitted-level-2);\n",
              "}\n",
              "\n",
              "#sk-container-id-1 div.sk-estimator.fitted input.sk-toggleable__control:checked~label.sk-toggleable__label {\n",
              "  /* fitted */\n",
              "  background-color: var(--sklearn-color-fitted-level-2);\n",
              "}\n",
              "\n",
              "#sk-container-id-1 div.sk-label label.sk-toggleable__label,\n",
              "#sk-container-id-1 div.sk-label label {\n",
              "  /* The background is the default theme color */\n",
              "  color: var(--sklearn-color-text-on-default-background);\n",
              "}\n",
              "\n",
              "/* On hover, darken the color of the background */\n",
              "#sk-container-id-1 div.sk-label:hover label.sk-toggleable__label {\n",
              "  color: var(--sklearn-color-text);\n",
              "  background-color: var(--sklearn-color-unfitted-level-2);\n",
              "}\n",
              "\n",
              "/* Label box, darken color on hover, fitted */\n",
              "#sk-container-id-1 div.sk-label.fitted:hover label.sk-toggleable__label.fitted {\n",
              "  color: var(--sklearn-color-text);\n",
              "  background-color: var(--sklearn-color-fitted-level-2);\n",
              "}\n",
              "\n",
              "/* Estimator label */\n",
              "\n",
              "#sk-container-id-1 div.sk-label label {\n",
              "  font-family: monospace;\n",
              "  font-weight: bold;\n",
              "  display: inline-block;\n",
              "  line-height: 1.2em;\n",
              "}\n",
              "\n",
              "#sk-container-id-1 div.sk-label-container {\n",
              "  text-align: center;\n",
              "}\n",
              "\n",
              "/* Estimator-specific */\n",
              "#sk-container-id-1 div.sk-estimator {\n",
              "  font-family: monospace;\n",
              "  border: 1px dotted var(--sklearn-color-border-box);\n",
              "  border-radius: 0.25em;\n",
              "  box-sizing: border-box;\n",
              "  margin-bottom: 0.5em;\n",
              "  /* unfitted */\n",
              "  background-color: var(--sklearn-color-unfitted-level-0);\n",
              "}\n",
              "\n",
              "#sk-container-id-1 div.sk-estimator.fitted {\n",
              "  /* fitted */\n",
              "  background-color: var(--sklearn-color-fitted-level-0);\n",
              "}\n",
              "\n",
              "/* on hover */\n",
              "#sk-container-id-1 div.sk-estimator:hover {\n",
              "  /* unfitted */\n",
              "  background-color: var(--sklearn-color-unfitted-level-2);\n",
              "}\n",
              "\n",
              "#sk-container-id-1 div.sk-estimator.fitted:hover {\n",
              "  /* fitted */\n",
              "  background-color: var(--sklearn-color-fitted-level-2);\n",
              "}\n",
              "\n",
              "/* Specification for estimator info (e.g. \"i\" and \"?\") */\n",
              "\n",
              "/* Common style for \"i\" and \"?\" */\n",
              "\n",
              ".sk-estimator-doc-link,\n",
              "a:link.sk-estimator-doc-link,\n",
              "a:visited.sk-estimator-doc-link {\n",
              "  float: right;\n",
              "  font-size: smaller;\n",
              "  line-height: 1em;\n",
              "  font-family: monospace;\n",
              "  background-color: var(--sklearn-color-background);\n",
              "  border-radius: 1em;\n",
              "  height: 1em;\n",
              "  width: 1em;\n",
              "  text-decoration: none !important;\n",
              "  margin-left: 0.5em;\n",
              "  text-align: center;\n",
              "  /* unfitted */\n",
              "  border: var(--sklearn-color-unfitted-level-1) 1pt solid;\n",
              "  color: var(--sklearn-color-unfitted-level-1);\n",
              "}\n",
              "\n",
              ".sk-estimator-doc-link.fitted,\n",
              "a:link.sk-estimator-doc-link.fitted,\n",
              "a:visited.sk-estimator-doc-link.fitted {\n",
              "  /* fitted */\n",
              "  border: var(--sklearn-color-fitted-level-1) 1pt solid;\n",
              "  color: var(--sklearn-color-fitted-level-1);\n",
              "}\n",
              "\n",
              "/* On hover */\n",
              "div.sk-estimator:hover .sk-estimator-doc-link:hover,\n",
              ".sk-estimator-doc-link:hover,\n",
              "div.sk-label-container:hover .sk-estimator-doc-link:hover,\n",
              ".sk-estimator-doc-link:hover {\n",
              "  /* unfitted */\n",
              "  background-color: var(--sklearn-color-unfitted-level-3);\n",
              "  color: var(--sklearn-color-background);\n",
              "  text-decoration: none;\n",
              "}\n",
              "\n",
              "div.sk-estimator.fitted:hover .sk-estimator-doc-link.fitted:hover,\n",
              ".sk-estimator-doc-link.fitted:hover,\n",
              "div.sk-label-container:hover .sk-estimator-doc-link.fitted:hover,\n",
              ".sk-estimator-doc-link.fitted:hover {\n",
              "  /* fitted */\n",
              "  background-color: var(--sklearn-color-fitted-level-3);\n",
              "  color: var(--sklearn-color-background);\n",
              "  text-decoration: none;\n",
              "}\n",
              "\n",
              "/* Span, style for the box shown on hovering the info icon */\n",
              ".sk-estimator-doc-link span {\n",
              "  display: none;\n",
              "  z-index: 9999;\n",
              "  position: relative;\n",
              "  font-weight: normal;\n",
              "  right: .2ex;\n",
              "  padding: .5ex;\n",
              "  margin: .5ex;\n",
              "  width: min-content;\n",
              "  min-width: 20ex;\n",
              "  max-width: 50ex;\n",
              "  color: var(--sklearn-color-text);\n",
              "  box-shadow: 2pt 2pt 4pt #999;\n",
              "  /* unfitted */\n",
              "  background: var(--sklearn-color-unfitted-level-0);\n",
              "  border: .5pt solid var(--sklearn-color-unfitted-level-3);\n",
              "}\n",
              "\n",
              ".sk-estimator-doc-link.fitted span {\n",
              "  /* fitted */\n",
              "  background: var(--sklearn-color-fitted-level-0);\n",
              "  border: var(--sklearn-color-fitted-level-3);\n",
              "}\n",
              "\n",
              ".sk-estimator-doc-link:hover span {\n",
              "  display: block;\n",
              "}\n",
              "\n",
              "/* \"?\"-specific style due to the `<a>` HTML tag */\n",
              "\n",
              "#sk-container-id-1 a.estimator_doc_link {\n",
              "  float: right;\n",
              "  font-size: 1rem;\n",
              "  line-height: 1em;\n",
              "  font-family: monospace;\n",
              "  background-color: var(--sklearn-color-background);\n",
              "  border-radius: 1rem;\n",
              "  height: 1rem;\n",
              "  width: 1rem;\n",
              "  text-decoration: none;\n",
              "  /* unfitted */\n",
              "  color: var(--sklearn-color-unfitted-level-1);\n",
              "  border: var(--sklearn-color-unfitted-level-1) 1pt solid;\n",
              "}\n",
              "\n",
              "#sk-container-id-1 a.estimator_doc_link.fitted {\n",
              "  /* fitted */\n",
              "  border: var(--sklearn-color-fitted-level-1) 1pt solid;\n",
              "  color: var(--sklearn-color-fitted-level-1);\n",
              "}\n",
              "\n",
              "/* On hover */\n",
              "#sk-container-id-1 a.estimator_doc_link:hover {\n",
              "  /* unfitted */\n",
              "  background-color: var(--sklearn-color-unfitted-level-3);\n",
              "  color: var(--sklearn-color-background);\n",
              "  text-decoration: none;\n",
              "}\n",
              "\n",
              "#sk-container-id-1 a.estimator_doc_link.fitted:hover {\n",
              "  /* fitted */\n",
              "  background-color: var(--sklearn-color-fitted-level-3);\n",
              "}\n",
              "</style><div id=\"sk-container-id-1\" class=\"sk-top-container\"><div class=\"sk-text-repr-fallback\"><pre>RandomForestClassifier(random_state=1)</pre><b>In a Jupyter environment, please rerun this cell to show the HTML representation or trust the notebook. <br />On GitHub, the HTML representation is unable to render, please try loading this page with nbviewer.org.</b></div><div class=\"sk-container\" hidden><div class=\"sk-item\"><div class=\"sk-estimator fitted sk-toggleable\"><input class=\"sk-toggleable__control sk-hidden--visually\" id=\"sk-estimator-id-1\" type=\"checkbox\" checked><label for=\"sk-estimator-id-1\" class=\"sk-toggleable__label fitted sk-toggleable__label-arrow\"><div><div>RandomForestClassifier</div></div><div><a class=\"sk-estimator-doc-link fitted\" rel=\"noreferrer\" target=\"_blank\" href=\"https://scikit-learn.org/1.6/modules/generated/sklearn.ensemble.RandomForestClassifier.html\">?<span>Documentation for RandomForestClassifier</span></a><span class=\"sk-estimator-doc-link fitted\">i<span>Fitted</span></span></div></label><div class=\"sk-toggleable__content fitted\"><pre>RandomForestClassifier(random_state=1)</pre></div> </div></div></div></div>"
            ],
            "text/plain": [
              "RandomForestClassifier(random_state=1)"
            ]
          },
          "execution_count": 311,
          "metadata": {},
          "output_type": "execute_result"
        }
      ],
      "source": [
        "# Train a specialized model for CSK vs RCB\n",
        "csk_rcb_model = RandomForestClassifier(n_estimators=100, random_state=1)\n",
        "csk_rcb_model.fit(X_csk_rcb, y_csk_rcb)"
      ]
    },
    {
      "cell_type": "code",
      "execution_count": null,
      "metadata": {
        "colab": {
          "base_uri": "https://localhost:8080/"
        },
        "id": "ueyMdOfDD1iJ",
        "outputId": "711b343e-c02d-4deb-d50a-955f1bfd210e"
      },
      "outputs": [
        {
          "name": "stdout",
          "output_type": "stream",
          "text": [
            "Team-Specific Strategy (CSK vs RCB): Aggressive\n"
          ]
        }
      ],
      "source": [
        "# Predict using CSK-RCB context\n",
        "new_match_data = {\n",
        "    'venue': 'M Chinnaswamy Stadium',\n",
        "    'toss_decision': 'bat'\n",
        "}\n",
        "\n",
        "encoded_input_csk_rcb = [\n",
        "    le_venue.transform([new_match_data['venue']])[0],\n",
        "    le_toss.transform([new_match_data['toss_decision']])[0]\n",
        "]\n",
        "\n",
        "predicted_strategy = csk_rcb_model.predict([encoded_input_csk_rcb])[0]\n",
        "print(f\"Team-Specific Strategy (CSK vs RCB): {predicted_strategy}\")"
      ]
    },
    {
      "cell_type": "code",
      "execution_count": null,
      "metadata": {
        "colab": {
          "base_uri": "https://localhost:8080/",
          "height": 262,
          "referenced_widgets": [
            "fcb26d24b9a140d8b78e7e0b2e94ceab",
            "26cdf9be3c5843739b9ab4f92ca73103",
            "4ce540dfb80f43dc9f61e53c8adad3ed",
            "b481d437f85d49739b66a3e9eea36255",
            "27557253554b4c44bb396b26bbdd0c41",
            "4b13066c153e49c68699e6d908059225",
            "feee2746b96f4f7ca6cfcd53349deba2",
            "48fd12d36c0841b89792923be0aab2a2",
            "1912171f0e1b4f3d902f62ed625ab2e0",
            "a6b348f072dd4c5888639dde48eaf1bc",
            "08793599afbc49f49694e2b88cc6cbc0",
            "c8d6c547dc9e49469ff69a17a21b4963"
          ]
        },
        "id": "YJfov3bKFE1S",
        "outputId": "06ac725d-2c44-470b-a553-d84de0ee5958"
      },
      "outputs": [
        {
          "data": {
            "application/vnd.jupyter.widget-view+json": {
              "model_id": "fcb26d24b9a140d8b78e7e0b2e94ceab",
              "version_major": 2,
              "version_minor": 0
            },
            "text/plain": [
              "Dropdown(description='Venue:', options=('Wankhede', 'Chepauk', 'Chinnaswamy'), value='Wankhede')"
            ]
          },
          "metadata": {},
          "output_type": "display_data"
        },
        {
          "data": {
            "application/vnd.jupyter.widget-view+json": {
              "model_id": "b481d437f85d49739b66a3e9eea36255",
              "version_major": 2,
              "version_minor": 0
            },
            "text/plain": [
              "Dropdown(description='Toss Decision:', options=('bat', 'field'), value='bat')"
            ]
          },
          "metadata": {},
          "output_type": "display_data"
        },
        {
          "data": {
            "application/vnd.jupyter.widget-view+json": {
              "model_id": "feee2746b96f4f7ca6cfcd53349deba2",
              "version_major": 2,
              "version_minor": 0
            },
            "text/plain": [
              "SelectMultiple(description='Team 1 Lineup:', options=('CH Gayle', 'AB de Villiers', 'GJ Maxwell'), value=())"
            ]
          },
          "metadata": {},
          "output_type": "display_data"
        },
        {
          "data": {
            "application/vnd.jupyter.widget-view+json": {
              "model_id": "a6b348f072dd4c5888639dde48eaf1bc",
              "version_major": 2,
              "version_minor": 0
            },
            "text/plain": [
              "SelectMultiple(description='Team 2 Lineup:', options=('DJ Bravo', 'JR Hazlewood', 'MJ Santner'), value=())"
            ]
          },
          "metadata": {},
          "output_type": "display_data"
        }
      ],
      "source": [
        "import ipywidgets as widgets\n",
        "from IPython.display import display\n",
        "\n",
        "# Venue Selection\n",
        "venue_widget = widgets.Dropdown(\n",
        "    options=['Wankhede', 'Chepauk', 'Chinnaswamy'],\n",
        "    description='Venue:'\n",
        ")\n",
        "\n",
        "# Toss Decision\n",
        "toss_widget = widgets.Dropdown(\n",
        "    options=['bat', 'field'],\n",
        "    description='Toss Decision:'\n",
        ")\n",
        "\n",
        "\n",
        "team1_lineup_widget = widgets.SelectMultiple(\n",
        "    options=['CH Gayle', 'AB de Villiers', 'GJ Maxwell'],\n",
        "    description='Team 1 Lineup:'\n",
        ")\n",
        "\n",
        "team2_lineup_widget = widgets.SelectMultiple(\n",
        "    options=['DJ Bravo', 'JR Hazlewood', 'MJ Santner'],\n",
        "    description='Team 2 Lineup:'\n",
        ")\n",
        "\n",
        "# Display widgets\n",
        "display(venue_widget, toss_widget, team1_lineup_widget, team2_lineup_widget)"
      ]
    },
    {
      "cell_type": "code",
      "execution_count": null,
      "metadata": {
        "id": "YbYE8I8IF8rk"
      },
      "outputs": [],
      "source": [
        "def simulate_match_with_factors(start_state=(0, 0, 0), venue= 'M Chinnaswamy Stadium',\n",
        "                                 bowler_type='Pace', toss_decision='bat',\n",
        "                                 team1_lineup=[], team2_lineup=[]):\n",
        "    current_state = start_state\n",
        "    match_states = [current_state]\n",
        "\n",
        "\n",
        "    while current_state[2] < 120 and current_state[1] < 10:\n",
        "        if current_state in state_transitions:\n",
        "            next_states, probabilities = state_transitions[current_state]\n",
        "            probabilities = adjust_probabilities(current_state, next_states, probabilities, venue, bowler_type)\n",
        "\n",
        "            # Ensure next state's ball number doesn't exceed 120 and is unique\n",
        "            valid_next_states = [state for state in next_states\n",
        "                                 if state[2] <= 120 and state[2] > current_state[2]]\n",
        "            if valid_next_states:\n",
        "                # Adjust probabilities for valid states\n",
        "                valid_probabilities = [probabilities[next_states.index(state)] for state in valid_next_states]\n",
        "                # Normalize probabilities\n",
        "                valid_probabilities = np.array(valid_probabilities) / sum(valid_probabilities)\n",
        "\n",
        "                current_state = random.choices(valid_next_states, valid_probabilities)[0]\n",
        "                match_states.append(current_state)\n",
        "            else:\n",
        "                break  # No valid next states, end simulation\n",
        "        else:\n",
        "            break  # Current state not found in transitions, end simulation\n",
        "\n",
        "\n",
        "    return match_states"
      ]
    },
    {
      "cell_type": "code",
      "execution_count": null,
      "metadata": {
        "colab": {
          "base_uri": "https://localhost:8080/",
          "height": 701,
          "referenced_widgets": [
            "fcb26d24b9a140d8b78e7e0b2e94ceab",
            "26cdf9be3c5843739b9ab4f92ca73103",
            "4ce540dfb80f43dc9f61e53c8adad3ed",
            "b481d437f85d49739b66a3e9eea36255",
            "27557253554b4c44bb396b26bbdd0c41",
            "4b13066c153e49c68699e6d908059225",
            "feee2746b96f4f7ca6cfcd53349deba2",
            "48fd12d36c0841b89792923be0aab2a2",
            "1912171f0e1b4f3d902f62ed625ab2e0",
            "a6b348f072dd4c5888639dde48eaf1bc",
            "08793599afbc49f49694e2b88cc6cbc0",
            "c8d6c547dc9e49469ff69a17a21b4963",
            "f7b732cbee144887beb10b5807bce1fa",
            "58aea2858ba74fd1a192a1c2f1ef39bd",
            "d379ec8bfd744406a68313db167bb6d8",
            "d29541d8ef5c4253a977d3e6c012a8a2",
            "bd289913939d46d79fb59ef0fb7056a2"
          ]
        },
        "id": "SLW7uBmpGiNN",
        "outputId": "619f64e2-968b-452b-971d-88ae95dcf507"
      },
      "outputs": [
        {
          "data": {
            "application/vnd.jupyter.widget-view+json": {
              "model_id": "fcb26d24b9a140d8b78e7e0b2e94ceab",
              "version_major": 2,
              "version_minor": 0
            },
            "text/plain": [
              "Dropdown(description='Venue:', options=('Wankhede', 'Chepauk', 'Chinnaswamy'), value='Wankhede')"
            ]
          },
          "metadata": {},
          "output_type": "display_data"
        },
        {
          "data": {
            "application/vnd.jupyter.widget-view+json": {
              "model_id": "b481d437f85d49739b66a3e9eea36255",
              "version_major": 2,
              "version_minor": 0
            },
            "text/plain": [
              "Dropdown(description='Toss Decision:', options=('bat', 'field'), value='bat')"
            ]
          },
          "metadata": {},
          "output_type": "display_data"
        },
        {
          "data": {
            "application/vnd.jupyter.widget-view+json": {
              "model_id": "feee2746b96f4f7ca6cfcd53349deba2",
              "version_major": 2,
              "version_minor": 0
            },
            "text/plain": [
              "SelectMultiple(description='Team 1 Lineup:', options=('CH Gayle', 'AB de Villiers', 'GJ Maxwell'), value=())"
            ]
          },
          "metadata": {},
          "output_type": "display_data"
        },
        {
          "data": {
            "application/vnd.jupyter.widget-view+json": {
              "model_id": "a6b348f072dd4c5888639dde48eaf1bc",
              "version_major": 2,
              "version_minor": 0
            },
            "text/plain": [
              "SelectMultiple(description='Team 2 Lineup:', options=('DJ Bravo', 'JR Hazlewood', 'MJ Santner'), value=())"
            ]
          },
          "metadata": {},
          "output_type": "display_data"
        },
        {
          "data": {
            "application/vnd.jupyter.widget-view+json": {
              "model_id": "f7b732cbee144887beb10b5807bce1fa",
              "version_major": 2,
              "version_minor": 0
            },
            "text/plain": [
              "Button(description='Simulate Match', style=ButtonStyle())"
            ]
          },
          "metadata": {},
          "output_type": "display_data"
        },
        {
          "data": {
            "application/vnd.jupyter.widget-view+json": {
              "model_id": "d29541d8ef5c4253a977d3e6c012a8a2",
              "version_major": 2,
              "version_minor": 0
            },
            "text/plain": [
              "Output()"
            ]
          },
          "metadata": {},
          "output_type": "display_data"
        }
      ],
      "source": [
        "import matplotlib.pyplot as plt\n",
        "button = widgets.Button(description=\"Simulate Match\")\n",
        "\n",
        "# Output widget to display results\n",
        "output = widgets.Output()\n",
        "\n",
        "def on_input_change(change):\n",
        "    with output:\n",
        "        output.clear_output(wait=True)  # Clear previous output\n",
        "\n",
        "        # Get values from input widgets\n",
        "        venue = venue_widget.value\n",
        "        toss_decision = toss_widget.value\n",
        "        team1_lineup = list(team1_lineup_widget.value)  # Convert to list\n",
        "        team2_lineup = list(team2_lineup_widget.value)  # Convert to list\n",
        "\n",
        "        # Run simulation with updated inputs\n",
        "        match = simulate_match_with_factors(venue=venue, bowler_type='Pace', # Or dynamic bowler type\n",
        "                                             toss_decision=toss_decision,\n",
        "                                             team1_lineup=team1_lineup,\n",
        "                                             team2_lineup=team2_lineup)\n",
        "\n",
        "        # ... (Process and visualize the simulation results) ...\n",
        "        df = pd.DataFrame(match, columns=[\"Runs\", \"Wickets\", \"Balls\"])\n",
        "        df = df[df['Balls'] <= 120]  # Add this line for filtering\n",
        "        df.sort_values(by=['Balls'], inplace=True)\n",
        "        df['Ball Number'] = df.index\n",
        "           # Plot Runs and Wickets\n",
        "        fig, axes = plt.subplots(1, 2, figsize=(14, 5))\n",
        "\n",
        "        # Runs vs Balls\n",
        "        axes[0].plot(df['Balls'], df['Runs'], color='blue')\n",
        "        axes[0].set_title('Runs vs Balls')\n",
        "        axes[0].set_xlabel('Balls')\n",
        "        axes[0].set_ylabel('Runs')\n",
        "\n",
        "        # Wickets vs Balls\n",
        "        axes[1].plot(df['Balls'], df['Wickets'], color='red')\n",
        "        axes[1].set_title('Wickets vs Balls')\n",
        "        axes[1].set_xlabel('Balls')\n",
        "        axes[1].set_ylabel('Wickets')\n",
        "\n",
        "        plt.tight_layout()\n",
        "        plt.show()\n",
        "\n",
        "button.on_click(on_button_clicked)\n",
        "\n",
        "# Observe widget changes and trigger simulation\n",
        "venue_widget.observe(on_input_change, names='value')\n",
        "toss_widget.observe(on_input_change, names='value')\n",
        "team1_lineup_widget.observe(on_input_change, names='value')\n",
        "team2_lineup_widget.observe(on_input_change, names='value')\n",
        "\n",
        "# Display the output area\n",
        "display(venue_widget, toss_widget, team1_lineup_widget, team2_lineup_widget, button, output)"
      ]
    },
    {
      "cell_type": "markdown",
      "metadata": {
        "id": "s_yjfzrAJ-iH"
      },
      "source": [
        "Title: Cricket's Oracle: Unlocking the Game's Secrets with AI\n",
        "\n",
        "Introduction:\n",
        "\n",
        "Imagine a world where the unpredictable dance of bat and ball could be foreseen, where every strategic decision on the cricket field was backed by data-driven wisdom. This notebook opens the door to that world—a world where an AI oracle whispers its insights, revealing the hidden patterns of the game. We're not just simulating cricket; we're unraveling its secrets.\n",
        "\n",
        "A Data-Driven Odyssey:\n",
        "\n",
        "Our journey begins with a deep dive into the rich history of cricket, preserved in meticulously detailed datasets. Each delivery, each boundary, each wicket—all chronicled and ready to fuel our AI-powered odyssey. These datasets become our map, guiding us through the twists and turns of the game.\n",
        "\n",
        "Bringing the Game to Life:\n",
        "\n",
        "Using the power of Markov Chains, we've built a virtual cricket ground where matches unfold ball by ball. It's like watching a phantom game, where every run, every appeal, every strategic decision echoes reality. But this isn't just about recreating the past; it's about predicting the future.\n",
        "\n",
        "The AI Strategist:\n",
        "\n",
        "Now, picture a cunning opponent, an AI mastermind constantly analyzing the game and evolving its strategies. This AI isn't just playing; it's thinking, adapting, and anticipating. It's like having a legendary captain whispering secrets in your ear, guiding you towards victory.\n",
        "\n",
        "Unveiling Hidden Patterns:\n",
        "\n",
        "Our AI strategist becomes a crystal ball, revealing insights hidden within the data. Imagine a coach pondering the best batting order, or a captain strategizing bowler rotations—our AI provides the answers, backed by historical data and cutting-edge analysis. It's like having a cricketing Nostradamus on your team.\n",
        "\n",
        "Interactive Playbook:\n",
        "\n",
        "But this isn't just a spectator sport. Using intuitive dashboards powered by Gradio, we can step into the game ourselves. Imagine fine-tuning strategies, experimenting with different team combinations, and witnessing the impact in real-time. It's like having a personal cricket laboratory at your fingertips.\n",
        "\n",
        "The CSK-RCB Showdown:\n",
        "\n",
        "Let's rewind the clock to a classic rivalry—CSK versus RCB. Our AI strategist dives deep into historical data, uncovering team-specific tactics and predicting the likely course of the match. It's like reliving those epic battles with a new level of understanding.\n",
        "\n",
        "A Glimpse into the Future:\n",
        "\n",
        "This notebook isn't just about predicting match outcomes; it's about transforming the way we experience cricket. Imagine commentators armed with AI-powered insights, fantasy leagues elevated by data-driven predictions, and even scouts identifying hidden talents. The future of cricket is intelligent, interactive, and immersive.\n",
        "\n",
        "Conclusion:\n",
        "\n",
        "Cricket's Oracle has spoken. It has unveiled the hidden patterns of the game, offering us a glimpse into a future where data and AI illuminate the path to victory. This isn't just a simulator; it's a revolution—a revolution that promises to make cricket even more thrilling, strategic, and captivating."
      ]
    }
  ],
  "metadata": {
    "colab": {
      "provenance": [],
      "include_colab_link": true
    },
    "kernelspec": {
      "display_name": "Python 3",
      "name": "python3"
    },
    "language_info": {
      "name": "python"
    }
  },
  "nbformat": 4,
  "nbformat_minor": 0
}
{
  "cells": [
    {
      "cell_type": "markdown",
      "metadata": {
        "id": "view-in-github",
        "colab_type": "text"
      },
      "source": [
        "<a href=\"https://colab.research.google.com/github/yashv04/Match-Simulator-Opponent-Strategy-AI/blob/main/Match_Simulator_GitHub_Ready_v3.ipynb\" target=\"_parent\"><img src=\"https://colab.research.google.com/assets/colab-badge.svg\" alt=\"Open In Colab\"/></a>"
      ]
    },
    {
      "cell_type": "markdown",
      "metadata": {
        "id": "vN0F4C5SVGFw"
      },
      "source": [
        "#Implement ball-by-ball match simulator (Markov Chains)."
      ]
    },
    {
      "cell_type": "code",
      "execution_count": null,
      "metadata": {
        "id": "T7DNyq8eplx1"
      },
      "outputs": [],
      "source": [
        "import pandas as pd\n",
        "import numpy as np\n",
        "import matplotlib.pyplot as plt\n",
        "import math\n",
        "import random\n",
        "import warnings\n",
        "warnings.filterwarnings('ignore')"
      ]
    },
    {
      "cell_type": "code",
      "execution_count": null,
      "metadata": {
        "id": "VZYChclMVUVy"
      },
      "outputs": [],
      "source": [
        "deliveries = pd.read_csv('deliveries_updated_mens_ipl.csv')\n",
        "matches = pd.read_csv('matches_updated_mens_ipl.csv')"
      ]
    },
    {
      "cell_type": "code",
      "execution_count": null,
      "metadata": {
        "collapsed": true,
        "id": "vo6pf-S3Oc7c"
      },
      "outputs": [],
      "source": [
        "df = deliveries.copy()\n",
        "df = df.rename(columns = {'matchId' : 'match_id', 'batsman_runs' : 'runs_off_bat', 'dismissal_kind': 'wicket_type'})"
      ]
    },
    {
      "cell_type": "code",
      "execution_count": null,
      "metadata": {
        "id": "LTiEE_jQTG0b"
      },
      "outputs": [],
      "source": [
        "# Step 1: Feature Engineering\n",
        "df['ball_number'] = df['over'] * 6 + df['ball'] - 1\n",
        "df['is_wicket'] = df['wicket_type'].notnull().astype(int)\n",
        "df['runs_cumsum'] = df.groupby('match_id')['runs_off_bat'].cumsum()\n",
        "df['wickets_cumsum'] = df.groupby('match_id')['is_wicket'].cumsum()"
      ]
    },
    {
      "cell_type": "code",
      "execution_count": null,
      "metadata": {
        "id": "rGoWY8Q0TG6v"
      },
      "outputs": [],
      "source": [
        "# Step 2: Create next state columns\n",
        "df['next_runs'] = df['runs_cumsum'].shift(-1)\n",
        "df['next_wickets'] = df['wickets_cumsum'].shift(-1)\n",
        "df['next_ball'] = df['ball_number'].shift(-1)\n",
        "df['next_match_id'] = df['match_id'].shift(-1)\n",
        "df = df[df['match_id'] == df['next_match_id']]\n",
        "df.dropna(subset=['next_runs', 'next_wickets', 'next_ball'], inplace=True)"
      ]
    },
    {
      "cell_type": "code",
      "execution_count": null,
      "metadata": {
        "id": "bcRtNXTCTHAt"
      },
      "outputs": [],
      "source": [
        "# Step 3: Build Markov Chain transitions\n",
        "state_transitions = {}\n",
        "for _, row in df.iterrows():\n",
        "    current_state = (int(row['runs_cumsum']), int(row['wickets_cumsum']), int(row['ball_number']))\n",
        "    next_state = (int(row['next_runs']), int(row['next_wickets']), int(row['next_ball']))\n",
        "    if current_state not in state_transitions:\n",
        "        state_transitions[current_state] = []\n",
        "    state_transitions[current_state].append(next_state)\n",
        "\n",
        "# Step 4: Convert transitions to probabilities\n",
        "for state, transitions in state_transitions.items():\n",
        "    unique_transitions = list(set(transitions))\n",
        "    probabilities = [transitions.count(t) / len(transitions) for t in unique_transitions]\n",
        "    state_transitions[state] = (unique_transitions, probabilities)"
      ]
    },
    {
      "cell_type": "code",
      "execution_count": null,
      "metadata": {
        "id": "v1PruBqLTHHD"
      },
      "outputs": [],
      "source": [
        "# Step 5: Simulation function\n",
        "def simulate_match(start_state=(0, 0, 0), max_balls=120):\n",
        "    current_state = start_state\n",
        "    match_states = [current_state]\n",
        "    while current_state[2] < max_balls and current_state[1] < 10:\n",
        "        if current_state in state_transitions:\n",
        "            next_states, probabilities = state_transitions[current_state]\n",
        "            current_state = random.choices(next_states, probabilities)[0]\n",
        "            match_states.append(current_state)\n",
        "        else:\n",
        "            break\n",
        "    return match_states"
      ]
    },
    {
      "cell_type": "code",
      "execution_count": null,
      "metadata": {
        "id": "ybtnjkLrTHN_"
      },
      "outputs": [],
      "source": [
        "simulated_match = simulate_match(start_state=(0, 0, 0))\n",
        "simulated_df = pd.DataFrame(simulated_match, columns=['Runs', 'Wickets', 'Balls'])\n",
        "\n",
        "# Output: Last 10 states\n",
        "print(simulated_df.tail(10))"
      ]
    },
    {
      "cell_type": "markdown",
      "metadata": {
        "id": "tibTCfnWVVId"
      },
      "source": [
        "#Enhancing the Cricket Match Simulator"
      ]
    },
    {
      "cell_type": "code",
      "execution_count": null,
      "metadata": {
        "id": "BXWsCWFxVVLV"
      },
      "outputs": [],
      "source": [
        "# Modify state transitions to include venue & opponent factors\n",
        "venue_factors = {'Wankhede': 1.1, 'Chepauk': 0.9, 'Chinnaswamy': 1.2}  # Adjust run probabilities\n",
        "bowler_types = {'Pace': 1.0, 'Spin': 0.8}  # Reduce runs against spin"
      ]
    },
    {
      "cell_type": "code",
      "execution_count": null,
      "metadata": {
        "id": "v362yz63VVOM"
      },
      "outputs": [],
      "source": [
        "def adjust_probabilities(state, next_states, probabilities, venue, bowler_type):\n",
        "    # Modify run probabilities based on venue\n",
        "    venue_factor = venue_factors.get(venue, 1.0)\n",
        "    bowler_factor = bowler_types.get(bowler_type, 1.0)\n",
        "\n",
        "    adjusted_probabilities = [\n",
        "        prob * venue_factor * bowler_factor for prob in probabilities\n",
        "    ]\n",
        "    # Normalize to ensure sum = 1\n",
        "    adjusted_probabilities = np.array(adjusted_probabilities) / sum(adjusted_probabilities)\n",
        "    return adjusted_probabilities"
      ]
    },
    {
      "cell_type": "code",
      "execution_count": null,
      "metadata": {
        "id": "fRWtqrsX-i0f"
      },
      "outputs": [],
      "source": [
        "def simulate_match_with_factors(start_state=(0, 0, 0), venue='Wankhede', bowler_type='Pace'):\n",
        "    current_state = start_state\n",
        "    match_states = [current_state]\n",
        "\n",
        "\n",
        "    while current_state[2] < 120 and current_state[1] < 10:\n",
        "        if current_state in state_transitions:\n",
        "            next_states, probabilities = state_transitions[current_state]\n",
        "            probabilities = adjust_probabilities(current_state, next_states, probabilities, venue, bowler_type)\n",
        "\n",
        "            # Ensure next state's ball number doesn't exceed 120 and is unique\n",
        "            valid_next_states = [state for state in next_states\n",
        "                                 if state[2] <= 120 and state[2] > current_state[2]]\n",
        "            if valid_next_states:\n",
        "                # Adjust probabilities for valid states\n",
        "                valid_probabilities = [probabilities[next_states.index(state)] for state in valid_next_states]\n",
        "                # Normalize probabilities\n",
        "                valid_probabilities = np.array(valid_probabilities) / sum(valid_probabilities)\n",
        "\n",
        "                current_state = random.choices(valid_next_states, valid_probabilities)[0]\n",
        "                match_states.append(current_state)\n",
        "            else:\n",
        "                break  # No valid next states, end simulation\n",
        "        else:\n",
        "            break  # Current state not found in transitions, end simulation\n",
        "\n",
        "    return match_states"
      ]
    },
    {
      "cell_type": "code",
      "execution_count": null,
      "metadata": {
        "id": "psBt1lRxVVUb"
      },
      "outputs": [],
      "source": [
        "# Run enhanced simulation\n",
        "simulated_match = simulate_match_with_factors(venue='Wankhede', bowler_type='Pace')\n",
        "\n",
        "# Convert to DataFrame for visualization\n",
        "simulated_df = pd.DataFrame(simulated_match, columns=['Runs', 'Wickets', 'Balls'])"
      ]
    },
    {
      "cell_type": "markdown",
      "metadata": {
        "id": "yehumYANVVXa"
      },
      "source": [
        "#Visualizing the Simulation Progress"
      ]
    },
    {
      "cell_type": "code",
      "execution_count": null,
      "metadata": {
        "id": "D5aFaAt6VVcf"
      },
      "outputs": [],
      "source": [
        "import matplotlib.pyplot as plt\n",
        "\n",
        "# Plot Runs Progression\n",
        "plt.figure(figsize=(10, 5))\n",
        "plt.plot(simulated_df['Balls'], simulated_df['Runs'], label='Runs Scored', color='blue')\n",
        "plt.xlabel('Balls')\n",
        "plt.ylabel('Runs')\n",
        "plt.title('Match Progression - Runs vs Balls')\n",
        "plt.legend()\n",
        "plt.show()\n",
        "\n",
        "# Plot Wickets Progression\n",
        "plt.figure(figsize=(10, 5))\n",
        "plt.plot(simulated_df['Balls'], simulated_df['Wickets'], label='Wickets Lost', color='red')\n",
        "plt.xlabel('Balls')\n",
        "plt.ylabel('Wickets')\n",
        "plt.title('Match Progression - Wickets vs Balls')\n",
        "plt.legend()\n",
        "plt.show()"
      ]
    },
    {
      "cell_type": "markdown",
      "metadata": {
        "id": "1CRMYFs1VVtA"
      },
      "source": [
        "#Add Match Phases: Powerplay, Middle, Death Overs"
      ]
    },
    {
      "cell_type": "code",
      "execution_count": null,
      "metadata": {
        "id": "cjjRFYPyVVvJ"
      },
      "outputs": [],
      "source": [
        "def get_phase(ball_number):\n",
        "    over = ball_number // 6\n",
        "    if over < 6:\n",
        "        return 'Powerplay'\n",
        "    elif over < 16:\n",
        "        return 'Middle'\n",
        "    else:\n",
        "        return 'Death'\n",
        "\n",
        "phase_factors = {\n",
        "    'Powerplay': 1.1,\n",
        "    'Middle': 1.0,\n",
        "    'Death': 1.3\n",
        "}\n",
        "\n",
        "def adjust_probabilities_with_phase(state, next_states, probabilities, venue, bowler_type):\n",
        "    venue_factor = venue_factors.get(venue, 1.0)\n",
        "    bowler_factor = bowler_types.get(bowler_type, 1.0)\n",
        "    phase = get_phase(state[2])\n",
        "    phase_factor = phase_factors.get(phase, 1.0)\n",
        "\n",
        "    adjusted_probabilities = [\n",
        "        prob * venue_factor * bowler_factor * phase_factor for prob in probabilities\n",
        "    ]\n",
        "    adjusted_probabilities = np.array(adjusted_probabilities) / sum(adjusted_probabilities)\n",
        "    return adjusted_probabilities"
      ]
    },
    {
      "cell_type": "code",
      "execution_count": null,
      "metadata": {
        "id": "SWNKtNzHVVxi"
      },
      "outputs": [],
      "source": [
        "#Dynamic Bowling Changes + Strategy AI\n",
        "\n",
        "def get_bowler_type(over):\n",
        "    if over < 6 or over > 16:\n",
        "        return 'Pace'\n",
        "    else:\n",
        "        return 'Spin'"
      ]
    },
    {
      "cell_type": "code",
      "execution_count": null,
      "metadata": {
        "id": "KnoVm2OqVV0j"
      },
      "outputs": [],
      "source": [
        "# Display Match Summary\n",
        "final_state = simulated_df.iloc[-1]\n",
        "total_runs = final_state['Runs']\n",
        "total_wickets = final_state['Wickets']\n",
        "total_overs = final_state['Balls'] // 6 + (final_state['Balls'] % 6) / 10\n",
        "\n",
        "print(f\"Match Summary:\")\n",
        "print(f\"Total: {total_runs}/{total_wickets} in {total_overs:.1f} overs\")\n",
        "print(f\"Run Rate: {total_runs / (final_state['Balls'] / 6):.2f}\")"
      ]
    },
    {
      "cell_type": "code",
      "execution_count": null,
      "metadata": {
        "id": "1fS0_ZFtVV3K"
      },
      "outputs": [],
      "source": [
        "#Save Results & Visualize\n",
        "simulated_df.to_csv('simulated_match_output.csv', index=False)"
      ]
    },
    {
      "cell_type": "code",
      "execution_count": null,
      "metadata": {
        "collapsed": true,
        "id": "8cuD1ywHVWAF"
      },
      "outputs": [],
      "source": [
        "pip install seaborn plotly"
      ]
    },
    {
      "cell_type": "code",
      "execution_count": null,
      "metadata": {
        "id": "t61Fk2u79K0Q"
      },
      "outputs": [],
      "source": [
        "import plotly.express as px\n",
        "\n",
        "# Runs Progression\n",
        "fig_runs = px.line(simulated_df, x='Balls', y='Runs',\n",
        "                   title='Interactive Runs Progression',\n",
        "                   labels={'Balls': 'Ball Number', 'Runs': 'Total Runs'},\n",
        "                   template='plotly_dark')\n",
        "fig_runs.show()\n",
        "\n",
        "# Wickets Progression\n",
        "fig_wickets = px.line(simulated_df, x='Balls', y='Wickets',\n",
        "                      title='Interactive Wickets Progression',\n",
        "                      labels={'Balls': 'Ball Number', 'Wickets': 'Total Wickets'},\n",
        "                      template='plotly_dark')\n",
        "fig_wickets.show()"
      ]
    },
    {
      "cell_type": "markdown",
      "metadata": {
        "id": "Rk-BqTVz70e9"
      },
      "source": [
        "In cricket, predicting the outcome of a match is not just about team strength but also about dynamic factors such as pitch behavior, match phase, and team strategies. A tactical match simulator provides an innovative way to understand how these factors evolve throughout a match.\n",
        "\n",
        "The match simulation is based on a ball-by-ball prediction model, where each delivery outcome (runs, wickets, boundaries) is determined using probabilities derived from historical data. Players’ batting and bowling skills, along with pitch conditions, influence the outcome of each ball in real-time.\n",
        "\n",
        "Here's the Match summary of the inning played in Wankhade, Mumbai.\n",
        "Total: 180/6 in 20.0 overs\n",
        "Run Rate: 9.00\n",
        "\n",
        "he Tactical Match Simulator shows how match dynamics unfold and how each ball can change the course of a game. Future versions will incorporate live player data and more sophisticated models to predict outcomes more accurately.\n"
      ]
    },
    {
      "cell_type": "markdown",
      "metadata": {
        "id": "LdpRiwI378BQ"
      },
      "source": [
        "#OPPONENT STRATEGY AI"
      ]
    },
    {
      "cell_type": "markdown",
      "metadata": {
        "id": "6ggwYcbf8e3k"
      },
      "source": [
        "Predict how an opposing team will approach the match — whether they’ll:\n",
        "\n",
        "1. Use aggressive or conservative batting\n",
        "\n",
        "2. Open with pace or spin\n",
        "\n",
        "3. Rotate bowlers in a specific pattern\n",
        "\n",
        "4. Use specific tactics in different game phases"
      ]
    },
    {
      "cell_type": "code",
      "execution_count": null,
      "metadata": {
        "id": "aXSD6_ew8FhP"
      },
      "outputs": [],
      "source": [
        "matches = pd.read_csv('matches_updated_mens_ipl.csv')"
      ]
    },
    {
      "cell_type": "code",
      "execution_count": null,
      "metadata": {
        "id": "NdZjzS8X8F2n"
      },
      "outputs": [],
      "source": [
        "from sklearn.model_selection import train_test_split\n",
        "from sklearn.preprocessing import LabelEncoder\n",
        "from sklearn.metrics import classification_report, confusion_matrix\n",
        "from xgboost import XGBClassifier\n",
        "from imblearn.over_sampling import SMOTE\n",
        "from sklearn.ensemble import RandomForestClassifier\n",
        "from sklearn.metrics import accuracy_score"
      ]
    },
    {
      "cell_type": "code",
      "execution_count": null,
      "metadata": {
        "collapsed": true,
        "id": "0cOWky7eTY8R"
      },
      "outputs": [],
      "source": [
        "pip install xgboost imbalanced-learn"
      ]
    },
    {
      "cell_type": "code",
      "execution_count": null,
      "metadata": {
        "id": "GngpUAUW7ZXU"
      },
      "outputs": [],
      "source": [
        "deliveries = pd.read_csv(\"deliveries_updated_mens_ipl.csv\")\n",
        "matches = pd.read_csv(\"matches_updated_mens_ipl.csv\")"
      ]
    },
    {
      "cell_type": "code",
      "execution_count": null,
      "metadata": {
        "id": "EeZo52CS7d_C"
      },
      "outputs": [],
      "source": [
        "deliveries['total_runs'] = deliveries.groupby('matchId')['batsman_runs'].cumsum()"
      ]
    },
    {
      "cell_type": "markdown",
      "metadata": {
        "id": "F2i0_9L7E_aE"
      },
      "source": [
        "Powerplay strategy"
      ]
    },
    {
      "cell_type": "code",
      "execution_count": null,
      "metadata": {
        "id": "e9Mr9gOH7fCe"
      },
      "outputs": [],
      "source": [
        "# Merge using matchId\n",
        "merged_df = deliveries.merge(\n",
        "    matches[['matchId', 'venue', 'toss_decision', 'team1', 'team2']],\n",
        "    on='matchId',\n",
        "    how='left'\n",
        ")"
      ]
    },
    {
      "cell_type": "code",
      "execution_count": null,
      "metadata": {
        "id": "D6pVzquE7i0k"
      },
      "outputs": [],
      "source": [
        "powerplay_df = merged_df[merged_df['over'] <= 6]"
      ]
    },
    {
      "cell_type": "code",
      "execution_count": null,
      "metadata": {
        "id": "tcvht-Nj77mS"
      },
      "outputs": [],
      "source": [
        "# Group by match and batting team to get total runs\n",
        "powerplay_runs = powerplay_df.groupby(['matchId', 'batting_team'])[['total_runs', 'ball', 'team1', 'venue', 'toss_decision']].agg({'total_runs': 'sum', 'ball': 'count', 'team1': 'first', 'venue': 'first', 'toss_decision': 'first'}).reset_index()"
      ]
    },
    {
      "cell_type": "code",
      "execution_count": null,
      "metadata": {
        "id": "EY6iy9Ac8GWl"
      },
      "outputs": [],
      "source": [
        "# Step 2: Feature Engineering – Calculate run rate in powerplay\n",
        "powerplay_runs['run_rate'] = (powerplay_runs['total_runs'] / powerplay_runs['ball']) * 6"
      ]
    },
    {
      "cell_type": "code",
      "execution_count": null,
      "metadata": {
        "id": "k3yMG77z8GbR"
      },
      "outputs": [],
      "source": [
        "# Label strategy: Aggressive if RR > 9\n",
        "powerplay_runs['batting_strategy'] = powerplay_runs['run_rate'].apply(lambda x: 'Aggressive' if x > 9 else 'Conservative')"
      ]
    },
    {
      "cell_type": "code",
      "execution_count": null,
      "metadata": {
        "id": "CTKdIz1n95Tc"
      },
      "outputs": [],
      "source": [
        "# Encode categorical variables\n",
        "label_encoders = {}\n",
        "\n",
        "le_team = LabelEncoder()\n",
        "le_venue = LabelEncoder()\n",
        "le_toss = LabelEncoder()\n",
        "\n",
        "powerplay_runs['team1_encoded'] = le_team.fit_transform(powerplay_runs['team1'])\n",
        "powerplay_runs['venue_encoded'] = le_venue.fit_transform(powerplay_runs['venue'])\n",
        "powerplay_runs['toss_encoded'] = le_toss.fit_transform(powerplay_runs['toss_decision'])\n",
        "\n",
        "\n",
        "X = powerplay_runs[['team1_encoded', 'venue_encoded', 'toss_encoded']]\n",
        "y = powerplay_runs['batting_strategy']\n",
        "X_train, X_test, y_train, y_test = train_test_split(X, y, test_size=0.2, random_state=42)"
      ]
    },
    {
      "cell_type": "code",
      "execution_count": null,
      "metadata": {
        "id": "xbvN-ohs-U-8"
      },
      "outputs": [],
      "source": [
        "# Train the model\n",
        "model = RandomForestClassifier()\n",
        "model.fit(X_train, y_train)\n",
        "\n",
        "y_pred = model.predict(X_test)\n",
        "\n",
        "accuracy = accuracy_score(y_test, y_pred)\n",
        "print(\"Model Accuracy:\", model.score(X_test, y_test))"
      ]
    },
    {
      "cell_type": "markdown",
      "metadata": {
        "id": "8na_b796YBR7"
      },
      "source": [
        "Predict Opponent Strategy for a New Match"
      ]
    },
    {
      "cell_type": "code",
      "execution_count": null,
      "metadata": {
        "id": "qMTGiy7C8G1v"
      },
      "outputs": [],
      "source": [
        "# Define a new match context\n",
        "new_match = {\n",
        "    'team1': 'Royal Challengers Bangalore',\n",
        "    'team2': 'Chennai Super Kings',\n",
        "    'venue': 'M Chinnaswamy Stadium',\n",
        "    'toss_decision': 'bat',\n",
        "\n",
        "}"
      ]
    },
    {
      "cell_type": "code",
      "execution_count": null,
      "metadata": {
        "id": "S1m1itvweRSx"
      },
      "outputs": [],
      "source": [
        "encoded_input = [\n",
        "    le_team.transform([new_match['team1']])[0],\n",
        "    le_venue.transform([new_match['venue']])[0],\n",
        "    le_toss.transform([new_match['toss_decision']])[0],\n",
        "]"
      ]
    },
    {
      "cell_type": "code",
      "execution_count": null,
      "metadata": {
        "id": "f3eRZQmx8HAh"
      },
      "outputs": [],
      "source": [
        "# Predict strategy\n",
        "predicted_strategy = model.predict([encoded_input])[0]\n",
        "print(f\"Predicted Opponent Powerplay Strategy: {predicted_strategy}\")"
      ]
    },
    {
      "cell_type": "markdown",
      "metadata": {
        "id": "TEQSv1M7FN7m"
      },
      "source": [
        "Middle Over Strategy"
      ]
    },
    {
      "cell_type": "code",
      "execution_count": null,
      "metadata": {
        "id": "DEHSHsQrDMBQ"
      },
      "outputs": [],
      "source": [
        "import pandas as pd\n",
        "from sklearn.model_selection import train_test_split\n",
        "from sklearn.preprocessing import LabelEncoder\n",
        "from sklearn.ensemble import RandomForestClassifier\n",
        "from sklearn.metrics import accuracy_score\n",
        "\n",
        "# Load data\n",
        "deliveries = pd.read_csv(\"deliveries_updated_mens_ipl.csv\")\n",
        "matches = pd.read_csv(\"matches_updated_mens_ipl.csv\")\n",
        "\n",
        "# Merge dataframes\n",
        "merged_df = deliveries.merge(\n",
        "    matches[['matchId', 'venue', 'toss_decision', 'team1', 'team2']],\n",
        "    on='matchId',\n",
        "    how='left'\n",
        ")\n",
        "\n",
        "# Filter for middle overs and CSK vs RCB\n",
        "middle_overs_df = merged_df[\n",
        "    (merged_df['over'] >= 7) & (merged_df['over'] <= 16) &\n",
        "    (merged_df['bowling_team'] == 'Chennai Super Kings') &\n",
        "    (merged_df['batting_team'] == 'Royal Challengers Bangalore')\n",
        "]\n",
        "\n",
        "# Feature Engineering\n",
        "# 1. Calculate spin overs percentage\n",
        "middle_overs_df['total_overs'] = middle_overs_df.groupby('matchId')['over'].transform('nunique')\n",
        "middle_overs_df['spin_overs'] = middle_overs_df['bowler'].apply(lambda x: 1 if x in ['Imran Tahir', 'RA Jadeja', 'Harbhajan Singh'] else 0).groupby(middle_overs_df['matchId']).transform('sum')  # Update with CSK's spinners\n",
        "middle_overs_df['spin_percentage'] = (middle_overs_df['spin_overs'] / middle_overs_df['total_overs']) * 100\n",
        "\n",
        "# 2. Add batsman and bowler features\n",
        "# You can add features like batsman's strike rate against spin/pace, bowler's economy rate, etc.\n",
        "\n",
        "# 3. Encode categorical features\n",
        "le_venue = LabelEncoder()\n",
        "le_toss = LabelEncoder()\n",
        "middle_overs_df['venue_encoded'] = le_venue.fit_transform(middle_overs_df['venue'])\n",
        "middle_overs_df['toss_encoded'] = le_toss.fit_transform(middle_overs_df['toss_decision'])\n",
        "\n",
        "# Select features and target\n",
        "features = ['venue_encoded', 'toss_encoded', 'spin_percentage']  # Add more features\n",
        "target = 'bowling_strategy'\n",
        "middle_overs_df['bowling_strategy'] = middle_overs_df['spin_percentage'].apply(lambda x: 'Spin-Heavy' if x > 50 else 'Pace-Heavy')\n",
        "\n",
        "X = middle_overs_df[features]\n",
        "y = middle_overs_df[target]\n",
        "\n",
        "# Train-test split\n",
        "X_train, X_test, y_train, y_test = train_test_split(X, y, test_size=0.2, random_state=42)\n",
        "\n",
        "# Model training\n",
        "model = RandomForestClassifier(random_state=42)  # You can try other models\n",
        "model.fit(X_train, y_train)\n",
        "\n",
        "# Prediction and evaluation\n",
        "y_pred = model.predict(X_test)\n",
        "accuracy = accuracy_score(y_test, y_pred)\n",
        "print(f\"Model Accuracy: {accuracy:.2f}\")\n",
        "\n",
        "# Predict for a new match\n",
        "new_match_data = {\n",
        "    'venue': 'M Chinnaswamy Stadium',\n",
        "    'toss_decision': 'bat',\n",
        "    'spin_percentage': 60  # Example value\n",
        "}\n",
        "\n",
        "encoded_input = [\n",
        "    le_venue.transform([new_match_data['venue']])[0],\n",
        "    le_toss.transform([new_match_data['toss_decision']])[0],\n",
        "    new_match_data['spin_percentage']\n",
        "]\n",
        "\n",
        "predicted_strategy = model.predict([encoded_input])[0]\n",
        "print(f\"Predicted Bowling Strategy for CSK in middle overs: {predicted_strategy}\")"
      ]
    },
    {
      "cell_type": "markdown",
      "metadata": {
        "id": "8wdlLWYU2-CE"
      },
      "source": [
        "Death over bowling strategy\n",
        "\n"
      ]
    },
    {
      "cell_type": "code",
      "execution_count": null,
      "metadata": {
        "id": "dWZzk13m3Z2n"
      },
      "outputs": [],
      "source": [
        "deliveries['total_runs'] = deliveries.groupby('matchId')['batsman_runs'].cumsum()"
      ]
    },
    {
      "cell_type": "code",
      "execution_count": null,
      "metadata": {
        "id": "P817wZSM6p0i"
      },
      "outputs": [],
      "source": [
        "csk_deliveries = deliveries[deliveries['bowling_team'] == 'Chennai Super Kings']  # Or deliveries['bowling_team'] == 'Chennai Super Kings'\n",
        "\n",
        "# Get unique bowlers for Chennai Super Kings\n",
        "unique_bowlers = csk_deliveries['bowler'].unique()\n",
        "\n",
        "print(unique_bowlers)"
      ]
    },
    {
      "cell_type": "code",
      "execution_count": null,
      "metadata": {
        "id": "M-IV9xbb9BvX"
      },
      "outputs": [],
      "source": [
        "rcb_deliveries = deliveries[deliveries['batting_team'] == 'Royal Challengers Bangalore']  # Or deliveries['bowling_team'] == 'Chennai Super Kings'\n",
        "\n",
        "# Get unique bowlers for Chennai Super Kings\n",
        "unique_batsman = rcb_deliveries['batsman'].unique()\n",
        "print(unique_batsman)"
      ]
    },
    {
      "cell_type": "code",
      "execution_count": null,
      "metadata": {
        "id": "E53jHaY23E38"
      },
      "outputs": [],
      "source": [
        "# Filter for death overs\n",
        "death_overs_data = deliveries[deliveries['over'] >= 17]\n",
        "\n",
        "# Create target variable (e.g., bowler type)\n",
        "death_overs_data['bowler_type'] = death_overs_data['bowler'].apply(lambda x: 'Pace' if x in ['SM Curran', 'CJ Jordan'] else 'Spin')\n",
        "\n",
        "le_batsman = LabelEncoder()\n",
        "le_bowler = LabelEncoder()\n",
        "death_overs_data['batsman_encoded'] = le_batsman.fit_transform(death_overs_data['batsman'])\n",
        "death_overs_data['bowler_encoded'] = le_bowler.fit_transform(death_overs_data['bowler'])\n",
        "\n",
        "\n",
        "# Select features and target\n",
        "X = death_overs_data[['batsman_encoded', 'bowler_encoded', 'over', 'total_runs']]\n",
        "y = death_overs_data['bowler_type']\n",
        "\n",
        "# Train-test split\n",
        "X_train, X_test, y_train, y_test = train_test_split(X, y, test_size=0.2, random_state=42)\n",
        "\n",
        "# Train the model\n",
        "model = RandomForestClassifier(random_state=42)\n",
        "model.fit(X_train, y_train)\n",
        "\n",
        "# Predict on test data\n",
        "y_pred = model.predict(X_test)\n",
        "\n",
        "# Evaluate accuracy\n",
        "accuracy = accuracy_score(y_test, y_pred)\n",
        "print(f\"Model Accuracy: {accuracy}\")"
      ]
    },
    {
      "cell_type": "code",
      "execution_count": null,
      "metadata": {
        "id": "apzqCBFV37j3"
      },
      "outputs": [],
      "source": [
        "# Predict for a new match situation\n",
        "new_match_data = pd.DataFrame([{'batsman': 'AB de Villiers', 'bowler': 'M Pathirana', 'over': 18, 'total_runs': 150}])\n",
        "\n",
        "new_match_data['batsman_encoded'] = le_batsman.transform(new_match_data['batsman'])\n",
        "new_match_data['bowler_encoded'] = le_bowler.transform(new_match_data['bowler'])\n",
        "\n",
        "predicted_strategy = model.predict(new_match_data[['batsman_encoded', 'bowler_encoded', 'over', 'total_runs']])[0]\n",
        "print(f\"Predicted Bowling Strategy: {predicted_strategy}\")"
      ]
    },
    {
      "cell_type": "markdown",
      "metadata": {
        "id": "BPhoi3nsEuit"
      },
      "source": [
        "Team-Specific Strategy Model (e.g., CSK vs RCB)"
      ]
    },
    {
      "cell_type": "code",
      "execution_count": null,
      "metadata": {
        "id": "ce3uetNjDl_Z"
      },
      "outputs": [],
      "source": [
        "# Filter data for CSK vs RCB matchups\n",
        "csk_rcb_data = merged_df[\n",
        "    (merged_df['batting_team'] == 'Chennai Super Kings') &\n",
        "    (merged_df['bowling_team'] == 'Royal Challengers Bangalore')\n",
        "]"
      ]
    },
    {
      "cell_type": "code",
      "execution_count": null,
      "metadata": {
        "id": "myfM09y-Dod-"
      },
      "outputs": [],
      "source": [
        "# Select features and target\n",
        "features = ['venue_encoded', 'toss_encoded']  # Add or remove features as needed\n",
        "target = 'batting_strategy'  # Or any other strategy you want to model\n",
        "\n",
        "# Calculate run rate and assign batting strategy (similar to powerplay strategy)\n",
        "csk_rcb_data['total_runs'] = csk_rcb_data.groupby('matchId')['batsman_runs'].transform('sum')\n",
        "csk_rcb_data['total_balls'] = csk_rcb_data.groupby('matchId')['ball'].transform('count')\n",
        "csk_rcb_data['run_rate'] = (csk_rcb_data['total_runs'] / csk_rcb_data['total_balls']) * 6\n",
        "csk_rcb_data['batting_strategy'] = csk_rcb_data['run_rate'].apply(lambda x: 'Aggressive' if x > 9 else 'Conservative')\n",
        "\n",
        "X_csk_rcb = csk_rcb_data[features]\n",
        "y_csk_rcb = csk_rcb_data[target]"
      ]
    },
    {
      "cell_type": "code",
      "execution_count": null,
      "metadata": {
        "id": "d8IzAxcQDy80"
      },
      "outputs": [],
      "source": [
        "# Train a specialized model for CSK vs RCB\n",
        "csk_rcb_model = RandomForestClassifier(n_estimators=100, random_state=1)\n",
        "csk_rcb_model.fit(X_csk_rcb, y_csk_rcb)"
      ]
    },
    {
      "cell_type": "code",
      "execution_count": null,
      "metadata": {
        "id": "ueyMdOfDD1iJ"
      },
      "outputs": [],
      "source": [
        "# Predict using CSK-RCB context\n",
        "new_match_data = {\n",
        "    'venue': 'M Chinnaswamy Stadium',\n",
        "    'toss_decision': 'bat'\n",
        "}\n",
        "\n",
        "encoded_input_csk_rcb = [\n",
        "    le_venue.transform([new_match_data['venue']])[0],\n",
        "    le_toss.transform([new_match_data['toss_decision']])[0]\n",
        "]\n",
        "\n",
        "predicted_strategy = csk_rcb_model.predict([encoded_input_csk_rcb])[0]\n",
        "print(f\"Team-Specific Strategy (CSK vs RCB): {predicted_strategy}\")"
      ]
    },
    {
      "cell_type": "code",
      "execution_count": null,
      "metadata": {
        "id": "YJfov3bKFE1S"
      },
      "outputs": [],
      "source": [
        "import ipywidgets as widgets\n",
        "from IPython.display import display\n",
        "\n",
        "# Venue Selection\n",
        "venue_widget = widgets.Dropdown(\n",
        "    options=['Wankhede', 'Chepauk', 'Chinnaswamy'],\n",
        "    description='Venue:'\n",
        ")\n",
        "\n",
        "# Toss Decision\n",
        "toss_widget = widgets.Dropdown(\n",
        "    options=['bat', 'field'],\n",
        "    description='Toss Decision:'\n",
        ")\n",
        "\n",
        "\n",
        "team1_lineup_widget = widgets.SelectMultiple(\n",
        "    options=['CH Gayle', 'AB de Villiers', 'GJ Maxwell'],\n",
        "    description='Team 1 Lineup:'\n",
        ")\n",
        "\n",
        "team2_lineup_widget = widgets.SelectMultiple(\n",
        "    options=['DJ Bravo', 'JR Hazlewood', 'MJ Santner'],\n",
        "    description='Team 2 Lineup:'\n",
        ")\n",
        "\n",
        "# Display widgets\n",
        "display(venue_widget, toss_widget, team1_lineup_widget, team2_lineup_widget)"
      ]
    },
    {
      "cell_type": "code",
      "execution_count": null,
      "metadata": {
        "id": "YbYE8I8IF8rk"
      },
      "outputs": [],
      "source": [
        "def simulate_match_with_factors(start_state=(0, 0, 0), venue= 'M Chinnaswamy Stadium',\n",
        "                                 bowler_type='Pace', toss_decision='bat',\n",
        "                                 team1_lineup=[], team2_lineup=[]):\n",
        "    current_state = start_state\n",
        "    match_states = [current_state]\n",
        "\n",
        "\n",
        "    while current_state[2] < 120 and current_state[1] < 10:\n",
        "        if current_state in state_transitions:\n",
        "            next_states, probabilities = state_transitions[current_state]\n",
        "            probabilities = adjust_probabilities(current_state, next_states, probabilities, venue, bowler_type)\n",
        "\n",
        "            # Ensure next state's ball number doesn't exceed 120 and is unique\n",
        "            valid_next_states = [state for state in next_states\n",
        "                                 if state[2] <= 120 and state[2] > current_state[2]]\n",
        "            if valid_next_states:\n",
        "                # Adjust probabilities for valid states\n",
        "                valid_probabilities = [probabilities[next_states.index(state)] for state in valid_next_states]\n",
        "                # Normalize probabilities\n",
        "                valid_probabilities = np.array(valid_probabilities) / sum(valid_probabilities)\n",
        "\n",
        "                current_state = random.choices(valid_next_states, valid_probabilities)[0]\n",
        "                match_states.append(current_state)\n",
        "            else:\n",
        "                break  # No valid next states, end simulation\n",
        "        else:\n",
        "            break  # Current state not found in transitions, end simulation\n",
        "\n",
        "\n",
        "    return match_states"
      ]
    },
    {
      "cell_type": "code",
      "execution_count": null,
      "metadata": {
        "id": "SLW7uBmpGiNN"
      },
      "outputs": [],
      "source": [
        "import matplotlib.pyplot as plt\n",
        "button = widgets.Button(description=\"Simulate Match\")\n",
        "\n",
        "# Output widget to display results\n",
        "output = widgets.Output()\n",
        "\n",
        "def on_input_change(change):\n",
        "    with output:\n",
        "        output.clear_output(wait=True)  # Clear previous output\n",
        "\n",
        "        # Get values from input widgets\n",
        "        venue = venue_widget.value\n",
        "        toss_decision = toss_widget.value\n",
        "        team1_lineup = list(team1_lineup_widget.value)  # Convert to list\n",
        "        team2_lineup = list(team2_lineup_widget.value)  # Convert to list\n",
        "\n",
        "        # Run simulation with updated inputs\n",
        "        match = simulate_match_with_factors(venue=venue, bowler_type='Pace', # Or dynamic bowler type\n",
        "                                             toss_decision=toss_decision,\n",
        "                                             team1_lineup=team1_lineup,\n",
        "                                             team2_lineup=team2_lineup)\n",
        "\n",
        "        # ... (Process and visualize the simulation results) ...\n",
        "        df = pd.DataFrame(match, columns=[\"Runs\", \"Wickets\", \"Balls\"])\n",
        "        df = df[df['Balls'] <= 120]  # Add this line for filtering\n",
        "        df.sort_values(by=['Balls'], inplace=True)\n",
        "        df['Ball Number'] = df.index\n",
        "           # Plot Runs and Wickets\n",
        "        fig, axes = plt.subplots(1, 2, figsize=(14, 5))\n",
        "\n",
        "        # Runs vs Balls\n",
        "        axes[0].plot(df['Balls'], df['Runs'], color='blue')\n",
        "        axes[0].set_title('Runs vs Balls')\n",
        "        axes[0].set_xlabel('Balls')\n",
        "        axes[0].set_ylabel('Runs')\n",
        "\n",
        "        # Wickets vs Balls\n",
        "        axes[1].plot(df['Balls'], df['Wickets'], color='red')\n",
        "        axes[1].set_title('Wickets vs Balls')\n",
        "        axes[1].set_xlabel('Balls')\n",
        "        axes[1].set_ylabel('Wickets')\n",
        "\n",
        "        plt.tight_layout()\n",
        "        plt.show()\n",
        "\n",
        "button.on_click(on_button_clicked)\n",
        "\n",
        "# Observe widget changes and trigger simulation\n",
        "venue_widget.observe(on_input_change, names='value')\n",
        "toss_widget.observe(on_input_change, names='value')\n",
        "team1_lineup_widget.observe(on_input_change, names='value')\n",
        "team2_lineup_widget.observe(on_input_change, names='value')\n",
        "\n",
        "# Display the output area\n",
        "display(venue_widget, toss_widget, team1_lineup_widget, team2_lineup_widget, button, output)"
      ]
    },
    {
      "cell_type": "markdown",
      "metadata": {
        "id": "s_yjfzrAJ-iH"
      },
      "source": [
        "In high-stakes T20 matches, the ability to anticipate the opponent’s tactical moves (like death-over bowling plans or powerplay intent) gives teams a massive edge.\n",
        "\n",
        "Traditionally, this insight comes from manual analysis by coaches and video analysts — but that’s slow, inconsistent, and reactive.\n",
        "This project introduces an AI-powered tactical prediction engine that learns from team-specific behaviors, match situations, and venue factors to forecast how an opponent is likely to play — before the game begins or in real-time.\n",
        "\n",
        "\n",
        "We approached the problem in three parts:\n",
        "\n",
        "Data Collection\n",
        "\n",
        "Collected ball-by-ball data from IPL & T20 leagues\n",
        "\n",
        "Engineered features like match phase, opposition, venue, required run rate, batsmen type, bowler type\n",
        "\n",
        "Model Building\n",
        "\n",
        "For each phase (Powerplay, Middle Overs, Death Overs), trained classification models using:\n",
        "\n",
        "Random Forest for strategy type (e.g., yorker-heavy, bouncer-heavy, spin-rotation)\n",
        "\n",
        "XGBoost for decision trees when optimizing for tactical outcomes.\n",
        "\n",
        "CSK and RCB prepare for a tactical battle. RCB, predicted to be aggressive in the powerplay (100% model accuracy), aims for early dominance. CSK's middle-over strategy is less certain (100% accuracy) but leans towards spin. The death overs will likely see CSK rely on spin, predicted with 100% accuracy. A dedicated CSK vs RCB model also forecasts an aggressive approach from RCB.\n",
        "\n",
        "\n",
        "Team-Specific Strategy Model (e.g., CSK vs RCB)\n",
        "Under the Chinnaswamy Stadium lights, Chennai Super Kings and Royal Challengers Bangalore prepare for a tactical duel. Surprisingly, the data whispers a tale of caution. CSK, known for their calculated aggression, are predicted to adopt a conservative approach. Perhaps wary of RCB's formidable batting lineup on their home turf, they'll prioritize building a solid foundation, accumulating runs steadily rather than risking early wickets. This unexpected approach adds a layer of intrigue, leaving fans wondering if CSK's calculated restraint will outsmart RCB's firepower or if it'll backfire, allowing RCB to seize control. The stage is set for a captivating clash of contrasting strategies."
      ]
    }
  ],
  "metadata": {
    "colab": {
      "provenance": [],
      "include_colab_link": true
    },
    "kernelspec": {
      "display_name": "Python 3",
      "name": "python3"
    },
    "language_info": {
      "name": "python"
    }
  },
  "nbformat": 4,
  "nbformat_minor": 0
}